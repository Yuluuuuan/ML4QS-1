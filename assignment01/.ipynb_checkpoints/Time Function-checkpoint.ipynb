{
 "cells": [
  {
   "cell_type": "code",
   "execution_count": 11,
   "metadata": {},
   "outputs": [],
   "source": [
    "import pandas as pd\n",
    "import os"
   ]
  },
  {
   "cell_type": "code",
   "execution_count": 10,
   "metadata": {},
   "outputs": [],
   "source": [
    "rawdatapath = \"data/raw/\"\n",
    "outputpath = \"data/intermediate/\"\n",
    "timecol = \"Time (s)\"\n",
    "\n",
    "if not os.path.exists(outputpath):\n",
    "    print(\"Empty path, so creating...\" + outputpath + \"...done!\")\n",
    "    os.makedirs(outputpath)"
   ]
  },
  {
   "cell_type": "code",
   "execution_count": 25,
   "metadata": {},
   "outputs": [],
   "source": [
    "def convert_timestemp(data_path, time_path, time_col):\n",
    "    \n",
    "    data = pd.read_csv(data_path)#Obtain the data from the file\n",
    "    time = pd.read_csv(time_path)#Obtain the time from the file\n",
    "    \n",
    "    start_time = time[\"system time\"][0]#Obtain the starting time for the recording\n",
    "    data[time_col] = (data[time_col] + start_time) * 1e+9 #Convert the time from s to ns\n",
    "    \n",
    "    return data"
   ]
  },
  {
   "cell_type": "code",
   "execution_count": 20,
   "metadata": {},
   "outputs": [],
   "source": [
    "time_test1 = convert_time(rawdatapath + \"Accelerometer.csv\", rawdatapath + \"Accelerometer_time.csv\", timecol)"
   ]
  }
 ],
 "metadata": {
  "kernelspec": {
   "display_name": "Python 3",
   "language": "python",
   "name": "python3"
  },
  "language_info": {
   "codemirror_mode": {
    "name": "ipython",
    "version": 3
   },
   "file_extension": ".py",
   "mimetype": "text/x-python",
   "name": "python",
   "nbconvert_exporter": "python",
   "pygments_lexer": "ipython3",
   "version": "3.8.3"
  }
 },
 "nbformat": 4,
 "nbformat_minor": 4
}
