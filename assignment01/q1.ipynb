{
 "cells": [
  {
   "cell_type": "code",
   "execution_count": 1,
   "id": "47748394",
   "metadata": {},
   "outputs": [],
   "source": [
    "from Chapter2.CreateDataset import CreateDataset\n",
    "import pandas as pd\n",
    "import matplotlib.pyplot as plt\n",
    "import os\n",
    "import copy\n",
    "from util.VisualizeDataset import VisualizeDataset\n",
    "from util import util"
   ]
  },
  {
   "cell_type": "code",
   "execution_count": 2,
   "id": "1018741c",
   "metadata": {},
   "outputs": [],
   "source": [
    "rawdatapath = \"data/raw/\"\n",
    "outputpath = \"data/intermediate/\"\n",
    "\n",
    "if not os.path.exists(outputpath):\n",
    "    print(\"Empty path, so creating...\" + outputpath + \"...done!\")\n",
    "    os.makedirs(outputpath)"
   ]
  },
  {
   "cell_type": "code",
   "execution_count": 3,
   "id": "856189b6",
   "metadata": {},
   "outputs": [
    {
     "data": {
      "text/plain": [
       "['Acceleration x (m/s^2)', 'Acceleration y (m/s^2)', 'Acceleration z (m/s^2)']"
      ]
     },
     "execution_count": 3,
     "metadata": {},
     "output_type": "execute_result"
    }
   ],
   "source": [
    "accraw= pd.read_csv(rawdatapath+\"Accelerometer_raw.csv\")\n",
    "timecol = \"Time (s)\"\n",
    "accfeatures = list()\n",
    "for col in accraw:\n",
    "    if (col != timecol) and \\\n",
    "    (col != \"Absolute acceleration (m/s^2)\"):\n",
    "        accfeatures.append(col)\n",
    "accfeatures"
   ]
  },
  {
   "cell_type": "code",
   "execution_count": 4,
   "id": "e7a46e06",
   "metadata": {},
   "outputs": [
    {
     "data": {
      "text/plain": [
       "['Gyroscope x (rad/s)', 'Gyroscope y (rad/s)', 'Gyroscope z (rad/s)']"
      ]
     },
     "execution_count": 4,
     "metadata": {},
     "output_type": "execute_result"
    }
   ],
   "source": [
    "gyraw= pd.read_csv(rawdatapath+\"Gyroscope_raw.csv\")\n",
    "gyfeatures = list()\n",
    "for col in gyraw:\n",
    "    if (col != timecol) and \\\n",
    "    (col != \"Absolute (rad/s)\"):\n",
    "        gyfeatures.append(col)\n",
    "gyfeatures"
   ]
  },
  {
   "cell_type": "code",
   "execution_count": 5,
   "id": "f43680a6",
   "metadata": {},
   "outputs": [
    {
     "data": {
      "text/plain": [
       "['Illuminance (lx)']"
      ]
     },
     "execution_count": 5,
     "metadata": {},
     "output_type": "execute_result"
    }
   ],
   "source": [
    "lightraw= pd.read_csv(rawdatapath+\"Light_raw.csv\")\n",
    "lightfeatures = list()\n",
    "for col in lightraw:\n",
    "    if (col != timecol):\n",
    "        lightfeatures.append(col)\n",
    "lightfeatures"
   ]
  },
  {
   "cell_type": "code",
   "execution_count": 6,
   "id": "b7ee5020",
   "metadata": {},
   "outputs": [
    {
     "data": {
      "text/plain": [
       "['Latitude (°)',\n",
       " 'Longitude (°)',\n",
       " 'Altitude (m)',\n",
       " 'Altitude WGS84 (m)',\n",
       " 'Speed (m/s)',\n",
       " 'Direction (°)',\n",
       " 'Distance (km)',\n",
       " 'Horizontal Accuracy (m)',\n",
       " 'Vertical Accuracy (m)']"
      ]
     },
     "execution_count": 6,
     "metadata": {},
     "output_type": "execute_result"
    }
   ],
   "source": [
    "locraw= pd.read_csv(rawdatapath+\"Location_raw.csv\")\n",
    "locfeatures = list()\n",
    "for col in locraw:\n",
    "    if (col != timecol) and \\\n",
    "    (col != \"Satellites\"):\n",
    "        locfeatures.append(col)\n",
    "locfeatures"
   ]
  },
  {
   "cell_type": "code",
   "execution_count": 7,
   "id": "70d363e2",
   "metadata": {},
   "outputs": [
    {
     "data": {
      "text/plain": [
       "['Magnetic Field x (µT)', 'Magnetic Field y (µT)', 'Magnetic Field z (µT)']"
      ]
     },
     "execution_count": 7,
     "metadata": {},
     "output_type": "execute_result"
    }
   ],
   "source": [
    "magraw= pd.read_csv(rawdatapath+\"Magnetometer_raw.csv\")\n",
    "magfeatures = list()\n",
    "for col in magraw:\n",
    "    if (col != timecol) and \\\n",
    "    (col != \"Absolute field (µT)\"):\n",
    "        magfeatures.append(col)\n",
    "magfeatures"
   ]
  },
  {
   "cell_type": "code",
   "execution_count": 8,
   "id": "8f9e8310",
   "metadata": {},
   "outputs": [],
   "source": [
    "granularities = [60000, 250]\n",
    "datasets = []"
   ]
  },
  {
   "cell_type": "code",
   "execution_count": 9,
   "id": "29e4fb71",
   "metadata": {},
   "outputs": [
    {
     "name": "stdout",
     "output_type": "stream",
     "text": [
      "Reading data from Accelerometer_raw.csv\n",
      "Reading data from Gyroscope_raw.csv\n",
      "Reading data from Light_raw.csv\n",
      "Reading data from Location_raw.csv\n",
      "Reading data from Magnetometer_raw.csv\n",
      "Figure saved to figures\\figure_1.png\n"
     ]
    },
    {
     "data": {
      "image/png": "[encoded data removed]",
      "text/plain": [
       "<Figure size 432x288 with 1 Axes>"
      ]
     },
     "metadata": {
      "needs_background": "light"
     },
     "output_type": "display_data"
    },
    {
     "name": "stderr",
     "output_type": "stream",
     "text": [
      "C:\\Users\\Helia\\OneDrive\\VU-Cources\\Machine-Learning-for-the-Quantified-Self\\assignments\\ML4QS\\assignment01\\util\\VisualizeDataset.py:106: UserWarning: Attempting to set identical bottom == top == 46.24668850568213 results in singular transformations; automatically expanding.\n",
      "  max(max_values) + 0.1*(max(max_values) - min(min_values))])\n"
     ]
    },
    {
     "name": "stdout",
     "output_type": "stream",
     "text": [
      "Figure saved to figures\\figure_2.png\n"
     ]
    },
    {
     "data": {
      "image/png": "[encoded data removed]",
      "text/plain": [
       "<Figure size 432x288 with 5 Axes>"
      ]
     },
     "metadata": {
      "needs_background": "light"
     },
     "output_type": "display_data"
    },
    {
     "name": "stdout",
     "output_type": "stream",
     "text": [
      "       gyr_Gyroscope x (rad/s)  gyr_Gyroscope y (rad/s)  gyr_Gyroscope z (rad/s)  lux_Illuminance (lx)  loc_Latitude (°)  loc_Longitude (°)  loc_Altitude (m)  loc_Altitude WGS84 (m)  loc_Speed (m/s)  loc_Direction (°)  loc_Distance (km)  loc_Horizontal Accuracy (m)  loc_Vertical Accuracy (m)  mag_Magnetic Field x (µT)  mag_Magnetic Field y (µT)  mag_Magnetic Field z (µT)\n",
      "count                    1.000                    1.000                    1.000                 1.000               1.0                1.0             1.000                   1.000              1.0                1.0               1.00                        1.000                      1.000                      1.000                       1.00                      1.000\n",
      "mean                    -0.005                   -0.006                   -0.077                46.247              28.7              116.0            37.879                  33.473              0.0                0.0               0.07                       12.638                     17.675                     -3.169                      13.92                    -26.924\n",
      "std                        NaN                      NaN                      NaN                   NaN               NaN                NaN               NaN                     NaN              NaN                NaN                NaN                          NaN                        NaN                        NaN                        NaN                        NaN\n",
      "min                     -0.005                   -0.006                   -0.077                46.247              28.7              116.0            37.879                  33.473              0.0                0.0               0.07                       12.638                     17.675                     -3.169                      13.92                    -26.924\n",
      "25%                     -0.005                   -0.006                   -0.077                46.247              28.7              116.0            37.879                  33.473              0.0                0.0               0.07                       12.638                     17.675                     -3.169                      13.92                    -26.924\n",
      "50%                     -0.005                   -0.006                   -0.077                46.247              28.7              116.0            37.879                  33.473              0.0                0.0               0.07                       12.638                     17.675                     -3.169                      13.92                    -26.924\n",
      "75%                     -0.005                   -0.006                   -0.077                46.247              28.7              116.0            37.879                  33.473              0.0                0.0               0.07                       12.638                     17.675                     -3.169                      13.92                    -26.924\n",
      "max                     -0.005                   -0.006                   -0.077                46.247              28.7              116.0            37.879                  33.473              0.0                0.0               0.07                       12.638                     17.675                     -3.169                      13.92                    -26.924\n"
     ]
    }
   ],
   "source": [
    "for g in granularities:\n",
    "    \n",
    "    Dataset = CreateDataset(rawdatapath, g)\n",
    "\n",
    "    Dataset.add_numerical_dataset(\"Accelerometer_raw.csv\", timecol, accfeatures, \"avg\", \"acc_\")\n",
    "\n",
    "    Dataset.add_numerical_dataset(\"Gyroscope_raw.csv\", timecol, gyfeatures, \"avg\", \"gyr_\")\n",
    "    \n",
    "    Dataset.add_numerical_dataset(\"Light_raw.csv\", timecol, lightfeatures, \"avg\", \"lux_\")\n",
    "    \n",
    "    Dataset.add_numerical_dataset(\"Location_raw.csv\", timecol, locfeatures, \"avg\", \"loc_\")\n",
    "    \n",
    "    Dataset.add_numerical_dataset(\"Magnetometer_raw.csv\", timecol, magfeatures, \"avg\", \"mag_\")\n",
    "    #Dataset = accraw\n",
    "    dataset = Dataset.data_table\n",
    "    #print(dataset)\n",
    "    Dataviz = VisualizeDataset()\n",
    "    \n",
    "    Dataviz.plot_dataset_boxplot(dataset, ['acc_Acceleration x (m/s^2)', 'acc_Acceleration y (m/s^2)', 'acc_Acceleration z (m/s^2)'])\n",
    "    #Dataviz.plot_dataset_boxplot(dataset, ['acc_x', 'acc_y', 'acc_z'])\n",
    "    Dataviz.plot_dataset(dataset, [\"acc_\", \"gyr_\", \"lux_\", \"loc_\", \"mag_\"], \\\n",
    "                            [\"like\", \"like\", \"like\", \"like\", \"like\"], \\\n",
    "                            [\"line\", \"line\", \"line\", \"line\", \"line\"])\n",
    "    \n",
    "    util.print_statistics(dataset)\n",
    "    datasets.append(copy.deepcopy(dataset))"
   ]
  },
  {
   "cell_type": "code",
   "execution_count": 10,
   "id": "106e4aed",
   "metadata": {},
   "outputs": [
    {
     "ename": "IndexError",
     "evalue": "list index out of range",
     "output_type": "error",
     "traceback": [
      "\u001b[1;31m---------------------------------------------------------------------------\u001b[0m",
      "\u001b[1;31mIndexError\u001b[0m                                Traceback (most recent call last)",
      "\u001b[1;32m<ipython-input-10-441cb449a962>\u001b[0m in \u001b[0;36m<module>\u001b[1;34m\u001b[0m\n\u001b[1;32m----> 1\u001b[1;33m \u001b[0mutil\u001b[0m\u001b[1;33m.\u001b[0m\u001b[0mprint_latex_table_statistics_two_datasets\u001b[0m\u001b[1;33m(\u001b[0m\u001b[0mdatasets\u001b[0m\u001b[1;33m[\u001b[0m\u001b[1;36m0\u001b[0m\u001b[1;33m]\u001b[0m\u001b[1;33m,\u001b[0m \u001b[0mdatasets\u001b[0m\u001b[1;33m[\u001b[0m\u001b[1;36m1\u001b[0m\u001b[1;33m]\u001b[0m\u001b[1;33m)\u001b[0m\u001b[1;33m\u001b[0m\u001b[1;33m\u001b[0m\u001b[0m\n\u001b[0m\u001b[0;32m      2\u001b[0m \u001b[0mdataset\u001b[0m\u001b[1;33m.\u001b[0m\u001b[0mto_csv\u001b[0m\u001b[1;33m(\u001b[0m\u001b[0moutputpath\u001b[0m \u001b[1;33m+\u001b[0m \u001b[1;34m'chapter2_result.csv'\u001b[0m\u001b[1;33m)\u001b[0m\u001b[1;33m\u001b[0m\u001b[1;33m\u001b[0m\u001b[0m\n",
      "\u001b[1;31mIndexError\u001b[0m: list index out of range"
     ]
    }
   ],
   "source": [
    "util.print_latex_table_statistics_two_datasets(datasets[0], datasets[1])\n",
    "dataset.to_csv(outputpath + 'chapter2_result.csv')"
   ]
  },
  {
   "cell_type": "code",
   "execution_count": null,
   "id": "a3959936",
   "metadata": {},
   "outputs": [],
   "source": []
  }
 ],
 "metadata": {
  "kernelspec": {
   "display_name": "Python 3",
   "language": "python",
   "name": "python3"
  },
  "language_info": {
   "codemirror_mode": {
    "name": "ipython",
    "version": 3
   },
   "file_extension": ".py",
   "mimetype": "text/x-python",
   "name": "python",
   "nbconvert_exporter": "python",
   "pygments_lexer": "ipython3",
   "version": "3.7.9"
  }
 },
 "nbformat": 4,
 "nbformat_minor": 5
}
