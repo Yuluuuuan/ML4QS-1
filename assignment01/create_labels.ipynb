{
 "cells": [
  {
   "cell_type": "code",
   "execution_count": 1,
   "id": "f8079694",
   "metadata": {},
   "outputs": [],
   "source": [
    "import pandas as pd\n",
    "import csv"
   ]
  },
  {
   "cell_type": "code",
   "execution_count": 2,
   "id": "7ba4aea0",
   "metadata": {},
   "outputs": [
    {
     "data": {
      "text/html": [
       "<div>\n",
       "<style scoped>\n",
       "    .dataframe tbody tr th:only-of-type {\n",
       "        vertical-align: middle;\n",
       "    }\n",
       "\n",
       "    .dataframe tbody tr th {\n",
       "        vertical-align: top;\n",
       "    }\n",
       "\n",
       "    .dataframe thead th {\n",
       "        text-align: right;\n",
       "    }\n",
       "</style>\n",
       "<table border=\"1\" class=\"dataframe\">\n",
       "  <thead>\n",
       "    <tr style=\"text-align: right;\">\n",
       "      <th></th>\n",
       "      <th>event</th>\n",
       "      <th>experiment time</th>\n",
       "      <th>system time</th>\n",
       "      <th>system time text</th>\n",
       "    </tr>\n",
       "  </thead>\n",
       "  <tbody>\n",
       "    <tr>\n",
       "      <th>0</th>\n",
       "      <td>START</td>\n",
       "      <td>0.000000</td>\n",
       "      <td>1.622622e+09</td>\n",
       "      <td>2021-06-02 16:20:35.037 UTC+08:00</td>\n",
       "    </tr>\n",
       "    <tr>\n",
       "      <th>1</th>\n",
       "      <td>PAUSE</td>\n",
       "      <td>300.064326</td>\n",
       "      <td>1.622622e+09</td>\n",
       "      <td>2021-06-02 16:25:35.101 UTC+08:00</td>\n",
       "    </tr>\n",
       "  </tbody>\n",
       "</table>\n",
       "</div>"
      ],
      "text/plain": [
       "   event  experiment time   system time                   system time text\n",
       "0  START         0.000000  1.622622e+09  2021-06-02 16:20:35.037 UTC+08:00\n",
       "1  PAUSE       300.064326  1.622622e+09  2021-06-02 16:25:35.101 UTC+08:00"
      ]
     },
     "execution_count": 2,
     "metadata": {},
     "output_type": "execute_result"
    }
   ],
   "source": [
    "timedf = pd.read_csv(\"data/raw/time.csv\")\n",
    "timedf"
   ]
  },
  {
   "cell_type": "code",
   "execution_count": 3,
   "id": "9a64a327",
   "metadata": {},
   "outputs": [
    {
     "data": {
      "text/html": [
       "<div>\n",
       "<style scoped>\n",
       "    .dataframe tbody tr th:only-of-type {\n",
       "        vertical-align: middle;\n",
       "    }\n",
       "\n",
       "    .dataframe tbody tr th {\n",
       "        vertical-align: top;\n",
       "    }\n",
       "\n",
       "    .dataframe thead th {\n",
       "        text-align: right;\n",
       "    }\n",
       "</style>\n",
       "<table border=\"1\" class=\"dataframe\">\n",
       "  <thead>\n",
       "    <tr style=\"text-align: right;\">\n",
       "      <th></th>\n",
       "      <th>label</th>\n",
       "      <th>label_start</th>\n",
       "      <th>label_start_datetime</th>\n",
       "      <th>label_end</th>\n",
       "      <th>label_end_datetime</th>\n",
       "    </tr>\n",
       "  </thead>\n",
       "  <tbody>\n",
       "  </tbody>\n",
       "</table>\n",
       "</div>"
      ],
      "text/plain": [
       "Empty DataFrame\n",
       "Columns: [label, label_start, label_start_datetime, label_end, label_end_datetime]\n",
       "Index: []"
      ]
     },
     "execution_count": 3,
     "metadata": {},
     "output_type": "execute_result"
    }
   ],
   "source": [
    "col = [\"label\", \"label_start\", \"label_start_datetime\", \"label_end\", \"label_end_datetime\"]\n",
    "labeldf = pd.DataFrame(columns = col)\n",
    "labeldf"
   ]
  },
  {
   "cell_type": "code",
   "execution_count": 4,
   "id": "8ead3ae4",
   "metadata": {},
   "outputs": [
    {
     "data": {
      "text/html": [
       "<div>\n",
       "<style scoped>\n",
       "    .dataframe tbody tr th:only-of-type {\n",
       "        vertical-align: middle;\n",
       "    }\n",
       "\n",
       "    .dataframe tbody tr th {\n",
       "        vertical-align: top;\n",
       "    }\n",
       "\n",
       "    .dataframe thead th {\n",
       "        text-align: right;\n",
       "    }\n",
       "</style>\n",
       "<table border=\"1\" class=\"dataframe\">\n",
       "  <thead>\n",
       "    <tr style=\"text-align: right;\">\n",
       "      <th></th>\n",
       "      <th>label</th>\n",
       "      <th>label_start</th>\n",
       "      <th>label_start_datetime</th>\n",
       "      <th>label_end</th>\n",
       "      <th>label_end_datetime</th>\n",
       "    </tr>\n",
       "  </thead>\n",
       "  <tbody>\n",
       "    <tr>\n",
       "      <th>0</th>\n",
       "      <td>Standing</td>\n",
       "      <td>NaN</td>\n",
       "      <td>NaN</td>\n",
       "      <td>NaN</td>\n",
       "      <td>NaN</td>\n",
       "    </tr>\n",
       "    <tr>\n",
       "      <th>1</th>\n",
       "      <td>Walking</td>\n",
       "      <td>NaN</td>\n",
       "      <td>NaN</td>\n",
       "      <td>NaN</td>\n",
       "      <td>NaN</td>\n",
       "    </tr>\n",
       "    <tr>\n",
       "      <th>2</th>\n",
       "      <td>Running</td>\n",
       "      <td>NaN</td>\n",
       "      <td>NaN</td>\n",
       "      <td>NaN</td>\n",
       "      <td>NaN</td>\n",
       "    </tr>\n",
       "  </tbody>\n",
       "</table>\n",
       "</div>"
      ],
      "text/plain": [
       "      label label_start label_start_datetime label_end label_end_datetime\n",
       "0  Standing         NaN                  NaN       NaN                NaN\n",
       "1   Walking         NaN                  NaN       NaN                NaN\n",
       "2   Running         NaN                  NaN       NaN                NaN"
      ]
     },
     "execution_count": 4,
     "metadata": {},
     "output_type": "execute_result"
    }
   ],
   "source": [
    "labeldf[\"label\"] = [\"Standing\", \"Walking\",\"Running\"]\n",
    "labeldf"
   ]
  },
  {
   "cell_type": "code",
   "execution_count": 5,
   "id": "b3a069e2",
   "metadata": {},
   "outputs": [
    {
     "data": {
      "text/html": [
       "<div>\n",
       "<style scoped>\n",
       "    .dataframe tbody tr th:only-of-type {\n",
       "        vertical-align: middle;\n",
       "    }\n",
       "\n",
       "    .dataframe tbody tr th {\n",
       "        vertical-align: top;\n",
       "    }\n",
       "\n",
       "    .dataframe thead th {\n",
       "        text-align: right;\n",
       "    }\n",
       "</style>\n",
       "<table border=\"1\" class=\"dataframe\">\n",
       "  <thead>\n",
       "    <tr style=\"text-align: right;\">\n",
       "      <th></th>\n",
       "      <th>label</th>\n",
       "      <th>label_start</th>\n",
       "      <th>label_start_datetime</th>\n",
       "      <th>label_end</th>\n",
       "      <th>label_end_datetime</th>\n",
       "    </tr>\n",
       "  </thead>\n",
       "  <tbody>\n",
       "    <tr>\n",
       "      <th>0</th>\n",
       "      <td>Standing</td>\n",
       "      <td>1.622622e+18</td>\n",
       "      <td>NaN</td>\n",
       "      <td>1.622622e+18</td>\n",
       "      <td>NaN</td>\n",
       "    </tr>\n",
       "    <tr>\n",
       "      <th>1</th>\n",
       "      <td>Walking</td>\n",
       "      <td>1.622622e+18</td>\n",
       "      <td>NaN</td>\n",
       "      <td>1.622622e+18</td>\n",
       "      <td>NaN</td>\n",
       "    </tr>\n",
       "    <tr>\n",
       "      <th>2</th>\n",
       "      <td>Running</td>\n",
       "      <td>1.622622e+18</td>\n",
       "      <td>NaN</td>\n",
       "      <td>1.622622e+18</td>\n",
       "      <td>NaN</td>\n",
       "    </tr>\n",
       "  </tbody>\n",
       "</table>\n",
       "</div>"
      ],
      "text/plain": [
       "      label   label_start label_start_datetime     label_end  \\\n",
       "0  Standing  1.622622e+18                  NaN  1.622622e+18   \n",
       "1   Walking  1.622622e+18                  NaN  1.622622e+18   \n",
       "2   Running  1.622622e+18                  NaN  1.622622e+18   \n",
       "\n",
       "  label_end_datetime  \n",
       "0                NaN  \n",
       "1                NaN  \n",
       "2                NaN  "
      ]
     },
     "execution_count": 5,
     "metadata": {},
     "output_type": "execute_result"
    }
   ],
   "source": [
    "starttime = timedf[\"system time\"][0]\n",
    "endtime = timedf[\"system time\"][1]\n",
    "labeldf[\"label_start\"] = [0, 0.5, 0.8]\n",
    "labeldf[\"label_end\"] = [0, 0.6, 1]\n",
    "labeldf[\"label_start\"] = (labeldf[\"label_start\"] + starttime)*1e+9\n",
    "labeldf[\"label_end\"] = (labeldf[\"label_end\"] + endtime)*1e+9\n",
    "labeldf"
   ]
  },
  {
   "cell_type": "code",
   "execution_count": 6,
   "id": "a14045e6",
   "metadata": {},
   "outputs": [
    {
     "data": {
      "text/html": [
       "<div>\n",
       "<style scoped>\n",
       "    .dataframe tbody tr th:only-of-type {\n",
       "        vertical-align: middle;\n",
       "    }\n",
       "\n",
       "    .dataframe tbody tr th {\n",
       "        vertical-align: top;\n",
       "    }\n",
       "\n",
       "    .dataframe thead th {\n",
       "        text-align: right;\n",
       "    }\n",
       "</style>\n",
       "<table border=\"1\" class=\"dataframe\">\n",
       "  <thead>\n",
       "    <tr style=\"text-align: right;\">\n",
       "      <th></th>\n",
       "      <th>label</th>\n",
       "      <th>label_start</th>\n",
       "      <th>label_start_datetime</th>\n",
       "      <th>label_end</th>\n",
       "      <th>label_end_datetime</th>\n",
       "    </tr>\n",
       "  </thead>\n",
       "  <tbody>\n",
       "    <tr>\n",
       "      <th>0</th>\n",
       "      <td>Standing</td>\n",
       "      <td>1.622622e+18</td>\n",
       "      <td>2021-06-02 16:20:35</td>\n",
       "      <td>1.622622e+18</td>\n",
       "      <td>2021-06-02 16:23:35</td>\n",
       "    </tr>\n",
       "    <tr>\n",
       "      <th>1</th>\n",
       "      <td>Walking</td>\n",
       "      <td>1.622622e+18</td>\n",
       "      <td>2021-06-02 16:23:36</td>\n",
       "      <td>1.622622e+18</td>\n",
       "      <td>2021-06-02 16:24:55</td>\n",
       "    </tr>\n",
       "    <tr>\n",
       "      <th>2</th>\n",
       "      <td>Running</td>\n",
       "      <td>1.622622e+18</td>\n",
       "      <td>2021-06-02 16:24:56</td>\n",
       "      <td>1.622622e+18</td>\n",
       "      <td>2021-06-02 16:25:35</td>\n",
       "    </tr>\n",
       "  </tbody>\n",
       "</table>\n",
       "</div>"
      ],
      "text/plain": [
       "      label   label_start label_start_datetime     label_end  \\\n",
       "0  Standing  1.622622e+18  2021-06-02 16:20:35  1.622622e+18   \n",
       "1   Walking  1.622622e+18  2021-06-02 16:23:36  1.622622e+18   \n",
       "2   Running  1.622622e+18  2021-06-02 16:24:56  1.622622e+18   \n",
       "\n",
       "   label_end_datetime  \n",
       "0 2021-06-02 16:23:35  \n",
       "1 2021-06-02 16:24:55  \n",
       "2 2021-06-02 16:25:35  "
      ]
     },
     "execution_count": 6,
     "metadata": {},
     "output_type": "execute_result"
    }
   ],
   "source": [
    "start = [\"2021-06-02 16:20:35\", \"2021-06-02 16:23:36\",  \"2021-06-02 16:24:56\"]\n",
    "end = [\"2021-06-02 16:23:35\",\"2021-06-02 16:24:55\", \"2021-06-02 16:25:35\"]\n",
    "labeldf[\"label_start_datetime\"] = pd.to_datetime(start)\n",
    "labeldf[\"label_end_datetime\"] = pd.to_datetime(end)\n",
    "labeldf"
   ]
  },
  {
   "cell_type": "code",
   "execution_count": 7,
   "id": "474ba025",
   "metadata": {},
   "outputs": [],
   "source": [
    "labeldf.to_csv(\"data/raw/Label.csv\", index=False)"
   ]
  },
  {
   "cell_type": "code",
   "execution_count": null,
   "id": "1187ff64",
   "metadata": {},
   "outputs": [],
   "source": []
  }
 ],
 "metadata": {
  "kernelspec": {
   "display_name": "Python 3",
   "language": "python",
   "name": "python3"
  },
  "language_info": {
   "codemirror_mode": {
    "name": "ipython",
    "version": 3
   },
   "file_extension": ".py",
   "mimetype": "text/x-python",
   "name": "python",
   "nbconvert_exporter": "python",
   "pygments_lexer": "ipython3",
   "version": "3.7.9"
  }
 },
 "nbformat": 4,
 "nbformat_minor": 5
}
