{
 "cells": [
  {
   "cell_type": "code",
   "execution_count": 27,
   "metadata": {},
   "outputs": [],
   "source": [
    "import pandas as pd\n",
    "from datetime import datetime"
   ]
  },
  {
   "cell_type": "code",
   "execution_count": 28,
   "metadata": {},
   "outputs": [],
   "source": [
    "raw_data_path = \"data/raw_data/\"\n",
    "output_data_path = \"data/raw_data/processed_data/\""
   ]
  },
  {
   "cell_type": "code",
   "execution_count": 29,
   "metadata": {},
   "outputs": [],
   "source": [
    "labels = [\"_bike\", \"_dance\", \"_desk\", \"_run\", \"_sit\", \"_walk_i\", \"_walk_o\"]\n",
    "sensors = [\"Accelerometer\", \"Gyroscope\", \"Light\", \"Location\", \"Magnetometer\"]\n",
    "\n",
    "for sensor in sensors:\n",
    "    values = list()\n",
    "    for label in labels:\n",
    "        values.append(pd.read_csv(raw_data_path + f\"{sensor}{label}.csv\"))\n",
    "    data = pd.concat(values, keys=labels)\n",
    "    \n",
    "    for label in labels:\n",
    "        time = pd.read_csv(raw_data_path + f\"time{label}.csv\")\n",
    "        data.loc[[label], \"Time (s)\"] = (data.loc[[label], \"Time (s)\"] + time[\"system time\"][0]) * 1e+9\n",
    "        \n",
    "    data.to_csv(output_data_path + f\"{sensor}.csv\")"
   ]
  },
  {
   "cell_type": "code",
   "execution_count": 30,
   "metadata": {},
   "outputs": [],
   "source": [
    "# def transform_time(dataframe, labels):\n",
    "#     for i in range(len(labels) - 1):\n",
    "#         dataframe.loc[labels[i+1]][\"Time (s)\"] = dataframe.loc[labels[i+1]][\"Time (s)\"] + dataframe.loc[(labels[i], len(dataframe.loc[labels[i]])-1)][\"Time (s)\"]"
   ]
  },
  {
   "cell_type": "code",
   "execution_count": 31,
   "metadata": {},
   "outputs": [],
   "source": [
    "# for label in labels:\n",
    "#     time = pd.read_csv(raw_data_path + f\"time{label}.csv\")\n",
    "#     data.loc[[label], \"Time (s)\"] = (data.loc[[label], \"Time (s)\"] + time[\"system time\"][0]) * 1e+9"
   ]
  },
  {
   "cell_type": "code",
   "execution_count": 32,
   "metadata": {},
   "outputs": [
    {
     "data": {
      "text/html": [
       "<div>\n",
       "<style scoped>\n",
       "    .dataframe tbody tr th:only-of-type {\n",
       "        vertical-align: middle;\n",
       "    }\n",
       "\n",
       "    .dataframe tbody tr th {\n",
       "        vertical-align: top;\n",
       "    }\n",
       "\n",
       "    .dataframe thead th {\n",
       "        text-align: right;\n",
       "    }\n",
       "</style>\n",
       "<table border=\"1\" class=\"dataframe\">\n",
       "  <thead>\n",
       "    <tr style=\"text-align: right;\">\n",
       "      <th></th>\n",
       "      <th>label</th>\n",
       "      <th>label_start</th>\n",
       "      <th>label_start_datetime</th>\n",
       "      <th>label_end</th>\n",
       "      <th>label_end_datetime</th>\n",
       "    </tr>\n",
       "  </thead>\n",
       "  <tbody>\n",
       "    <tr>\n",
       "      <th>0</th>\n",
       "      <td>_bike</td>\n",
       "      <td>NaN</td>\n",
       "      <td>NaN</td>\n",
       "      <td>NaN</td>\n",
       "      <td>NaN</td>\n",
       "    </tr>\n",
       "    <tr>\n",
       "      <th>1</th>\n",
       "      <td>_dance</td>\n",
       "      <td>NaN</td>\n",
       "      <td>NaN</td>\n",
       "      <td>NaN</td>\n",
       "      <td>NaN</td>\n",
       "    </tr>\n",
       "    <tr>\n",
       "      <th>2</th>\n",
       "      <td>_desk</td>\n",
       "      <td>NaN</td>\n",
       "      <td>NaN</td>\n",
       "      <td>NaN</td>\n",
       "      <td>NaN</td>\n",
       "    </tr>\n",
       "    <tr>\n",
       "      <th>3</th>\n",
       "      <td>_run</td>\n",
       "      <td>NaN</td>\n",
       "      <td>NaN</td>\n",
       "      <td>NaN</td>\n",
       "      <td>NaN</td>\n",
       "    </tr>\n",
       "    <tr>\n",
       "      <th>4</th>\n",
       "      <td>_sit</td>\n",
       "      <td>NaN</td>\n",
       "      <td>NaN</td>\n",
       "      <td>NaN</td>\n",
       "      <td>NaN</td>\n",
       "    </tr>\n",
       "    <tr>\n",
       "      <th>5</th>\n",
       "      <td>_walk_i</td>\n",
       "      <td>NaN</td>\n",
       "      <td>NaN</td>\n",
       "      <td>NaN</td>\n",
       "      <td>NaN</td>\n",
       "    </tr>\n",
       "    <tr>\n",
       "      <th>6</th>\n",
       "      <td>_walk_o</td>\n",
       "      <td>NaN</td>\n",
       "      <td>NaN</td>\n",
       "      <td>NaN</td>\n",
       "      <td>NaN</td>\n",
       "    </tr>\n",
       "  </tbody>\n",
       "</table>\n",
       "</div>"
      ],
      "text/plain": [
       "     label label_start label_start_datetime label_end label_end_datetime\n",
       "0    _bike         NaN                  NaN       NaN                NaN\n",
       "1   _dance         NaN                  NaN       NaN                NaN\n",
       "2    _desk         NaN                  NaN       NaN                NaN\n",
       "3     _run         NaN                  NaN       NaN                NaN\n",
       "4     _sit         NaN                  NaN       NaN                NaN\n",
       "5  _walk_i         NaN                  NaN       NaN                NaN\n",
       "6  _walk_o         NaN                  NaN       NaN                NaN"
      ]
     },
     "execution_count": 32,
     "metadata": {},
     "output_type": "execute_result"
    }
   ],
   "source": [
    "col = [\"label\", \"label_start\", \"label_start_datetime\", \"label_end\", \"label_end_datetime\"]\n",
    "df_labels = pd.DataFrame(columns = col)\n",
    "df_labels[\"label\"] = labels\n",
    "df_labels"
   ]
  },
  {
   "cell_type": "code",
   "execution_count": 33,
   "metadata": {},
   "outputs": [
    {
     "name": "stderr",
     "output_type": "stream",
     "text": [
      "<ipython-input-33-beddcd6c6435>:5: DeprecationWarning: an integer is required (got type Series).  Implicit conversion to integers using __int__ is deprecated, and may be removed in a future version of Python.\n",
      "  df_labels.loc[index, \"label_start_datetime\"] = datetime.fromtimestamp(df_labels.loc[index, \"label_start\"] * 1e-9)\n",
      "<ipython-input-33-beddcd6c6435>:6: DeprecationWarning: an integer is required (got type Series).  Implicit conversion to integers using __int__ is deprecated, and may be removed in a future version of Python.\n",
      "  df_labels.loc[index, \"label_end_datetime\"] = datetime.fromtimestamp(df_labels.loc[index, \"label_end\"] * 1e-9)\n"
     ]
    }
   ],
   "source": [
    "for label in labels:\n",
    "    index = df_labels.index[df_labels[\"label\"] == label]\n",
    "    df_labels.loc[index, \"label_end\"] = data.loc[(label, len(data.loc[label])-1)][\"Time (s)\"]\n",
    "    df_labels.loc[index, \"label_start\"] = data.loc[(label, 0)][\"Time (s)\"]\n",
    "    df_labels.loc[index, \"label_start_datetime\"] = datetime.fromtimestamp(df_labels.loc[index, \"label_start\"] * 1e-9)\n",
    "    df_labels.loc[index, \"label_end_datetime\"] = datetime.fromtimestamp(df_labels.loc[index, \"label_end\"] * 1e-9)"
   ]
  },
  {
   "cell_type": "code",
   "execution_count": 34,
   "metadata": {},
   "outputs": [
    {
     "data": {
      "text/html": [
       "<div>\n",
       "<style scoped>\n",
       "    .dataframe tbody tr th:only-of-type {\n",
       "        vertical-align: middle;\n",
       "    }\n",
       "\n",
       "    .dataframe tbody tr th {\n",
       "        vertical-align: top;\n",
       "    }\n",
       "\n",
       "    .dataframe thead th {\n",
       "        text-align: right;\n",
       "    }\n",
       "</style>\n",
       "<table border=\"1\" class=\"dataframe\">\n",
       "  <thead>\n",
       "    <tr style=\"text-align: right;\">\n",
       "      <th></th>\n",
       "      <th>label</th>\n",
       "      <th>label_start</th>\n",
       "      <th>label_start_datetime</th>\n",
       "      <th>label_end</th>\n",
       "      <th>label_end_datetime</th>\n",
       "    </tr>\n",
       "  </thead>\n",
       "  <tbody>\n",
       "    <tr>\n",
       "      <th>0</th>\n",
       "      <td>_bike</td>\n",
       "      <td>1.62289e+18</td>\n",
       "      <td>2021-06-05 11:49:10</td>\n",
       "      <td>1.62289e+18</td>\n",
       "      <td>2021-06-05 11:54:10</td>\n",
       "    </tr>\n",
       "    <tr>\n",
       "      <th>1</th>\n",
       "      <td>_dance</td>\n",
       "      <td>1.62288e+18</td>\n",
       "      <td>2021-06-05 11:11:13</td>\n",
       "      <td>1.62288e+18</td>\n",
       "      <td>2021-06-05 11:16:13</td>\n",
       "    </tr>\n",
       "    <tr>\n",
       "      <th>2</th>\n",
       "      <td>_desk</td>\n",
       "      <td>1.62288e+18</td>\n",
       "      <td>2021-06-05 10:36:26</td>\n",
       "      <td>1.62288e+18</td>\n",
       "      <td>2021-06-05 10:41:26</td>\n",
       "    </tr>\n",
       "    <tr>\n",
       "      <th>3</th>\n",
       "      <td>_run</td>\n",
       "      <td>1.62288e+18</td>\n",
       "      <td>2021-06-05 11:21:43</td>\n",
       "      <td>1.62289e+18</td>\n",
       "      <td>2021-06-05 11:26:43</td>\n",
       "    </tr>\n",
       "    <tr>\n",
       "      <th>4</th>\n",
       "      <td>_sit</td>\n",
       "      <td>1.62288e+18</td>\n",
       "      <td>2021-06-05 10:44:08</td>\n",
       "      <td>1.62288e+18</td>\n",
       "      <td>2021-06-05 10:49:08</td>\n",
       "    </tr>\n",
       "    <tr>\n",
       "      <th>5</th>\n",
       "      <td>_walk_i</td>\n",
       "      <td>1.62288e+18</td>\n",
       "      <td>2021-06-05 10:58:55</td>\n",
       "      <td>1.62288e+18</td>\n",
       "      <td>2021-06-05 11:03:55</td>\n",
       "    </tr>\n",
       "    <tr>\n",
       "      <th>6</th>\n",
       "      <td>_walk_o</td>\n",
       "      <td>1.62289e+18</td>\n",
       "      <td>2021-06-05 11:36:30</td>\n",
       "      <td>1.62289e+18</td>\n",
       "      <td>2021-06-05 11:41:30</td>\n",
       "    </tr>\n",
       "  </tbody>\n",
       "</table>\n",
       "</div>"
      ],
      "text/plain": [
       "     label  label_start label_start_datetime    label_end   label_end_datetime\n",
       "0    _bike  1.62289e+18  2021-06-05 11:49:10  1.62289e+18  2021-06-05 11:54:10\n",
       "1   _dance  1.62288e+18  2021-06-05 11:11:13  1.62288e+18  2021-06-05 11:16:13\n",
       "2    _desk  1.62288e+18  2021-06-05 10:36:26  1.62288e+18  2021-06-05 10:41:26\n",
       "3     _run  1.62288e+18  2021-06-05 11:21:43  1.62289e+18  2021-06-05 11:26:43\n",
       "4     _sit  1.62288e+18  2021-06-05 10:44:08  1.62288e+18  2021-06-05 10:49:08\n",
       "5  _walk_i  1.62288e+18  2021-06-05 10:58:55  1.62288e+18  2021-06-05 11:03:55\n",
       "6  _walk_o  1.62289e+18  2021-06-05 11:36:30  1.62289e+18  2021-06-05 11:41:30"
      ]
     },
     "execution_count": 34,
     "metadata": {},
     "output_type": "execute_result"
    }
   ],
   "source": [
    "df_labels"
   ]
  },
  {
   "cell_type": "code",
   "execution_count": 35,
   "metadata": {},
   "outputs": [
    {
     "data": {
      "text/plain": [
       "Time (s)                 1.622887e+18\n",
       "Magnetic field x (µT)    1.890658e+01\n",
       "Magnetic field y (µT)    2.182514e+01\n",
       "Magnetic field z (µT)    4.033929e+01\n",
       "Name: (_bike, 30003), dtype: float64"
      ]
     },
     "execution_count": 35,
     "metadata": {},
     "output_type": "execute_result"
    }
   ],
   "source": [
    "data.loc[(\"_bike\", len(data.loc[\"_bike\"])-1)]"
   ]
  },
  {
   "cell_type": "code",
   "execution_count": 36,
   "metadata": {},
   "outputs": [],
   "source": [
    "# transform_time(data, labels)"
   ]
  },
  {
   "cell_type": "code",
   "execution_count": 37,
   "metadata": {},
   "outputs": [
    {
     "data": {
      "text/html": [
       "<div>\n",
       "<style scoped>\n",
       "    .dataframe tbody tr th:only-of-type {\n",
       "        vertical-align: middle;\n",
       "    }\n",
       "\n",
       "    .dataframe tbody tr th {\n",
       "        vertical-align: top;\n",
       "    }\n",
       "\n",
       "    .dataframe thead th {\n",
       "        text-align: right;\n",
       "    }\n",
       "</style>\n",
       "<table border=\"1\" class=\"dataframe\">\n",
       "  <thead>\n",
       "    <tr style=\"text-align: right;\">\n",
       "      <th></th>\n",
       "      <th></th>\n",
       "      <th>Time (s)</th>\n",
       "      <th>Magnetic field x (µT)</th>\n",
       "      <th>Magnetic field y (µT)</th>\n",
       "      <th>Magnetic field z (µT)</th>\n",
       "    </tr>\n",
       "  </thead>\n",
       "  <tbody>\n",
       "    <tr>\n",
       "      <th rowspan=\"5\" valign=\"top\">_bike</th>\n",
       "      <th>0</th>\n",
       "      <td>1.622887e+18</td>\n",
       "      <td>-3.834285</td>\n",
       "      <td>-4.060692</td>\n",
       "      <td>47.347328</td>\n",
       "    </tr>\n",
       "    <tr>\n",
       "      <th>1</th>\n",
       "      <td>1.622887e+18</td>\n",
       "      <td>-5.683531</td>\n",
       "      <td>-3.611732</td>\n",
       "      <td>49.617599</td>\n",
       "    </tr>\n",
       "    <tr>\n",
       "      <th>2</th>\n",
       "      <td>1.622887e+18</td>\n",
       "      <td>-6.761418</td>\n",
       "      <td>-2.745949</td>\n",
       "      <td>49.425995</td>\n",
       "    </tr>\n",
       "    <tr>\n",
       "      <th>3</th>\n",
       "      <td>1.622887e+18</td>\n",
       "      <td>-6.452922</td>\n",
       "      <td>-1.594421</td>\n",
       "      <td>47.253632</td>\n",
       "    </tr>\n",
       "    <tr>\n",
       "      <th>4</th>\n",
       "      <td>1.622887e+18</td>\n",
       "      <td>-5.686158</td>\n",
       "      <td>0.186157</td>\n",
       "      <td>47.252090</td>\n",
       "    </tr>\n",
       "    <tr>\n",
       "      <th>...</th>\n",
       "      <th>...</th>\n",
       "      <td>...</td>\n",
       "      <td>...</td>\n",
       "      <td>...</td>\n",
       "      <td>...</td>\n",
       "    </tr>\n",
       "    <tr>\n",
       "      <th rowspan=\"5\" valign=\"top\">_walk_o</th>\n",
       "      <th>29996</th>\n",
       "      <td>1.622886e+18</td>\n",
       "      <td>3.856511</td>\n",
       "      <td>43.539921</td>\n",
       "      <td>-10.894501</td>\n",
       "    </tr>\n",
       "    <tr>\n",
       "      <th>29997</th>\n",
       "      <td>1.622886e+18</td>\n",
       "      <td>5.548946</td>\n",
       "      <td>44.141338</td>\n",
       "      <td>-11.787949</td>\n",
       "    </tr>\n",
       "    <tr>\n",
       "      <th>29998</th>\n",
       "      <td>1.622886e+18</td>\n",
       "      <td>4.014687</td>\n",
       "      <td>42.616104</td>\n",
       "      <td>-13.665619</td>\n",
       "    </tr>\n",
       "    <tr>\n",
       "      <th>29999</th>\n",
       "      <td>1.622886e+18</td>\n",
       "      <td>3.555522</td>\n",
       "      <td>42.143715</td>\n",
       "      <td>-15.219223</td>\n",
       "    </tr>\n",
       "    <tr>\n",
       "      <th>30000</th>\n",
       "      <td>1.622886e+18</td>\n",
       "      <td>4.173385</td>\n",
       "      <td>41.685349</td>\n",
       "      <td>-16.900955</td>\n",
       "    </tr>\n",
       "  </tbody>\n",
       "</table>\n",
       "<p>210023 rows × 4 columns</p>\n",
       "</div>"
      ],
      "text/plain": [
       "                   Time (s)  Magnetic field x (µT)  Magnetic field y (µT)  \\\n",
       "_bike   0      1.622887e+18              -3.834285              -4.060692   \n",
       "        1      1.622887e+18              -5.683531              -3.611732   \n",
       "        2      1.622887e+18              -6.761418              -2.745949   \n",
       "        3      1.622887e+18              -6.452922              -1.594421   \n",
       "        4      1.622887e+18              -5.686158               0.186157   \n",
       "...                     ...                    ...                    ...   \n",
       "_walk_o 29996  1.622886e+18               3.856511              43.539921   \n",
       "        29997  1.622886e+18               5.548946              44.141338   \n",
       "        29998  1.622886e+18               4.014687              42.616104   \n",
       "        29999  1.622886e+18               3.555522              42.143715   \n",
       "        30000  1.622886e+18               4.173385              41.685349   \n",
       "\n",
       "               Magnetic field z (µT)  \n",
       "_bike   0                  47.347328  \n",
       "        1                  49.617599  \n",
       "        2                  49.425995  \n",
       "        3                  47.253632  \n",
       "        4                  47.252090  \n",
       "...                              ...  \n",
       "_walk_o 29996             -10.894501  \n",
       "        29997             -11.787949  \n",
       "        29998             -13.665619  \n",
       "        29999             -15.219223  \n",
       "        30000             -16.900955  \n",
       "\n",
       "[210023 rows x 4 columns]"
      ]
     },
     "execution_count": 37,
     "metadata": {},
     "output_type": "execute_result"
    }
   ],
   "source": [
    "data"
   ]
  },
  {
   "cell_type": "code",
   "execution_count": 38,
   "metadata": {},
   "outputs": [
    {
     "data": {
      "text/plain": [
       "0        3.245771e+18\n",
       "1        3.245771e+18\n",
       "2        3.245771e+18\n",
       "3        3.245771e+18\n",
       "4        3.245771e+18\n",
       "             ...     \n",
       "29999    3.245771e+18\n",
       "30000    3.245771e+18\n",
       "30001    3.245771e+18\n",
       "30002    3.245771e+18\n",
       "30003    3.245771e+18\n",
       "Name: Time (s), Length: 30004, dtype: float64"
      ]
     },
     "execution_count": 38,
     "metadata": {},
     "output_type": "execute_result"
    }
   ],
   "source": [
    "data.loc[\"_dance\"][\"Time (s)\"] + data.loc[(\"_bike\", len(data.loc[\"_bike\"])-1)][\"Time (s)\"]"
   ]
  },
  {
   "cell_type": "code",
   "execution_count": null,
   "metadata": {},
   "outputs": [],
   "source": []
  }
 ],
 "metadata": {
  "kernelspec": {
   "display_name": "Python 3",
   "language": "python",
   "name": "python3"
  },
  "language_info": {
   "codemirror_mode": {
    "name": "ipython",
    "version": 3
   },
   "file_extension": ".py",
   "mimetype": "text/x-python",
   "name": "python",
   "nbconvert_exporter": "python",
   "pygments_lexer": "ipython3",
   "version": "3.8.3"
  }
 },
 "nbformat": 4,
 "nbformat_minor": 4
}
