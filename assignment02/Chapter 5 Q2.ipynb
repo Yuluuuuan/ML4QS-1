{
 "cells": [
  {
   "cell_type": "code",
   "execution_count": 1,
   "metadata": {},
   "outputs": [],
   "source": [
    "from Chapter5.DistanceMetrics import InstanceDistanceMetrics\n",
    "from Chapter5.DistanceMetrics import PersonDistanceMetricsNoOrdering\n",
    "from Chapter5.DistanceMetrics import PersonDistanceMetricsOrdering\n",
    "from Chapter5.Clustering import NonHierarchicalClustering\n",
    "from Chapter5.Clustering import HierarchicalClustering\n",
    "import util.util as util\n",
    "from util.VisualizeDataset import VisualizeDataset\n",
    "\n",
    "import sys\n",
    "import copy\n",
    "import numpy as np\n",
    "import pandas as pd\n",
    "import matplotlib.pyplot as plt\n",
    "from pathlib import Path\n",
    "import argparse"
   ]
  },
  {
   "cell_type": "code",
   "execution_count": 2,
   "metadata": {},
   "outputs": [
    {
     "data": {
      "text/html": [
       "<div>\n",
       "<style scoped>\n",
       "    .dataframe tbody tr th:only-of-type {\n",
       "        vertical-align: middle;\n",
       "    }\n",
       "\n",
       "    .dataframe tbody tr th {\n",
       "        vertical-align: top;\n",
       "    }\n",
       "\n",
       "    .dataframe thead th {\n",
       "        text-align: right;\n",
       "    }\n",
       "</style>\n",
       "<table border=\"1\" class=\"dataframe\">\n",
       "  <thead>\n",
       "    <tr style=\"text-align: right;\">\n",
       "      <th></th>\n",
       "      <th>acc_Acceleration x (m/s^2)</th>\n",
       "      <th>acc_Acceleration y (m/s^2)</th>\n",
       "      <th>acc_Acceleration z (m/s^2)</th>\n",
       "      <th>gyr_Gyroscope x (rad/s)</th>\n",
       "      <th>gyr_Gyroscope y (rad/s)</th>\n",
       "      <th>gyr_Gyroscope z (rad/s)</th>\n",
       "      <th>lux_Illuminance (lx)</th>\n",
       "      <th>loc_Latitude (°)</th>\n",
       "      <th>loc_Longitude (°)</th>\n",
       "      <th>loc_Velocity (m/s)</th>\n",
       "      <th>mag_Magnetic field x (µT)</th>\n",
       "      <th>mag_Magnetic field y (µT)</th>\n",
       "      <th>mag_Magnetic field z (µT)</th>\n",
       "      <th>labelbike</th>\n",
       "      <th>labeldance</th>\n",
       "      <th>labeldesk</th>\n",
       "      <th>labelrun</th>\n",
       "      <th>labelsit</th>\n",
       "      <th>labelwalki</th>\n",
       "      <th>labelwalko</th>\n",
       "    </tr>\n",
       "  </thead>\n",
       "  <tbody>\n",
       "    <tr>\n",
       "      <th>2021-06-05 08:36:26.816535552</th>\n",
       "      <td>0.036547</td>\n",
       "      <td>-0.413988</td>\n",
       "      <td>9.933076</td>\n",
       "      <td>0.000925</td>\n",
       "      <td>0.001020</td>\n",
       "      <td>0.000860</td>\n",
       "      <td>NaN</td>\n",
       "      <td>52.334314</td>\n",
       "      <td>4.866964</td>\n",
       "      <td>0.0</td>\n",
       "      <td>-42.480555</td>\n",
       "      <td>-29.510528</td>\n",
       "      <td>-53.944618</td>\n",
       "      <td>0</td>\n",
       "      <td>0</td>\n",
       "      <td>1</td>\n",
       "      <td>0</td>\n",
       "      <td>0</td>\n",
       "      <td>0</td>\n",
       "      <td>0</td>\n",
       "    </tr>\n",
       "    <tr>\n",
       "      <th>2021-06-05 08:36:27.066535552</th>\n",
       "      <td>0.038458</td>\n",
       "      <td>-0.410600</td>\n",
       "      <td>9.926204</td>\n",
       "      <td>0.001178</td>\n",
       "      <td>0.000995</td>\n",
       "      <td>0.000796</td>\n",
       "      <td>NaN</td>\n",
       "      <td>NaN</td>\n",
       "      <td>NaN</td>\n",
       "      <td>NaN</td>\n",
       "      <td>-42.042138</td>\n",
       "      <td>-29.635504</td>\n",
       "      <td>-54.179348</td>\n",
       "      <td>0</td>\n",
       "      <td>0</td>\n",
       "      <td>1</td>\n",
       "      <td>0</td>\n",
       "      <td>0</td>\n",
       "      <td>0</td>\n",
       "      <td>0</td>\n",
       "    </tr>\n",
       "    <tr>\n",
       "      <th>2021-06-05 08:36:27.316535552</th>\n",
       "      <td>0.040394</td>\n",
       "      <td>-0.413093</td>\n",
       "      <td>9.926906</td>\n",
       "      <td>0.001111</td>\n",
       "      <td>0.000943</td>\n",
       "      <td>0.000502</td>\n",
       "      <td>NaN</td>\n",
       "      <td>NaN</td>\n",
       "      <td>NaN</td>\n",
       "      <td>NaN</td>\n",
       "      <td>-42.356174</td>\n",
       "      <td>-29.556420</td>\n",
       "      <td>-54.101409</td>\n",
       "      <td>0</td>\n",
       "      <td>0</td>\n",
       "      <td>1</td>\n",
       "      <td>0</td>\n",
       "      <td>0</td>\n",
       "      <td>0</td>\n",
       "      <td>0</td>\n",
       "    </tr>\n",
       "    <tr>\n",
       "      <th>2021-06-05 08:36:27.566535552</th>\n",
       "      <td>0.037950</td>\n",
       "      <td>-0.412318</td>\n",
       "      <td>9.926228</td>\n",
       "      <td>0.001102</td>\n",
       "      <td>0.000940</td>\n",
       "      <td>0.000633</td>\n",
       "      <td>NaN</td>\n",
       "      <td>NaN</td>\n",
       "      <td>NaN</td>\n",
       "      <td>NaN</td>\n",
       "      <td>-42.442798</td>\n",
       "      <td>-29.204040</td>\n",
       "      <td>-54.113833</td>\n",
       "      <td>0</td>\n",
       "      <td>0</td>\n",
       "      <td>1</td>\n",
       "      <td>0</td>\n",
       "      <td>0</td>\n",
       "      <td>0</td>\n",
       "      <td>0</td>\n",
       "    </tr>\n",
       "    <tr>\n",
       "      <th>2021-06-05 08:36:27.816535552</th>\n",
       "      <td>0.034974</td>\n",
       "      <td>-0.409512</td>\n",
       "      <td>9.931890</td>\n",
       "      <td>0.001243</td>\n",
       "      <td>0.001234</td>\n",
       "      <td>0.000796</td>\n",
       "      <td>NaN</td>\n",
       "      <td>NaN</td>\n",
       "      <td>NaN</td>\n",
       "      <td>NaN</td>\n",
       "      <td>-42.515800</td>\n",
       "      <td>-29.500013</td>\n",
       "      <td>-54.508421</td>\n",
       "      <td>0</td>\n",
       "      <td>0</td>\n",
       "      <td>1</td>\n",
       "      <td>0</td>\n",
       "      <td>0</td>\n",
       "      <td>0</td>\n",
       "      <td>0</td>\n",
       "    </tr>\n",
       "    <tr>\n",
       "      <th>...</th>\n",
       "      <td>...</td>\n",
       "      <td>...</td>\n",
       "      <td>...</td>\n",
       "      <td>...</td>\n",
       "      <td>...</td>\n",
       "      <td>...</td>\n",
       "      <td>...</td>\n",
       "      <td>...</td>\n",
       "      <td>...</td>\n",
       "      <td>...</td>\n",
       "      <td>...</td>\n",
       "      <td>...</td>\n",
       "      <td>...</td>\n",
       "      <td>...</td>\n",
       "      <td>...</td>\n",
       "      <td>...</td>\n",
       "      <td>...</td>\n",
       "      <td>...</td>\n",
       "      <td>...</td>\n",
       "      <td>...</td>\n",
       "    </tr>\n",
       "    <tr>\n",
       "      <th>2021-06-05 09:54:09.316535552</th>\n",
       "      <td>-1.206271</td>\n",
       "      <td>-2.998419</td>\n",
       "      <td>-6.653096</td>\n",
       "      <td>-1.909578</td>\n",
       "      <td>-0.268146</td>\n",
       "      <td>0.427650</td>\n",
       "      <td>NaN</td>\n",
       "      <td>NaN</td>\n",
       "      <td>NaN</td>\n",
       "      <td>NaN</td>\n",
       "      <td>16.972640</td>\n",
       "      <td>28.263506</td>\n",
       "      <td>39.380895</td>\n",
       "      <td>1</td>\n",
       "      <td>0</td>\n",
       "      <td>0</td>\n",
       "      <td>0</td>\n",
       "      <td>0</td>\n",
       "      <td>0</td>\n",
       "      <td>0</td>\n",
       "    </tr>\n",
       "    <tr>\n",
       "      <th>2021-06-05 09:54:09.566535552</th>\n",
       "      <td>-0.339301</td>\n",
       "      <td>-3.701383</td>\n",
       "      <td>-6.518320</td>\n",
       "      <td>2.835989</td>\n",
       "      <td>0.443934</td>\n",
       "      <td>-0.038863</td>\n",
       "      <td>NaN</td>\n",
       "      <td>NaN</td>\n",
       "      <td>NaN</td>\n",
       "      <td>NaN</td>\n",
       "      <td>17.563350</td>\n",
       "      <td>31.381466</td>\n",
       "      <td>35.527515</td>\n",
       "      <td>1</td>\n",
       "      <td>0</td>\n",
       "      <td>0</td>\n",
       "      <td>0</td>\n",
       "      <td>0</td>\n",
       "      <td>0</td>\n",
       "      <td>0</td>\n",
       "    </tr>\n",
       "    <tr>\n",
       "      <th>2021-06-05 09:54:09.816535552</th>\n",
       "      <td>-0.247886</td>\n",
       "      <td>-11.119357</td>\n",
       "      <td>-8.390665</td>\n",
       "      <td>0.886565</td>\n",
       "      <td>-0.109226</td>\n",
       "      <td>0.003588</td>\n",
       "      <td>NaN</td>\n",
       "      <td>NaN</td>\n",
       "      <td>NaN</td>\n",
       "      <td>NaN</td>\n",
       "      <td>18.865706</td>\n",
       "      <td>39.960369</td>\n",
       "      <td>10.103960</td>\n",
       "      <td>1</td>\n",
       "      <td>0</td>\n",
       "      <td>0</td>\n",
       "      <td>0</td>\n",
       "      <td>0</td>\n",
       "      <td>0</td>\n",
       "      <td>0</td>\n",
       "    </tr>\n",
       "    <tr>\n",
       "      <th>2021-06-05 09:54:10.066535552</th>\n",
       "      <td>-0.393865</td>\n",
       "      <td>-8.937173</td>\n",
       "      <td>-7.247199</td>\n",
       "      <td>-2.348488</td>\n",
       "      <td>-0.453024</td>\n",
       "      <td>-0.030903</td>\n",
       "      <td>NaN</td>\n",
       "      <td>NaN</td>\n",
       "      <td>NaN</td>\n",
       "      <td>NaN</td>\n",
       "      <td>15.334604</td>\n",
       "      <td>35.668764</td>\n",
       "      <td>20.007892</td>\n",
       "      <td>1</td>\n",
       "      <td>0</td>\n",
       "      <td>0</td>\n",
       "      <td>0</td>\n",
       "      <td>0</td>\n",
       "      <td>0</td>\n",
       "      <td>0</td>\n",
       "    </tr>\n",
       "    <tr>\n",
       "      <th>2021-06-05 09:54:10.316535552</th>\n",
       "      <td>-1.155990</td>\n",
       "      <td>-2.045602</td>\n",
       "      <td>-8.425775</td>\n",
       "      <td>-3.139658</td>\n",
       "      <td>-0.324610</td>\n",
       "      <td>0.946257</td>\n",
       "      <td>NaN</td>\n",
       "      <td>NaN</td>\n",
       "      <td>NaN</td>\n",
       "      <td>NaN</td>\n",
       "      <td>16.391535</td>\n",
       "      <td>25.557630</td>\n",
       "      <td>37.731481</td>\n",
       "      <td>1</td>\n",
       "      <td>0</td>\n",
       "      <td>0</td>\n",
       "      <td>0</td>\n",
       "      <td>0</td>\n",
       "      <td>0</td>\n",
       "      <td>0</td>\n",
       "    </tr>\n",
       "  </tbody>\n",
       "</table>\n",
       "<p>18655 rows × 20 columns</p>\n",
       "</div>"
      ],
      "text/plain": [
       "                               acc_Acceleration x (m/s^2)  \\\n",
       "2021-06-05 08:36:26.816535552                    0.036547   \n",
       "2021-06-05 08:36:27.066535552                    0.038458   \n",
       "2021-06-05 08:36:27.316535552                    0.040394   \n",
       "2021-06-05 08:36:27.566535552                    0.037950   \n",
       "2021-06-05 08:36:27.816535552                    0.034974   \n",
       "...                                                   ...   \n",
       "2021-06-05 09:54:09.316535552                   -1.206271   \n",
       "2021-06-05 09:54:09.566535552                   -0.339301   \n",
       "2021-06-05 09:54:09.816535552                   -0.247886   \n",
       "2021-06-05 09:54:10.066535552                   -0.393865   \n",
       "2021-06-05 09:54:10.316535552                   -1.155990   \n",
       "\n",
       "                               acc_Acceleration y (m/s^2)  \\\n",
       "2021-06-05 08:36:26.816535552                   -0.413988   \n",
       "2021-06-05 08:36:27.066535552                   -0.410600   \n",
       "2021-06-05 08:36:27.316535552                   -0.413093   \n",
       "2021-06-05 08:36:27.566535552                   -0.412318   \n",
       "2021-06-05 08:36:27.816535552                   -0.409512   \n",
       "...                                                   ...   \n",
       "2021-06-05 09:54:09.316535552                   -2.998419   \n",
       "2021-06-05 09:54:09.566535552                   -3.701383   \n",
       "2021-06-05 09:54:09.816535552                  -11.119357   \n",
       "2021-06-05 09:54:10.066535552                   -8.937173   \n",
       "2021-06-05 09:54:10.316535552                   -2.045602   \n",
       "\n",
       "                               acc_Acceleration z (m/s^2)  \\\n",
       "2021-06-05 08:36:26.816535552                    9.933076   \n",
       "2021-06-05 08:36:27.066535552                    9.926204   \n",
       "2021-06-05 08:36:27.316535552                    9.926906   \n",
       "2021-06-05 08:36:27.566535552                    9.926228   \n",
       "2021-06-05 08:36:27.816535552                    9.931890   \n",
       "...                                                   ...   \n",
       "2021-06-05 09:54:09.316535552                   -6.653096   \n",
       "2021-06-05 09:54:09.566535552                   -6.518320   \n",
       "2021-06-05 09:54:09.816535552                   -8.390665   \n",
       "2021-06-05 09:54:10.066535552                   -7.247199   \n",
       "2021-06-05 09:54:10.316535552                   -8.425775   \n",
       "\n",
       "                               gyr_Gyroscope x (rad/s)  \\\n",
       "2021-06-05 08:36:26.816535552                 0.000925   \n",
       "2021-06-05 08:36:27.066535552                 0.001178   \n",
       "2021-06-05 08:36:27.316535552                 0.001111   \n",
       "2021-06-05 08:36:27.566535552                 0.001102   \n",
       "2021-06-05 08:36:27.816535552                 0.001243   \n",
       "...                                                ...   \n",
       "2021-06-05 09:54:09.316535552                -1.909578   \n",
       "2021-06-05 09:54:09.566535552                 2.835989   \n",
       "2021-06-05 09:54:09.816535552                 0.886565   \n",
       "2021-06-05 09:54:10.066535552                -2.348488   \n",
       "2021-06-05 09:54:10.316535552                -3.139658   \n",
       "\n",
       "                               gyr_Gyroscope y (rad/s)  \\\n",
       "2021-06-05 08:36:26.816535552                 0.001020   \n",
       "2021-06-05 08:36:27.066535552                 0.000995   \n",
       "2021-06-05 08:36:27.316535552                 0.000943   \n",
       "2021-06-05 08:36:27.566535552                 0.000940   \n",
       "2021-06-05 08:36:27.816535552                 0.001234   \n",
       "...                                                ...   \n",
       "2021-06-05 09:54:09.316535552                -0.268146   \n",
       "2021-06-05 09:54:09.566535552                 0.443934   \n",
       "2021-06-05 09:54:09.816535552                -0.109226   \n",
       "2021-06-05 09:54:10.066535552                -0.453024   \n",
       "2021-06-05 09:54:10.316535552                -0.324610   \n",
       "\n",
       "                               gyr_Gyroscope z (rad/s)  lux_Illuminance (lx)  \\\n",
       "2021-06-05 08:36:26.816535552                 0.000860                   NaN   \n",
       "2021-06-05 08:36:27.066535552                 0.000796                   NaN   \n",
       "2021-06-05 08:36:27.316535552                 0.000502                   NaN   \n",
       "2021-06-05 08:36:27.566535552                 0.000633                   NaN   \n",
       "2021-06-05 08:36:27.816535552                 0.000796                   NaN   \n",
       "...                                                ...                   ...   \n",
       "2021-06-05 09:54:09.316535552                 0.427650                   NaN   \n",
       "2021-06-05 09:54:09.566535552                -0.038863                   NaN   \n",
       "2021-06-05 09:54:09.816535552                 0.003588                   NaN   \n",
       "2021-06-05 09:54:10.066535552                -0.030903                   NaN   \n",
       "2021-06-05 09:54:10.316535552                 0.946257                   NaN   \n",
       "\n",
       "                               loc_Latitude (°)  loc_Longitude (°)  \\\n",
       "2021-06-05 08:36:26.816535552         52.334314           4.866964   \n",
       "2021-06-05 08:36:27.066535552               NaN                NaN   \n",
       "2021-06-05 08:36:27.316535552               NaN                NaN   \n",
       "2021-06-05 08:36:27.566535552               NaN                NaN   \n",
       "2021-06-05 08:36:27.816535552               NaN                NaN   \n",
       "...                                         ...                ...   \n",
       "2021-06-05 09:54:09.316535552               NaN                NaN   \n",
       "2021-06-05 09:54:09.566535552               NaN                NaN   \n",
       "2021-06-05 09:54:09.816535552               NaN                NaN   \n",
       "2021-06-05 09:54:10.066535552               NaN                NaN   \n",
       "2021-06-05 09:54:10.316535552               NaN                NaN   \n",
       "\n",
       "                               loc_Velocity (m/s)  mag_Magnetic field x (µT)  \\\n",
       "2021-06-05 08:36:26.816535552                 0.0                 -42.480555   \n",
       "2021-06-05 08:36:27.066535552                 NaN                 -42.042138   \n",
       "2021-06-05 08:36:27.316535552                 NaN                 -42.356174   \n",
       "2021-06-05 08:36:27.566535552                 NaN                 -42.442798   \n",
       "2021-06-05 08:36:27.816535552                 NaN                 -42.515800   \n",
       "...                                           ...                        ...   \n",
       "2021-06-05 09:54:09.316535552                 NaN                  16.972640   \n",
       "2021-06-05 09:54:09.566535552                 NaN                  17.563350   \n",
       "2021-06-05 09:54:09.816535552                 NaN                  18.865706   \n",
       "2021-06-05 09:54:10.066535552                 NaN                  15.334604   \n",
       "2021-06-05 09:54:10.316535552                 NaN                  16.391535   \n",
       "\n",
       "                               mag_Magnetic field y (µT)  \\\n",
       "2021-06-05 08:36:26.816535552                 -29.510528   \n",
       "2021-06-05 08:36:27.066535552                 -29.635504   \n",
       "2021-06-05 08:36:27.316535552                 -29.556420   \n",
       "2021-06-05 08:36:27.566535552                 -29.204040   \n",
       "2021-06-05 08:36:27.816535552                 -29.500013   \n",
       "...                                                  ...   \n",
       "2021-06-05 09:54:09.316535552                  28.263506   \n",
       "2021-06-05 09:54:09.566535552                  31.381466   \n",
       "2021-06-05 09:54:09.816535552                  39.960369   \n",
       "2021-06-05 09:54:10.066535552                  35.668764   \n",
       "2021-06-05 09:54:10.316535552                  25.557630   \n",
       "\n",
       "                               mag_Magnetic field z (µT)  labelbike  \\\n",
       "2021-06-05 08:36:26.816535552                 -53.944618          0   \n",
       "2021-06-05 08:36:27.066535552                 -54.179348          0   \n",
       "2021-06-05 08:36:27.316535552                 -54.101409          0   \n",
       "2021-06-05 08:36:27.566535552                 -54.113833          0   \n",
       "2021-06-05 08:36:27.816535552                 -54.508421          0   \n",
       "...                                                  ...        ...   \n",
       "2021-06-05 09:54:09.316535552                  39.380895          1   \n",
       "2021-06-05 09:54:09.566535552                  35.527515          1   \n",
       "2021-06-05 09:54:09.816535552                  10.103960          1   \n",
       "2021-06-05 09:54:10.066535552                  20.007892          1   \n",
       "2021-06-05 09:54:10.316535552                  37.731481          1   \n",
       "\n",
       "                               labeldance  labeldesk  labelrun  labelsit  \\\n",
       "2021-06-05 08:36:26.816535552           0          1         0         0   \n",
       "2021-06-05 08:36:27.066535552           0          1         0         0   \n",
       "2021-06-05 08:36:27.316535552           0          1         0         0   \n",
       "2021-06-05 08:36:27.566535552           0          1         0         0   \n",
       "2021-06-05 08:36:27.816535552           0          1         0         0   \n",
       "...                                   ...        ...       ...       ...   \n",
       "2021-06-05 09:54:09.316535552           0          0         0         0   \n",
       "2021-06-05 09:54:09.566535552           0          0         0         0   \n",
       "2021-06-05 09:54:09.816535552           0          0         0         0   \n",
       "2021-06-05 09:54:10.066535552           0          0         0         0   \n",
       "2021-06-05 09:54:10.316535552           0          0         0         0   \n",
       "\n",
       "                               labelwalki  labelwalko  \n",
       "2021-06-05 08:36:26.816535552           0           0  \n",
       "2021-06-05 08:36:27.066535552           0           0  \n",
       "2021-06-05 08:36:27.316535552           0           0  \n",
       "2021-06-05 08:36:27.566535552           0           0  \n",
       "2021-06-05 08:36:27.816535552           0           0  \n",
       "...                                   ...         ...  \n",
       "2021-06-05 09:54:09.316535552           0           0  \n",
       "2021-06-05 09:54:09.566535552           0           0  \n",
       "2021-06-05 09:54:09.816535552           0           0  \n",
       "2021-06-05 09:54:10.066535552           0           0  \n",
       "2021-06-05 09:54:10.316535552           0           0  \n",
       "\n",
       "[18655 rows x 20 columns]"
      ]
     },
     "execution_count": 2,
     "metadata": {},
     "output_type": "execute_result"
    }
   ],
   "source": [
    "dataset_path = 'data/raw_data/processed_data/ch5__own_dataset.csv'\n",
    "dataset = pd.read_csv(dataset_path, index_col=0)\n",
    "dataset"
   ]
  },
  {
   "cell_type": "code",
   "execution_count": 3,
   "metadata": {},
   "outputs": [],
   "source": [
    "DataViz = VisualizeDataset()\n",
    "\n",
    "clusteringNH = NonHierarchicalClustering()\n",
    "clusteringH = HierarchicalClustering()"
   ]
  },
  {
   "cell_type": "markdown",
   "metadata": {},
   "source": [
    "# Acceleration"
   ]
  },
  {
   "cell_type": "code",
   "execution_count": 4,
   "metadata": {},
   "outputs": [],
   "source": [
    "acc_dataset = dataset.dropna(subset = ['acc_Acceleration x (m/s^2)', 'acc_Acceleration y (m/s^2)', 'acc_Acceleration z (m/s^2)'])"
   ]
  },
  {
   "cell_type": "markdown",
   "metadata": {},
   "source": [
    "## K-means"
   ]
  },
  {
   "cell_type": "code",
   "execution_count": 5,
   "metadata": {},
   "outputs": [
    {
     "name": "stdout",
     "output_type": "stream",
     "text": [
      "k = 2\n",
      "silhouette = 0.600614123531503\n",
      "k = 3\n",
      "silhouette = 0.5931541551898986\n",
      "k = 4\n",
      "silhouette = 0.5089891060734605\n",
      "k = 5\n",
      "silhouette = 0.5261769419890443\n",
      "k = 6\n",
      "silhouette = 0.5212119373701838\n",
      "k = 7\n",
      "silhouette = 0.5237229679300296\n",
      "k = 8\n",
      "silhouette = 0.5420692861054625\n",
      "k = 9\n",
      "silhouette = 0.5386376268733689\n"
     ]
    }
   ],
   "source": [
    "k_values = range(2, 10)\n",
    "silhouette_values = []\n",
    "\n",
    "for k in k_values:\n",
    "    print(f'k = {k}')\n",
    "    dataset_cluster = clusteringNH.k_means_over_instances(copy.deepcopy(\n",
    "        acc_dataset), ['acc_Acceleration x (m/s^2)', 'acc_Acceleration y (m/s^2)', 'acc_Acceleration z (m/s^2)'], k, 'default', 20, 10)\n",
    "    silhouette_score = dataset_cluster['silhouette'].mean()\n",
    "    print(f'silhouette = {silhouette_score}')\n",
    "    silhouette_values.append(silhouette_score)"
   ]
  },
  {
   "cell_type": "code",
   "execution_count": 6,
   "metadata": {},
   "outputs": [
    {
     "name": "stdout",
     "output_type": "stream",
     "text": [
      "Figure saved to figures/figure_1.png\n"
     ]
    },
    {
     "data": {
      "image/png": "[encoded data removed]",
      "text/plain": [
       "<Figure size 432x288 with 1 Axes>"
      ]
     },
     "metadata": {
      "needs_background": "light"
     },
     "output_type": "display_data"
    },
    {
     "name": "stdout",
     "output_type": "stream",
     "text": [
      "Highest K-Means silhouette score: k = 2\n"
     ]
    }
   ],
   "source": [
    "DataViz.plot_xy(x=[k_values], y=[silhouette_values], \n",
    "                xlabel='k', ylabel='silhouette score',ylim=[0, 1], line_styles=['b-'])\n",
    "k = k_values[np.argmax(silhouette_values)]\n",
    "print(f'Highest K-Means silhouette score: k = {k}')"
   ]
  },
  {
   "cell_type": "markdown",
   "metadata": {},
   "source": [
    "## Kmediods"
   ]
  },
  {
   "cell_type": "code",
   "execution_count": 7,
   "metadata": {},
   "outputs": [
    {
     "name": "stdout",
     "output_type": "stream",
     "text": [
      "k = 2\n",
      "silhouette = 0.5968087341849494\n",
      "k = 3\n",
      "silhouette = 0.5572673295288485\n",
      "k = 4\n",
      "silhouette = 0.4075073758234911\n",
      "k = 5\n",
      "silhouette = 0.4058196233999192\n",
      "k = 6\n",
      "silhouette = 0.43855266622068706\n",
      "k = 7\n",
      "silhouette = 0.4116311352803792\n",
      "k = 8\n",
      "silhouette = 0.4292191634852292\n",
      "k = 9\n",
      "silhouette = 0.3965748890886206\n"
     ]
    }
   ],
   "source": [
    "k_values = range(2, 10)\n",
    "silhouette_values = []\n",
    "\n",
    "for k in k_values:\n",
    "    print(f'k = {k}')\n",
    "    dataset_cluster = clusteringNH.k_medoids_over_instances(copy.deepcopy(\n",
    "        acc_dataset), ['acc_Acceleration x (m/s^2)', 'acc_Acceleration y (m/s^2)', 'acc_Acceleration z (m/s^2)'], k, 'default', 20, n_inits=10)\n",
    "    silhouette_score = dataset_cluster['silhouette'].mean()\n",
    "    print(f'silhouette = {silhouette_score}')\n",
    "    silhouette_values.append(silhouette_score)"
   ]
  },
  {
   "cell_type": "code",
   "execution_count": 8,
   "metadata": {},
   "outputs": [
    {
     "name": "stdout",
     "output_type": "stream",
     "text": [
      "Figure saved to figures/figure_2.png\n"
     ]
    },
    {
     "data": {
      "image/png": "[encoded data removed]",
      "text/plain": [
       "<Figure size 432x288 with 1 Axes>"
      ]
     },
     "metadata": {
      "needs_background": "light"
     },
     "output_type": "display_data"
    },
    {
     "name": "stdout",
     "output_type": "stream",
     "text": [
      "Highest K-Medoids silhouette score: k = 2\n",
      "Figure saved to figures/figure_3.png\n"
     ]
    },
    {
     "data": {
      "image/png": "[encoded data removed]",
      "text/plain": [
       "<Figure size 432x288 with 1 Axes>"
      ]
     },
     "metadata": {
      "needs_background": "light"
     },
     "output_type": "display_data"
    },
    {
     "name": "stdout",
     "output_type": "stream",
     "text": [
      "Figure saved to figures/figure_4.png\n"
     ]
    },
    {
     "data": {
      "image/png": "[encoded data removed]",
      "text/plain": [
       "<Figure size 432x288 with 1 Axes>"
      ]
     },
     "metadata": {
      "needs_background": "light"
     },
     "output_type": "display_data"
    },
    {
     "name": "stdout",
     "output_type": "stream",
     "text": [
      "\\multirow{2}{*}{ acc_Acceleration x (m/s^2) } & mean  &  0.34 &  -0.76\\\\\n",
      " & std  &  1.43 &  1.76\\\\\n",
      "\\multirow{2}{*}{ acc_Acceleration y (m/s^2) } & mean  &  -0.35 &  -8.40\\\\\n",
      " & std  &  1.21 &  4.25\\\\\n",
      "\\multirow{2}{*}{ acc_Acceleration z (m/s^2) } & mean  &  9.64 &  -3.61\\\\\n",
      " & std  &  1.45 &  3.95\\\\\n",
      "labelbike  & percentage  &  0.00 \\% &  100.00 \\%\\\\\n",
      "labeldance  & percentage  &  4.00 \\% &  96.00 \\%\\\\\n",
      "labeldesk  & percentage  &  100.00 \\% &  0.00 \\%\\\\\n",
      "labelrun  & percentage  &  1.92 \\% &  98.08 \\%\\\\\n",
      "labelsit  & percentage  &  0.00 \\% &  100.00 \\%\\\\\n",
      "labelwalki  & percentage  &  3.66 \\% &  96.34 \\%\\\\\n",
      "labelwalko  & percentage  &  0.00 \\% &  100.00 \\%\\\\\n"
     ]
    }
   ],
   "source": [
    "DataViz.plot_xy(x=[k_values], y=[silhouette_values], xlabel='k', ylabel='silhouette score',\n",
    "                ylim=[0, 1], line_styles=['b-'])\n",
    "\n",
    "k = k_values[np.argmax(silhouette_values)]\n",
    "print(f'Highest K-Medoids silhouette score: k = {k}')\n",
    "\n",
    "dataset_kmed = clusteringNH.k_medoids_over_instances(copy.deepcopy(acc_dataset), \n",
    "                                                     ['acc_Acceleration x (m/s^2)', 'acc_Acceleration y (m/s^2)', 'acc_Acceleration z (m/s^2)'], \n",
    "                                                     k, 'default', 20, n_inits=50)\n",
    "DataViz.plot_clusters_3d(dataset_kmed, ['acc_Acceleration x (m/s^2)', 'acc_Acceleration y (m/s^2)', 'acc_Acceleration z (m/s^2)'], 'cluster', ['label'])\n",
    "DataViz.plot_silhouette(dataset_kmed, 'cluster', 'silhouette')\n",
    "util.print_latex_statistics_clusters(dataset_kmed, 'cluster', \n",
    "                                     ['acc_Acceleration x (m/s^2)', 'acc_Acceleration y (m/s^2)', 'acc_Acceleration z (m/s^2)'], 'label')"
   ]
  },
  {
   "cell_type": "markdown",
   "metadata": {},
   "source": [
    "## hierarchical"
   ]
  },
  {
   "cell_type": "code",
   "execution_count": 22,
   "metadata": {},
   "outputs": [
    {
     "name": "stdout",
     "output_type": "stream",
     "text": [
      "k = 2\n"
     ]
    },
    {
     "name": "stderr",
     "output_type": "stream",
     "text": [
      "/home/udy/Documents/University/Year1P6/MLFQS/Code/ML4QS/assignment02/Chapter5/Clustering.py:319: SettingWithCopyWarning: \n",
      "A value is trying to be set on a copy of a slice from a DataFrame.\n",
      "Try using .loc[row_indexer,col_indexer] = value instead\n",
      "\n",
      "See the caveats in the documentation: https://pandas.pydata.org/pandas-docs/stable/user_guide/indexing.html#returning-a-view-versus-a-copy\n",
      "  dataset['cluster'] = cluster_assignment\n",
      "/home/udy/Documents/University/Year1P6/MLFQS/Code/ML4QS/assignment02/Chapter5/Clustering.py:322: SettingWithCopyWarning: \n",
      "A value is trying to be set on a copy of a slice from a DataFrame.\n",
      "Try using .loc[row_indexer,col_indexer] = value instead\n",
      "\n",
      "See the caveats in the documentation: https://pandas.pydata.org/pandas-docs/stable/user_guide/indexing.html#returning-a-view-versus-a-copy\n",
      "  dataset['silhouette'] = silhouette_per_inst\n"
     ]
    },
    {
     "name": "stdout",
     "output_type": "stream",
     "text": [
      "silhouette = 0.5952643005238815\n",
      "k = 3\n"
     ]
    },
    {
     "name": "stderr",
     "output_type": "stream",
     "text": [
      "/home/udy/Documents/University/Year1P6/MLFQS/Code/ML4QS/assignment02/Chapter5/Clustering.py:319: SettingWithCopyWarning: \n",
      "A value is trying to be set on a copy of a slice from a DataFrame.\n",
      "Try using .loc[row_indexer,col_indexer] = value instead\n",
      "\n",
      "See the caveats in the documentation: https://pandas.pydata.org/pandas-docs/stable/user_guide/indexing.html#returning-a-view-versus-a-copy\n",
      "  dataset['cluster'] = cluster_assignment\n",
      "/home/udy/Documents/University/Year1P6/MLFQS/Code/ML4QS/assignment02/Chapter5/Clustering.py:322: SettingWithCopyWarning: \n",
      "A value is trying to be set on a copy of a slice from a DataFrame.\n",
      "Try using .loc[row_indexer,col_indexer] = value instead\n",
      "\n",
      "See the caveats in the documentation: https://pandas.pydata.org/pandas-docs/stable/user_guide/indexing.html#returning-a-view-versus-a-copy\n",
      "  dataset['silhouette'] = silhouette_per_inst\n"
     ]
    },
    {
     "name": "stdout",
     "output_type": "stream",
     "text": [
      "silhouette = 0.5916737382199445\n",
      "k = 4\n"
     ]
    },
    {
     "name": "stderr",
     "output_type": "stream",
     "text": [
      "/home/udy/Documents/University/Year1P6/MLFQS/Code/ML4QS/assignment02/Chapter5/Clustering.py:319: SettingWithCopyWarning: \n",
      "A value is trying to be set on a copy of a slice from a DataFrame.\n",
      "Try using .loc[row_indexer,col_indexer] = value instead\n",
      "\n",
      "See the caveats in the documentation: https://pandas.pydata.org/pandas-docs/stable/user_guide/indexing.html#returning-a-view-versus-a-copy\n",
      "  dataset['cluster'] = cluster_assignment\n",
      "/home/udy/Documents/University/Year1P6/MLFQS/Code/ML4QS/assignment02/Chapter5/Clustering.py:322: SettingWithCopyWarning: \n",
      "A value is trying to be set on a copy of a slice from a DataFrame.\n",
      "Try using .loc[row_indexer,col_indexer] = value instead\n",
      "\n",
      "See the caveats in the documentation: https://pandas.pydata.org/pandas-docs/stable/user_guide/indexing.html#returning-a-view-versus-a-copy\n",
      "  dataset['silhouette'] = silhouette_per_inst\n"
     ]
    },
    {
     "name": "stdout",
     "output_type": "stream",
     "text": [
      "silhouette = 0.4495945636367112\n",
      "k = 5\n"
     ]
    },
    {
     "name": "stderr",
     "output_type": "stream",
     "text": [
      "/home/udy/Documents/University/Year1P6/MLFQS/Code/ML4QS/assignment02/Chapter5/Clustering.py:319: SettingWithCopyWarning: \n",
      "A value is trying to be set on a copy of a slice from a DataFrame.\n",
      "Try using .loc[row_indexer,col_indexer] = value instead\n",
      "\n",
      "See the caveats in the documentation: https://pandas.pydata.org/pandas-docs/stable/user_guide/indexing.html#returning-a-view-versus-a-copy\n",
      "  dataset['cluster'] = cluster_assignment\n",
      "/home/udy/Documents/University/Year1P6/MLFQS/Code/ML4QS/assignment02/Chapter5/Clustering.py:322: SettingWithCopyWarning: \n",
      "A value is trying to be set on a copy of a slice from a DataFrame.\n",
      "Try using .loc[row_indexer,col_indexer] = value instead\n",
      "\n",
      "See the caveats in the documentation: https://pandas.pydata.org/pandas-docs/stable/user_guide/indexing.html#returning-a-view-versus-a-copy\n",
      "  dataset['silhouette'] = silhouette_per_inst\n"
     ]
    },
    {
     "name": "stdout",
     "output_type": "stream",
     "text": [
      "silhouette = 0.4866037019789448\n",
      "k = 6\n"
     ]
    },
    {
     "name": "stderr",
     "output_type": "stream",
     "text": [
      "/home/udy/Documents/University/Year1P6/MLFQS/Code/ML4QS/assignment02/Chapter5/Clustering.py:319: SettingWithCopyWarning: \n",
      "A value is trying to be set on a copy of a slice from a DataFrame.\n",
      "Try using .loc[row_indexer,col_indexer] = value instead\n",
      "\n",
      "See the caveats in the documentation: https://pandas.pydata.org/pandas-docs/stable/user_guide/indexing.html#returning-a-view-versus-a-copy\n",
      "  dataset['cluster'] = cluster_assignment\n",
      "/home/udy/Documents/University/Year1P6/MLFQS/Code/ML4QS/assignment02/Chapter5/Clustering.py:322: SettingWithCopyWarning: \n",
      "A value is trying to be set on a copy of a slice from a DataFrame.\n",
      "Try using .loc[row_indexer,col_indexer] = value instead\n",
      "\n",
      "See the caveats in the documentation: https://pandas.pydata.org/pandas-docs/stable/user_guide/indexing.html#returning-a-view-versus-a-copy\n",
      "  dataset['silhouette'] = silhouette_per_inst\n"
     ]
    },
    {
     "name": "stdout",
     "output_type": "stream",
     "text": [
      "silhouette = 0.4833837467717718\n",
      "k = 7\n"
     ]
    },
    {
     "name": "stderr",
     "output_type": "stream",
     "text": [
      "/home/udy/Documents/University/Year1P6/MLFQS/Code/ML4QS/assignment02/Chapter5/Clustering.py:319: SettingWithCopyWarning: \n",
      "A value is trying to be set on a copy of a slice from a DataFrame.\n",
      "Try using .loc[row_indexer,col_indexer] = value instead\n",
      "\n",
      "See the caveats in the documentation: https://pandas.pydata.org/pandas-docs/stable/user_guide/indexing.html#returning-a-view-versus-a-copy\n",
      "  dataset['cluster'] = cluster_assignment\n",
      "/home/udy/Documents/University/Year1P6/MLFQS/Code/ML4QS/assignment02/Chapter5/Clustering.py:322: SettingWithCopyWarning: \n",
      "A value is trying to be set on a copy of a slice from a DataFrame.\n",
      "Try using .loc[row_indexer,col_indexer] = value instead\n",
      "\n",
      "See the caveats in the documentation: https://pandas.pydata.org/pandas-docs/stable/user_guide/indexing.html#returning-a-view-versus-a-copy\n",
      "  dataset['silhouette'] = silhouette_per_inst\n"
     ]
    },
    {
     "name": "stdout",
     "output_type": "stream",
     "text": [
      "silhouette = 0.4809843444932612\n",
      "k = 8\n"
     ]
    },
    {
     "name": "stderr",
     "output_type": "stream",
     "text": [
      "/home/udy/Documents/University/Year1P6/MLFQS/Code/ML4QS/assignment02/Chapter5/Clustering.py:319: SettingWithCopyWarning: \n",
      "A value is trying to be set on a copy of a slice from a DataFrame.\n",
      "Try using .loc[row_indexer,col_indexer] = value instead\n",
      "\n",
      "See the caveats in the documentation: https://pandas.pydata.org/pandas-docs/stable/user_guide/indexing.html#returning-a-view-versus-a-copy\n",
      "  dataset['cluster'] = cluster_assignment\n",
      "/home/udy/Documents/University/Year1P6/MLFQS/Code/ML4QS/assignment02/Chapter5/Clustering.py:322: SettingWithCopyWarning: \n",
      "A value is trying to be set on a copy of a slice from a DataFrame.\n",
      "Try using .loc[row_indexer,col_indexer] = value instead\n",
      "\n",
      "See the caveats in the documentation: https://pandas.pydata.org/pandas-docs/stable/user_guide/indexing.html#returning-a-view-versus-a-copy\n",
      "  dataset['silhouette'] = silhouette_per_inst\n"
     ]
    },
    {
     "name": "stdout",
     "output_type": "stream",
     "text": [
      "silhouette = 0.511577722821265\n",
      "k = 9\n"
     ]
    },
    {
     "name": "stderr",
     "output_type": "stream",
     "text": [
      "/home/udy/Documents/University/Year1P6/MLFQS/Code/ML4QS/assignment02/Chapter5/Clustering.py:319: SettingWithCopyWarning: \n",
      "A value is trying to be set on a copy of a slice from a DataFrame.\n",
      "Try using .loc[row_indexer,col_indexer] = value instead\n",
      "\n",
      "See the caveats in the documentation: https://pandas.pydata.org/pandas-docs/stable/user_guide/indexing.html#returning-a-view-versus-a-copy\n",
      "  dataset['cluster'] = cluster_assignment\n"
     ]
    },
    {
     "name": "stdout",
     "output_type": "stream",
     "text": [
      "silhouette = 0.5177175159489604\n"
     ]
    },
    {
     "name": "stderr",
     "output_type": "stream",
     "text": [
      "/home/udy/Documents/University/Year1P6/MLFQS/Code/ML4QS/assignment02/Chapter5/Clustering.py:322: SettingWithCopyWarning: \n",
      "A value is trying to be set on a copy of a slice from a DataFrame.\n",
      "Try using .loc[row_indexer,col_indexer] = value instead\n",
      "\n",
      "See the caveats in the documentation: https://pandas.pydata.org/pandas-docs/stable/user_guide/indexing.html#returning-a-view-versus-a-copy\n",
      "  dataset['silhouette'] = silhouette_per_inst\n"
     ]
    }
   ],
   "source": [
    "k_values = range(2, 10)\n",
    "silhouette_values = []\n",
    "\n",
    "for k in k_values:\n",
    "    print(f'k = {k}')\n",
    "    dataset_cluster, l = clusteringH.agglomerative_over_instances(acc_dataset, \n",
    "                                                          ['acc_Acceleration x (m/s^2)', 'acc_Acceleration y (m/s^2)', 'acc_Acceleration z (m/s^2)'], \n",
    "                                                          k, 'euclidean', \n",
    "                                                          link_function='ward')\n",
    "    silhouette_score = dataset_cluster['silhouette'].mean()\n",
    "    print(f'silhouette = {silhouette_score}')\n",
    "    silhouette_values.append(silhouette_score)"
   ]
  },
  {
   "cell_type": "code",
   "execution_count": 23,
   "metadata": {},
   "outputs": [
    {
     "name": "stdout",
     "output_type": "stream",
     "text": [
      "Figure saved to figures/figure_11.png\n"
     ]
    },
    {
     "data": {
      "image/png": "[encoded data removed]",
      "text/plain": [
       "<Figure size 432x288 with 1 Axes>"
      ]
     },
     "metadata": {
      "needs_background": "light"
     },
     "output_type": "display_data"
    }
   ],
   "source": [
    "if k == k_values[0]:\n",
    "        DataViz.plot_dendrogram(acc_dataset, l)\n",
    "DataViz.plot_xy(x=[k_values], y=[silhouette_values], xlabel='k', ylabel='silhouette score',\n",
    "                ylim=[0, 1], line_styles=['b-'])"
   ]
  },
  {
   "cell_type": "markdown",
   "metadata": {},
   "source": [
    "# Gyroscope"
   ]
  },
  {
   "cell_type": "code",
   "execution_count": 18,
   "metadata": {},
   "outputs": [
    {
     "data": {
      "text/html": [
       "<div>\n",
       "<style scoped>\n",
       "    .dataframe tbody tr th:only-of-type {\n",
       "        vertical-align: middle;\n",
       "    }\n",
       "\n",
       "    .dataframe tbody tr th {\n",
       "        vertical-align: top;\n",
       "    }\n",
       "\n",
       "    .dataframe thead th {\n",
       "        text-align: right;\n",
       "    }\n",
       "</style>\n",
       "<table border=\"1\" class=\"dataframe\">\n",
       "  <thead>\n",
       "    <tr style=\"text-align: right;\">\n",
       "      <th></th>\n",
       "      <th>acc_Acceleration x (m/s^2)</th>\n",
       "      <th>acc_Acceleration y (m/s^2)</th>\n",
       "      <th>acc_Acceleration z (m/s^2)</th>\n",
       "      <th>gyr_Gyroscope x (rad/s)</th>\n",
       "      <th>gyr_Gyroscope y (rad/s)</th>\n",
       "      <th>gyr_Gyroscope z (rad/s)</th>\n",
       "      <th>lux_Illuminance (lx)</th>\n",
       "      <th>loc_Latitude (°)</th>\n",
       "      <th>loc_Longitude (°)</th>\n",
       "      <th>loc_Velocity (m/s)</th>\n",
       "      <th>mag_Magnetic field x (µT)</th>\n",
       "      <th>mag_Magnetic field y (µT)</th>\n",
       "      <th>mag_Magnetic field z (µT)</th>\n",
       "      <th>labelbike</th>\n",
       "      <th>labeldance</th>\n",
       "      <th>labeldesk</th>\n",
       "      <th>labelrun</th>\n",
       "      <th>labelsit</th>\n",
       "      <th>labelwalki</th>\n",
       "      <th>labelwalko</th>\n",
       "    </tr>\n",
       "  </thead>\n",
       "  <tbody>\n",
       "    <tr>\n",
       "      <th>2021-06-05 08:36:26.816535552</th>\n",
       "      <td>0.036547</td>\n",
       "      <td>-0.413988</td>\n",
       "      <td>9.933076</td>\n",
       "      <td>0.000925</td>\n",
       "      <td>0.001020</td>\n",
       "      <td>0.000860</td>\n",
       "      <td>NaN</td>\n",
       "      <td>52.334314</td>\n",
       "      <td>4.866964</td>\n",
       "      <td>0.0</td>\n",
       "      <td>-42.480555</td>\n",
       "      <td>-29.510528</td>\n",
       "      <td>-53.944618</td>\n",
       "      <td>0</td>\n",
       "      <td>0</td>\n",
       "      <td>1</td>\n",
       "      <td>0</td>\n",
       "      <td>0</td>\n",
       "      <td>0</td>\n",
       "      <td>0</td>\n",
       "    </tr>\n",
       "    <tr>\n",
       "      <th>2021-06-05 08:36:27.066535552</th>\n",
       "      <td>0.038458</td>\n",
       "      <td>-0.410600</td>\n",
       "      <td>9.926204</td>\n",
       "      <td>0.001178</td>\n",
       "      <td>0.000995</td>\n",
       "      <td>0.000796</td>\n",
       "      <td>NaN</td>\n",
       "      <td>NaN</td>\n",
       "      <td>NaN</td>\n",
       "      <td>NaN</td>\n",
       "      <td>-42.042138</td>\n",
       "      <td>-29.635504</td>\n",
       "      <td>-54.179348</td>\n",
       "      <td>0</td>\n",
       "      <td>0</td>\n",
       "      <td>1</td>\n",
       "      <td>0</td>\n",
       "      <td>0</td>\n",
       "      <td>0</td>\n",
       "      <td>0</td>\n",
       "    </tr>\n",
       "    <tr>\n",
       "      <th>2021-06-05 08:36:27.316535552</th>\n",
       "      <td>0.040394</td>\n",
       "      <td>-0.413093</td>\n",
       "      <td>9.926906</td>\n",
       "      <td>0.001111</td>\n",
       "      <td>0.000943</td>\n",
       "      <td>0.000502</td>\n",
       "      <td>NaN</td>\n",
       "      <td>NaN</td>\n",
       "      <td>NaN</td>\n",
       "      <td>NaN</td>\n",
       "      <td>-42.356174</td>\n",
       "      <td>-29.556420</td>\n",
       "      <td>-54.101409</td>\n",
       "      <td>0</td>\n",
       "      <td>0</td>\n",
       "      <td>1</td>\n",
       "      <td>0</td>\n",
       "      <td>0</td>\n",
       "      <td>0</td>\n",
       "      <td>0</td>\n",
       "    </tr>\n",
       "    <tr>\n",
       "      <th>2021-06-05 08:36:27.566535552</th>\n",
       "      <td>0.037950</td>\n",
       "      <td>-0.412318</td>\n",
       "      <td>9.926228</td>\n",
       "      <td>0.001102</td>\n",
       "      <td>0.000940</td>\n",
       "      <td>0.000633</td>\n",
       "      <td>NaN</td>\n",
       "      <td>NaN</td>\n",
       "      <td>NaN</td>\n",
       "      <td>NaN</td>\n",
       "      <td>-42.442798</td>\n",
       "      <td>-29.204040</td>\n",
       "      <td>-54.113833</td>\n",
       "      <td>0</td>\n",
       "      <td>0</td>\n",
       "      <td>1</td>\n",
       "      <td>0</td>\n",
       "      <td>0</td>\n",
       "      <td>0</td>\n",
       "      <td>0</td>\n",
       "    </tr>\n",
       "    <tr>\n",
       "      <th>2021-06-05 08:36:27.816535552</th>\n",
       "      <td>0.034974</td>\n",
       "      <td>-0.409512</td>\n",
       "      <td>9.931890</td>\n",
       "      <td>0.001243</td>\n",
       "      <td>0.001234</td>\n",
       "      <td>0.000796</td>\n",
       "      <td>NaN</td>\n",
       "      <td>NaN</td>\n",
       "      <td>NaN</td>\n",
       "      <td>NaN</td>\n",
       "      <td>-42.515800</td>\n",
       "      <td>-29.500013</td>\n",
       "      <td>-54.508421</td>\n",
       "      <td>0</td>\n",
       "      <td>0</td>\n",
       "      <td>1</td>\n",
       "      <td>0</td>\n",
       "      <td>0</td>\n",
       "      <td>0</td>\n",
       "      <td>0</td>\n",
       "    </tr>\n",
       "    <tr>\n",
       "      <th>...</th>\n",
       "      <td>...</td>\n",
       "      <td>...</td>\n",
       "      <td>...</td>\n",
       "      <td>...</td>\n",
       "      <td>...</td>\n",
       "      <td>...</td>\n",
       "      <td>...</td>\n",
       "      <td>...</td>\n",
       "      <td>...</td>\n",
       "      <td>...</td>\n",
       "      <td>...</td>\n",
       "      <td>...</td>\n",
       "      <td>...</td>\n",
       "      <td>...</td>\n",
       "      <td>...</td>\n",
       "      <td>...</td>\n",
       "      <td>...</td>\n",
       "      <td>...</td>\n",
       "      <td>...</td>\n",
       "      <td>...</td>\n",
       "    </tr>\n",
       "    <tr>\n",
       "      <th>2021-06-05 09:54:09.316535552</th>\n",
       "      <td>-1.206271</td>\n",
       "      <td>-2.998419</td>\n",
       "      <td>-6.653096</td>\n",
       "      <td>-1.909578</td>\n",
       "      <td>-0.268146</td>\n",
       "      <td>0.427650</td>\n",
       "      <td>NaN</td>\n",
       "      <td>NaN</td>\n",
       "      <td>NaN</td>\n",
       "      <td>NaN</td>\n",
       "      <td>16.972640</td>\n",
       "      <td>28.263506</td>\n",
       "      <td>39.380895</td>\n",
       "      <td>1</td>\n",
       "      <td>0</td>\n",
       "      <td>0</td>\n",
       "      <td>0</td>\n",
       "      <td>0</td>\n",
       "      <td>0</td>\n",
       "      <td>0</td>\n",
       "    </tr>\n",
       "    <tr>\n",
       "      <th>2021-06-05 09:54:09.566535552</th>\n",
       "      <td>-0.339301</td>\n",
       "      <td>-3.701383</td>\n",
       "      <td>-6.518320</td>\n",
       "      <td>2.835989</td>\n",
       "      <td>0.443934</td>\n",
       "      <td>-0.038863</td>\n",
       "      <td>NaN</td>\n",
       "      <td>NaN</td>\n",
       "      <td>NaN</td>\n",
       "      <td>NaN</td>\n",
       "      <td>17.563350</td>\n",
       "      <td>31.381466</td>\n",
       "      <td>35.527515</td>\n",
       "      <td>1</td>\n",
       "      <td>0</td>\n",
       "      <td>0</td>\n",
       "      <td>0</td>\n",
       "      <td>0</td>\n",
       "      <td>0</td>\n",
       "      <td>0</td>\n",
       "    </tr>\n",
       "    <tr>\n",
       "      <th>2021-06-05 09:54:09.816535552</th>\n",
       "      <td>-0.247886</td>\n",
       "      <td>-11.119357</td>\n",
       "      <td>-8.390665</td>\n",
       "      <td>0.886565</td>\n",
       "      <td>-0.109226</td>\n",
       "      <td>0.003588</td>\n",
       "      <td>NaN</td>\n",
       "      <td>NaN</td>\n",
       "      <td>NaN</td>\n",
       "      <td>NaN</td>\n",
       "      <td>18.865706</td>\n",
       "      <td>39.960369</td>\n",
       "      <td>10.103960</td>\n",
       "      <td>1</td>\n",
       "      <td>0</td>\n",
       "      <td>0</td>\n",
       "      <td>0</td>\n",
       "      <td>0</td>\n",
       "      <td>0</td>\n",
       "      <td>0</td>\n",
       "    </tr>\n",
       "    <tr>\n",
       "      <th>2021-06-05 09:54:10.066535552</th>\n",
       "      <td>-0.393865</td>\n",
       "      <td>-8.937173</td>\n",
       "      <td>-7.247199</td>\n",
       "      <td>-2.348488</td>\n",
       "      <td>-0.453024</td>\n",
       "      <td>-0.030903</td>\n",
       "      <td>NaN</td>\n",
       "      <td>NaN</td>\n",
       "      <td>NaN</td>\n",
       "      <td>NaN</td>\n",
       "      <td>15.334604</td>\n",
       "      <td>35.668764</td>\n",
       "      <td>20.007892</td>\n",
       "      <td>1</td>\n",
       "      <td>0</td>\n",
       "      <td>0</td>\n",
       "      <td>0</td>\n",
       "      <td>0</td>\n",
       "      <td>0</td>\n",
       "      <td>0</td>\n",
       "    </tr>\n",
       "    <tr>\n",
       "      <th>2021-06-05 09:54:10.316535552</th>\n",
       "      <td>-1.155990</td>\n",
       "      <td>-2.045602</td>\n",
       "      <td>-8.425775</td>\n",
       "      <td>-3.139658</td>\n",
       "      <td>-0.324610</td>\n",
       "      <td>0.946257</td>\n",
       "      <td>NaN</td>\n",
       "      <td>NaN</td>\n",
       "      <td>NaN</td>\n",
       "      <td>NaN</td>\n",
       "      <td>16.391535</td>\n",
       "      <td>25.557630</td>\n",
       "      <td>37.731481</td>\n",
       "      <td>1</td>\n",
       "      <td>0</td>\n",
       "      <td>0</td>\n",
       "      <td>0</td>\n",
       "      <td>0</td>\n",
       "      <td>0</td>\n",
       "      <td>0</td>\n",
       "    </tr>\n",
       "  </tbody>\n",
       "</table>\n",
       "<p>8408 rows × 20 columns</p>\n",
       "</div>"
      ],
      "text/plain": [
       "                               acc_Acceleration x (m/s^2)  \\\n",
       "2021-06-05 08:36:26.816535552                    0.036547   \n",
       "2021-06-05 08:36:27.066535552                    0.038458   \n",
       "2021-06-05 08:36:27.316535552                    0.040394   \n",
       "2021-06-05 08:36:27.566535552                    0.037950   \n",
       "2021-06-05 08:36:27.816535552                    0.034974   \n",
       "...                                                   ...   \n",
       "2021-06-05 09:54:09.316535552                   -1.206271   \n",
       "2021-06-05 09:54:09.566535552                   -0.339301   \n",
       "2021-06-05 09:54:09.816535552                   -0.247886   \n",
       "2021-06-05 09:54:10.066535552                   -0.393865   \n",
       "2021-06-05 09:54:10.316535552                   -1.155990   \n",
       "\n",
       "                               acc_Acceleration y (m/s^2)  \\\n",
       "2021-06-05 08:36:26.816535552                   -0.413988   \n",
       "2021-06-05 08:36:27.066535552                   -0.410600   \n",
       "2021-06-05 08:36:27.316535552                   -0.413093   \n",
       "2021-06-05 08:36:27.566535552                   -0.412318   \n",
       "2021-06-05 08:36:27.816535552                   -0.409512   \n",
       "...                                                   ...   \n",
       "2021-06-05 09:54:09.316535552                   -2.998419   \n",
       "2021-06-05 09:54:09.566535552                   -3.701383   \n",
       "2021-06-05 09:54:09.816535552                  -11.119357   \n",
       "2021-06-05 09:54:10.066535552                   -8.937173   \n",
       "2021-06-05 09:54:10.316535552                   -2.045602   \n",
       "\n",
       "                               acc_Acceleration z (m/s^2)  \\\n",
       "2021-06-05 08:36:26.816535552                    9.933076   \n",
       "2021-06-05 08:36:27.066535552                    9.926204   \n",
       "2021-06-05 08:36:27.316535552                    9.926906   \n",
       "2021-06-05 08:36:27.566535552                    9.926228   \n",
       "2021-06-05 08:36:27.816535552                    9.931890   \n",
       "...                                                   ...   \n",
       "2021-06-05 09:54:09.316535552                   -6.653096   \n",
       "2021-06-05 09:54:09.566535552                   -6.518320   \n",
       "2021-06-05 09:54:09.816535552                   -8.390665   \n",
       "2021-06-05 09:54:10.066535552                   -7.247199   \n",
       "2021-06-05 09:54:10.316535552                   -8.425775   \n",
       "\n",
       "                               gyr_Gyroscope x (rad/s)  \\\n",
       "2021-06-05 08:36:26.816535552                 0.000925   \n",
       "2021-06-05 08:36:27.066535552                 0.001178   \n",
       "2021-06-05 08:36:27.316535552                 0.001111   \n",
       "2021-06-05 08:36:27.566535552                 0.001102   \n",
       "2021-06-05 08:36:27.816535552                 0.001243   \n",
       "...                                                ...   \n",
       "2021-06-05 09:54:09.316535552                -1.909578   \n",
       "2021-06-05 09:54:09.566535552                 2.835989   \n",
       "2021-06-05 09:54:09.816535552                 0.886565   \n",
       "2021-06-05 09:54:10.066535552                -2.348488   \n",
       "2021-06-05 09:54:10.316535552                -3.139658   \n",
       "\n",
       "                               gyr_Gyroscope y (rad/s)  \\\n",
       "2021-06-05 08:36:26.816535552                 0.001020   \n",
       "2021-06-05 08:36:27.066535552                 0.000995   \n",
       "2021-06-05 08:36:27.316535552                 0.000943   \n",
       "2021-06-05 08:36:27.566535552                 0.000940   \n",
       "2021-06-05 08:36:27.816535552                 0.001234   \n",
       "...                                                ...   \n",
       "2021-06-05 09:54:09.316535552                -0.268146   \n",
       "2021-06-05 09:54:09.566535552                 0.443934   \n",
       "2021-06-05 09:54:09.816535552                -0.109226   \n",
       "2021-06-05 09:54:10.066535552                -0.453024   \n",
       "2021-06-05 09:54:10.316535552                -0.324610   \n",
       "\n",
       "                               gyr_Gyroscope z (rad/s)  lux_Illuminance (lx)  \\\n",
       "2021-06-05 08:36:26.816535552                 0.000860                   NaN   \n",
       "2021-06-05 08:36:27.066535552                 0.000796                   NaN   \n",
       "2021-06-05 08:36:27.316535552                 0.000502                   NaN   \n",
       "2021-06-05 08:36:27.566535552                 0.000633                   NaN   \n",
       "2021-06-05 08:36:27.816535552                 0.000796                   NaN   \n",
       "...                                                ...                   ...   \n",
       "2021-06-05 09:54:09.316535552                 0.427650                   NaN   \n",
       "2021-06-05 09:54:09.566535552                -0.038863                   NaN   \n",
       "2021-06-05 09:54:09.816535552                 0.003588                   NaN   \n",
       "2021-06-05 09:54:10.066535552                -0.030903                   NaN   \n",
       "2021-06-05 09:54:10.316535552                 0.946257                   NaN   \n",
       "\n",
       "                               loc_Latitude (°)  loc_Longitude (°)  \\\n",
       "2021-06-05 08:36:26.816535552         52.334314           4.866964   \n",
       "2021-06-05 08:36:27.066535552               NaN                NaN   \n",
       "2021-06-05 08:36:27.316535552               NaN                NaN   \n",
       "2021-06-05 08:36:27.566535552               NaN                NaN   \n",
       "2021-06-05 08:36:27.816535552               NaN                NaN   \n",
       "...                                         ...                ...   \n",
       "2021-06-05 09:54:09.316535552               NaN                NaN   \n",
       "2021-06-05 09:54:09.566535552               NaN                NaN   \n",
       "2021-06-05 09:54:09.816535552               NaN                NaN   \n",
       "2021-06-05 09:54:10.066535552               NaN                NaN   \n",
       "2021-06-05 09:54:10.316535552               NaN                NaN   \n",
       "\n",
       "                               loc_Velocity (m/s)  mag_Magnetic field x (µT)  \\\n",
       "2021-06-05 08:36:26.816535552                 0.0                 -42.480555   \n",
       "2021-06-05 08:36:27.066535552                 NaN                 -42.042138   \n",
       "2021-06-05 08:36:27.316535552                 NaN                 -42.356174   \n",
       "2021-06-05 08:36:27.566535552                 NaN                 -42.442798   \n",
       "2021-06-05 08:36:27.816535552                 NaN                 -42.515800   \n",
       "...                                           ...                        ...   \n",
       "2021-06-05 09:54:09.316535552                 NaN                  16.972640   \n",
       "2021-06-05 09:54:09.566535552                 NaN                  17.563350   \n",
       "2021-06-05 09:54:09.816535552                 NaN                  18.865706   \n",
       "2021-06-05 09:54:10.066535552                 NaN                  15.334604   \n",
       "2021-06-05 09:54:10.316535552                 NaN                  16.391535   \n",
       "\n",
       "                               mag_Magnetic field y (µT)  \\\n",
       "2021-06-05 08:36:26.816535552                 -29.510528   \n",
       "2021-06-05 08:36:27.066535552                 -29.635504   \n",
       "2021-06-05 08:36:27.316535552                 -29.556420   \n",
       "2021-06-05 08:36:27.566535552                 -29.204040   \n",
       "2021-06-05 08:36:27.816535552                 -29.500013   \n",
       "...                                                  ...   \n",
       "2021-06-05 09:54:09.316535552                  28.263506   \n",
       "2021-06-05 09:54:09.566535552                  31.381466   \n",
       "2021-06-05 09:54:09.816535552                  39.960369   \n",
       "2021-06-05 09:54:10.066535552                  35.668764   \n",
       "2021-06-05 09:54:10.316535552                  25.557630   \n",
       "\n",
       "                               mag_Magnetic field z (µT)  labelbike  \\\n",
       "2021-06-05 08:36:26.816535552                 -53.944618          0   \n",
       "2021-06-05 08:36:27.066535552                 -54.179348          0   \n",
       "2021-06-05 08:36:27.316535552                 -54.101409          0   \n",
       "2021-06-05 08:36:27.566535552                 -54.113833          0   \n",
       "2021-06-05 08:36:27.816535552                 -54.508421          0   \n",
       "...                                                  ...        ...   \n",
       "2021-06-05 09:54:09.316535552                  39.380895          1   \n",
       "2021-06-05 09:54:09.566535552                  35.527515          1   \n",
       "2021-06-05 09:54:09.816535552                  10.103960          1   \n",
       "2021-06-05 09:54:10.066535552                  20.007892          1   \n",
       "2021-06-05 09:54:10.316535552                  37.731481          1   \n",
       "\n",
       "                               labeldance  labeldesk  labelrun  labelsit  \\\n",
       "2021-06-05 08:36:26.816535552           0          1         0         0   \n",
       "2021-06-05 08:36:27.066535552           0          1         0         0   \n",
       "2021-06-05 08:36:27.316535552           0          1         0         0   \n",
       "2021-06-05 08:36:27.566535552           0          1         0         0   \n",
       "2021-06-05 08:36:27.816535552           0          1         0         0   \n",
       "...                                   ...        ...       ...       ...   \n",
       "2021-06-05 09:54:09.316535552           0          0         0         0   \n",
       "2021-06-05 09:54:09.566535552           0          0         0         0   \n",
       "2021-06-05 09:54:09.816535552           0          0         0         0   \n",
       "2021-06-05 09:54:10.066535552           0          0         0         0   \n",
       "2021-06-05 09:54:10.316535552           0          0         0         0   \n",
       "\n",
       "                               labelwalki  labelwalko  \n",
       "2021-06-05 08:36:26.816535552           0           0  \n",
       "2021-06-05 08:36:27.066535552           0           0  \n",
       "2021-06-05 08:36:27.316535552           0           0  \n",
       "2021-06-05 08:36:27.566535552           0           0  \n",
       "2021-06-05 08:36:27.816535552           0           0  \n",
       "...                                   ...         ...  \n",
       "2021-06-05 09:54:09.316535552           0           0  \n",
       "2021-06-05 09:54:09.566535552           0           0  \n",
       "2021-06-05 09:54:09.816535552           0           0  \n",
       "2021-06-05 09:54:10.066535552           0           0  \n",
       "2021-06-05 09:54:10.316535552           0           0  \n",
       "\n",
       "[8408 rows x 20 columns]"
      ]
     },
     "execution_count": 18,
     "metadata": {},
     "output_type": "execute_result"
    }
   ],
   "source": [
    "gyr_dataset = dataset.dropna(subset = ['gyr_Gyroscope x (rad/s)', 'gyr_Gyroscope y (rad/s)', 'gyr_Gyroscope z (rad/s)'])\n",
    "gyr_dataset"
   ]
  },
  {
   "cell_type": "markdown",
   "metadata": {},
   "source": [
    "## K-means"
   ]
  },
  {
   "cell_type": "code",
   "execution_count": 12,
   "metadata": {},
   "outputs": [
    {
     "name": "stdout",
     "output_type": "stream",
     "text": [
      "k = 2\n",
      "silhouette = 0.5542354715741715\n",
      "k = 3\n",
      "silhouette = 0.5579795915058184\n",
      "k = 4\n",
      "silhouette = 0.49490424223221235\n",
      "k = 5\n",
      "silhouette = 0.48838435848781736\n",
      "k = 6\n",
      "silhouette = 0.5015561112237682\n",
      "k = 7\n",
      "silhouette = 0.507872227287337\n",
      "k = 8\n",
      "silhouette = 0.47068611604009397\n",
      "k = 9\n",
      "silhouette = 0.4716640855815021\n"
     ]
    }
   ],
   "source": [
    "k_values = range(2, 10)\n",
    "silhouette_values = []\n",
    "\n",
    "for k in k_values:\n",
    "    print(f'k = {k}')\n",
    "    dataset_cluster = clusteringNH.k_means_over_instances(copy.deepcopy(\n",
    "        gyr_dataset), ['gyr_Gyroscope x (rad/s)', 'gyr_Gyroscope y (rad/s)', 'gyr_Gyroscope z (rad/s)'], k, 'default', 20, 10)\n",
    "    silhouette_score = dataset_cluster['silhouette'].mean()\n",
    "    print(f'silhouette = {silhouette_score}')\n",
    "    silhouette_values.append(silhouette_score)"
   ]
  },
  {
   "cell_type": "code",
   "execution_count": 13,
   "metadata": {},
   "outputs": [
    {
     "name": "stdout",
     "output_type": "stream",
     "text": [
      "Figure saved to figures/figure_6.png\n"
     ]
    },
    {
     "data": {
      "image/png": "[encoded data removed]",
      "text/plain": [
       "<Figure size 432x288 with 1 Axes>"
      ]
     },
     "metadata": {
      "needs_background": "light"
     },
     "output_type": "display_data"
    },
    {
     "name": "stdout",
     "output_type": "stream",
     "text": [
      "Highest K-Means silhouette score: k = 3\n"
     ]
    }
   ],
   "source": [
    "DataViz.plot_xy(x=[k_values], y=[silhouette_values], \n",
    "                xlabel='k', ylabel='silhouette score',ylim=[0, 1], line_styles=['b-'])\n",
    "k = k_values[np.argmax(silhouette_values)]\n",
    "print(f'Highest K-Means silhouette score: k = {k}')"
   ]
  },
  {
   "cell_type": "markdown",
   "metadata": {},
   "source": [
    "## Kmediods"
   ]
  },
  {
   "cell_type": "code",
   "execution_count": 14,
   "metadata": {},
   "outputs": [
    {
     "name": "stdout",
     "output_type": "stream",
     "text": [
      "k = 2\n",
      "silhouette = 0.547713560009838\n",
      "k = 3\n",
      "silhouette = 0.5177533312104724\n",
      "k = 4\n",
      "silhouette = 0.37681540539294556\n",
      "k = 5\n",
      "silhouette = 0.3795124142514642\n",
      "k = 6\n",
      "silhouette = 0.3591459224455894\n",
      "k = 7\n",
      "silhouette = 0.354219173528267\n",
      "k = 8\n",
      "silhouette = 0.3721851616928748\n",
      "k = 9\n",
      "silhouette = 0.36757864386246086\n"
     ]
    }
   ],
   "source": [
    "k_values = range(2, 10)\n",
    "silhouette_values = []\n",
    "\n",
    "for k in k_values:\n",
    "    print(f'k = {k}')\n",
    "    dataset_cluster = clusteringNH.k_medoids_over_instances(copy.deepcopy(\n",
    "        gyr_dataset), ['gyr_Gyroscope x (rad/s)', 'gyr_Gyroscope y (rad/s)', 'gyr_Gyroscope z (rad/s)'], k, 'default', 20, n_inits=10)\n",
    "    silhouette_score = dataset_cluster['silhouette'].mean()\n",
    "    print(f'silhouette = {silhouette_score}')\n",
    "    silhouette_values.append(silhouette_score)"
   ]
  },
  {
   "cell_type": "code",
   "execution_count": 15,
   "metadata": {},
   "outputs": [
    {
     "name": "stdout",
     "output_type": "stream",
     "text": [
      "Figure saved to figures/figure_7.png\n"
     ]
    },
    {
     "data": {
      "image/png": "[encoded data removed]",
      "text/plain": [
       "<Figure size 432x288 with 1 Axes>"
      ]
     },
     "metadata": {
      "needs_background": "light"
     },
     "output_type": "display_data"
    },
    {
     "name": "stdout",
     "output_type": "stream",
     "text": [
      "Highest K-Medoids silhouette score: k = 2\n",
      "Figure saved to figures/figure_8.png\n"
     ]
    },
    {
     "data": {
      "image/png": "[encoded data removed]",
      "text/plain": [
       "<Figure size 432x288 with 1 Axes>"
      ]
     },
     "metadata": {
      "needs_background": "light"
     },
     "output_type": "display_data"
    },
    {
     "name": "stdout",
     "output_type": "stream",
     "text": [
      "Figure saved to figures/figure_9.png\n"
     ]
    },
    {
     "data": {
      "image/png": "[encoded data removed]",
      "text/plain": [
       "<Figure size 432x288 with 1 Axes>"
      ]
     },
     "metadata": {
      "needs_background": "light"
     },
     "output_type": "display_data"
    },
    {
     "name": "stdout",
     "output_type": "stream",
     "text": [
      "\\multirow{2}{*}{ gyr_Gyroscope x (rad/s) } & mean  &  0.46 &  -2.31\\\\\n",
      " & std  &  1.00 &  1.03\\\\\n",
      "\\multirow{2}{*}{ gyr_Gyroscope y (rad/s) } & mean  &  0.33 &  -1.08\\\\\n",
      " & std  &  0.69 &  0.59\\\\\n",
      "\\multirow{2}{*}{ gyr_Gyroscope z (rad/s) } & mean  &  0.02 &  -0.22\\\\\n",
      " & std  &  0.33 &  0.38\\\\\n",
      "labelbike  & percentage  &  76.10 \\% &  23.90 \\%\\\\\n",
      "labeldance  & percentage  &  94.75 \\% &  5.25 \\%\\\\\n",
      "labeldesk  & percentage  &  100.00 \\% &  0.00 \\%\\\\\n",
      "labelrun  & percentage  &  65.86 \\% &  34.14 \\%\\\\\n",
      "labelsit  & percentage  &  100.00 \\% &  0.00 \\%\\\\\n",
      "labelwalki  & percentage  &  78.43 \\% &  21.57 \\%\\\\\n",
      "labelwalko  & percentage  &  66.11 \\% &  33.89 \\%\\\\\n"
     ]
    }
   ],
   "source": [
    "DataViz.plot_xy(x=[k_values], y=[silhouette_values], xlabel='k', ylabel='silhouette score',\n",
    "                ylim=[0, 1], line_styles=['b-'])\n",
    "\n",
    "k = k_values[np.argmax(silhouette_values)]\n",
    "print(f'Highest K-Medoids silhouette score: k = {k}')\n",
    "\n",
    "dataset_kmed = clusteringNH.k_medoids_over_instances(copy.deepcopy(gyr_dataset), \n",
    "                                                     ['gyr_Gyroscope x (rad/s)', 'gyr_Gyroscope y (rad/s)', 'gyr_Gyroscope z (rad/s)'], \n",
    "                                                     k, 'default', 20, n_inits=50)\n",
    "DataViz.plot_clusters_3d(dataset_kmed, ['gyr_Gyroscope x (rad/s)', 'gyr_Gyroscope y (rad/s)', 'gyr_Gyroscope z (rad/s)'], 'cluster', ['label'])\n",
    "DataViz.plot_silhouette(dataset_kmed, 'cluster', 'silhouette')\n",
    "util.print_latex_statistics_clusters(dataset_kmed, 'cluster', \n",
    "                                     ['gyr_Gyroscope x (rad/s)', 'gyr_Gyroscope y (rad/s)', 'gyr_Gyroscope z (rad/s)'], 'label')"
   ]
  },
  {
   "cell_type": "markdown",
   "metadata": {},
   "source": [
    "## hierarchical"
   ]
  },
  {
   "cell_type": "code",
   "execution_count": 20,
   "metadata": {},
   "outputs": [
    {
     "name": "stdout",
     "output_type": "stream",
     "text": [
      "k = 2\n"
     ]
    },
    {
     "name": "stderr",
     "output_type": "stream",
     "text": [
      "/home/udy/Documents/University/Year1P6/MLFQS/Code/ML4QS/assignment02/Chapter5/Clustering.py:319: SettingWithCopyWarning: \n",
      "A value is trying to be set on a copy of a slice from a DataFrame.\n",
      "Try using .loc[row_indexer,col_indexer] = value instead\n",
      "\n",
      "See the caveats in the documentation: https://pandas.pydata.org/pandas-docs/stable/user_guide/indexing.html#returning-a-view-versus-a-copy\n",
      "  dataset['cluster'] = cluster_assignment\n",
      "/home/udy/Documents/University/Year1P6/MLFQS/Code/ML4QS/assignment02/Chapter5/Clustering.py:322: SettingWithCopyWarning: \n",
      "A value is trying to be set on a copy of a slice from a DataFrame.\n",
      "Try using .loc[row_indexer,col_indexer] = value instead\n",
      "\n",
      "See the caveats in the documentation: https://pandas.pydata.org/pandas-docs/stable/user_guide/indexing.html#returning-a-view-versus-a-copy\n",
      "  dataset['silhouette'] = silhouette_per_inst\n"
     ]
    },
    {
     "name": "stdout",
     "output_type": "stream",
     "text": [
      "silhouette = 0.5717373980181472\n",
      "k = 3\n"
     ]
    },
    {
     "name": "stderr",
     "output_type": "stream",
     "text": [
      "/home/udy/Documents/University/Year1P6/MLFQS/Code/ML4QS/assignment02/Chapter5/Clustering.py:319: SettingWithCopyWarning: \n",
      "A value is trying to be set on a copy of a slice from a DataFrame.\n",
      "Try using .loc[row_indexer,col_indexer] = value instead\n",
      "\n",
      "See the caveats in the documentation: https://pandas.pydata.org/pandas-docs/stable/user_guide/indexing.html#returning-a-view-versus-a-copy\n",
      "  dataset['cluster'] = cluster_assignment\n",
      "/home/udy/Documents/University/Year1P6/MLFQS/Code/ML4QS/assignment02/Chapter5/Clustering.py:322: SettingWithCopyWarning: \n",
      "A value is trying to be set on a copy of a slice from a DataFrame.\n",
      "Try using .loc[row_indexer,col_indexer] = value instead\n",
      "\n",
      "See the caveats in the documentation: https://pandas.pydata.org/pandas-docs/stable/user_guide/indexing.html#returning-a-view-versus-a-copy\n",
      "  dataset['silhouette'] = silhouette_per_inst\n"
     ]
    },
    {
     "name": "stdout",
     "output_type": "stream",
     "text": [
      "silhouette = 0.53896434476155\n",
      "k = 4\n"
     ]
    },
    {
     "name": "stderr",
     "output_type": "stream",
     "text": [
      "/home/udy/Documents/University/Year1P6/MLFQS/Code/ML4QS/assignment02/Chapter5/Clustering.py:319: SettingWithCopyWarning: \n",
      "A value is trying to be set on a copy of a slice from a DataFrame.\n",
      "Try using .loc[row_indexer,col_indexer] = value instead\n",
      "\n",
      "See the caveats in the documentation: https://pandas.pydata.org/pandas-docs/stable/user_guide/indexing.html#returning-a-view-versus-a-copy\n",
      "  dataset['cluster'] = cluster_assignment\n",
      "/home/udy/Documents/University/Year1P6/MLFQS/Code/ML4QS/assignment02/Chapter5/Clustering.py:322: SettingWithCopyWarning: \n",
      "A value is trying to be set on a copy of a slice from a DataFrame.\n",
      "Try using .loc[row_indexer,col_indexer] = value instead\n",
      "\n",
      "See the caveats in the documentation: https://pandas.pydata.org/pandas-docs/stable/user_guide/indexing.html#returning-a-view-versus-a-copy\n",
      "  dataset['silhouette'] = silhouette_per_inst\n"
     ]
    },
    {
     "name": "stdout",
     "output_type": "stream",
     "text": [
      "silhouette = 0.4992407095494917\n",
      "k = 5\n"
     ]
    },
    {
     "name": "stderr",
     "output_type": "stream",
     "text": [
      "/home/udy/Documents/University/Year1P6/MLFQS/Code/ML4QS/assignment02/Chapter5/Clustering.py:319: SettingWithCopyWarning: \n",
      "A value is trying to be set on a copy of a slice from a DataFrame.\n",
      "Try using .loc[row_indexer,col_indexer] = value instead\n",
      "\n",
      "See the caveats in the documentation: https://pandas.pydata.org/pandas-docs/stable/user_guide/indexing.html#returning-a-view-versus-a-copy\n",
      "  dataset['cluster'] = cluster_assignment\n",
      "/home/udy/Documents/University/Year1P6/MLFQS/Code/ML4QS/assignment02/Chapter5/Clustering.py:322: SettingWithCopyWarning: \n",
      "A value is trying to be set on a copy of a slice from a DataFrame.\n",
      "Try using .loc[row_indexer,col_indexer] = value instead\n",
      "\n",
      "See the caveats in the documentation: https://pandas.pydata.org/pandas-docs/stable/user_guide/indexing.html#returning-a-view-versus-a-copy\n",
      "  dataset['silhouette'] = silhouette_per_inst\n"
     ]
    },
    {
     "name": "stdout",
     "output_type": "stream",
     "text": [
      "silhouette = 0.45056660640913815\n",
      "k = 6\n"
     ]
    },
    {
     "name": "stderr",
     "output_type": "stream",
     "text": [
      "/home/udy/Documents/University/Year1P6/MLFQS/Code/ML4QS/assignment02/Chapter5/Clustering.py:319: SettingWithCopyWarning: \n",
      "A value is trying to be set on a copy of a slice from a DataFrame.\n",
      "Try using .loc[row_indexer,col_indexer] = value instead\n",
      "\n",
      "See the caveats in the documentation: https://pandas.pydata.org/pandas-docs/stable/user_guide/indexing.html#returning-a-view-versus-a-copy\n",
      "  dataset['cluster'] = cluster_assignment\n",
      "/home/udy/Documents/University/Year1P6/MLFQS/Code/ML4QS/assignment02/Chapter5/Clustering.py:322: SettingWithCopyWarning: \n",
      "A value is trying to be set on a copy of a slice from a DataFrame.\n",
      "Try using .loc[row_indexer,col_indexer] = value instead\n",
      "\n",
      "See the caveats in the documentation: https://pandas.pydata.org/pandas-docs/stable/user_guide/indexing.html#returning-a-view-versus-a-copy\n",
      "  dataset['silhouette'] = silhouette_per_inst\n"
     ]
    },
    {
     "name": "stdout",
     "output_type": "stream",
     "text": [
      "silhouette = 0.4379098908038612\n",
      "k = 7\n"
     ]
    },
    {
     "name": "stderr",
     "output_type": "stream",
     "text": [
      "/home/udy/Documents/University/Year1P6/MLFQS/Code/ML4QS/assignment02/Chapter5/Clustering.py:319: SettingWithCopyWarning: \n",
      "A value is trying to be set on a copy of a slice from a DataFrame.\n",
      "Try using .loc[row_indexer,col_indexer] = value instead\n",
      "\n",
      "See the caveats in the documentation: https://pandas.pydata.org/pandas-docs/stable/user_guide/indexing.html#returning-a-view-versus-a-copy\n",
      "  dataset['cluster'] = cluster_assignment\n",
      "/home/udy/Documents/University/Year1P6/MLFQS/Code/ML4QS/assignment02/Chapter5/Clustering.py:322: SettingWithCopyWarning: \n",
      "A value is trying to be set on a copy of a slice from a DataFrame.\n",
      "Try using .loc[row_indexer,col_indexer] = value instead\n",
      "\n",
      "See the caveats in the documentation: https://pandas.pydata.org/pandas-docs/stable/user_guide/indexing.html#returning-a-view-versus-a-copy\n",
      "  dataset['silhouette'] = silhouette_per_inst\n"
     ]
    },
    {
     "name": "stdout",
     "output_type": "stream",
     "text": [
      "silhouette = 0.4429047224208095\n",
      "k = 8\n"
     ]
    },
    {
     "name": "stderr",
     "output_type": "stream",
     "text": [
      "/home/udy/Documents/University/Year1P6/MLFQS/Code/ML4QS/assignment02/Chapter5/Clustering.py:319: SettingWithCopyWarning: \n",
      "A value is trying to be set on a copy of a slice from a DataFrame.\n",
      "Try using .loc[row_indexer,col_indexer] = value instead\n",
      "\n",
      "See the caveats in the documentation: https://pandas.pydata.org/pandas-docs/stable/user_guide/indexing.html#returning-a-view-versus-a-copy\n",
      "  dataset['cluster'] = cluster_assignment\n",
      "/home/udy/Documents/University/Year1P6/MLFQS/Code/ML4QS/assignment02/Chapter5/Clustering.py:322: SettingWithCopyWarning: \n",
      "A value is trying to be set on a copy of a slice from a DataFrame.\n",
      "Try using .loc[row_indexer,col_indexer] = value instead\n",
      "\n",
      "See the caveats in the documentation: https://pandas.pydata.org/pandas-docs/stable/user_guide/indexing.html#returning-a-view-versus-a-copy\n",
      "  dataset['silhouette'] = silhouette_per_inst\n"
     ]
    },
    {
     "name": "stdout",
     "output_type": "stream",
     "text": [
      "silhouette = 0.44432278900391026\n",
      "k = 9\n"
     ]
    },
    {
     "name": "stderr",
     "output_type": "stream",
     "text": [
      "/home/udy/Documents/University/Year1P6/MLFQS/Code/ML4QS/assignment02/Chapter5/Clustering.py:319: SettingWithCopyWarning: \n",
      "A value is trying to be set on a copy of a slice from a DataFrame.\n",
      "Try using .loc[row_indexer,col_indexer] = value instead\n",
      "\n",
      "See the caveats in the documentation: https://pandas.pydata.org/pandas-docs/stable/user_guide/indexing.html#returning-a-view-versus-a-copy\n",
      "  dataset['cluster'] = cluster_assignment\n"
     ]
    },
    {
     "name": "stdout",
     "output_type": "stream",
     "text": [
      "silhouette = 0.42884500398617964\n"
     ]
    },
    {
     "name": "stderr",
     "output_type": "stream",
     "text": [
      "/home/udy/Documents/University/Year1P6/MLFQS/Code/ML4QS/assignment02/Chapter5/Clustering.py:322: SettingWithCopyWarning: \n",
      "A value is trying to be set on a copy of a slice from a DataFrame.\n",
      "Try using .loc[row_indexer,col_indexer] = value instead\n",
      "\n",
      "See the caveats in the documentation: https://pandas.pydata.org/pandas-docs/stable/user_guide/indexing.html#returning-a-view-versus-a-copy\n",
      "  dataset['silhouette'] = silhouette_per_inst\n"
     ]
    }
   ],
   "source": [
    "k_values = range(2, 10)\n",
    "silhouette_values = []\n",
    "\n",
    "for k in k_values:\n",
    "    print(f'k = {k}')\n",
    "    dataset_cluster, l = clusteringH.agglomerative_over_instances(gyr_dataset, \n",
    "                                                          ['gyr_Gyroscope x (rad/s)', 'gyr_Gyroscope y (rad/s)', 'gyr_Gyroscope z (rad/s)'], \n",
    "                                                          k, 'euclidean', \n",
    "                                                          link_function='ward')\n",
    "    silhouette_score = dataset_cluster['silhouette'].mean()\n",
    "    print(f'silhouette = {silhouette_score}')\n",
    "    silhouette_values.append(silhouette_score)"
   ]
  },
  {
   "cell_type": "code",
   "execution_count": 21,
   "metadata": {},
   "outputs": [
    {
     "name": "stdout",
     "output_type": "stream",
     "text": [
      "Figure saved to figures/figure_10.png\n"
     ]
    },
    {
     "data": {
      "image/png": "[encoded data removed]",
      "text/plain": [
       "<Figure size 432x288 with 1 Axes>"
      ]
     },
     "metadata": {
      "needs_background": "light"
     },
     "output_type": "display_data"
    }
   ],
   "source": [
    "if k == k_values[0]:\n",
    "        DataViz.plot_dendrogram(gyr_dataset, l)\n",
    "DataViz.plot_xy(x=[k_values], y=[silhouette_values], xlabel='k', ylabel='silhouette score',\n",
    "                ylim=[0, 1], line_styles=['b-'])"
   ]
  },
  {
   "cell_type": "code",
   "execution_count": null,
   "metadata": {},
   "outputs": [],
   "source": []
  }
 ],
 "metadata": {
  "kernelspec": {
   "display_name": "Python 3",
   "language": "python",
   "name": "python3"
  },
  "language_info": {
   "codemirror_mode": {
    "name": "ipython",
    "version": 3
   },
   "file_extension": ".py",
   "mimetype": "text/x-python",
   "name": "python",
   "nbconvert_exporter": "python",
   "pygments_lexer": "ipython3",
   "version": "3.8.3"
  }
 },
 "nbformat": 4,
 "nbformat_minor": 4
}
