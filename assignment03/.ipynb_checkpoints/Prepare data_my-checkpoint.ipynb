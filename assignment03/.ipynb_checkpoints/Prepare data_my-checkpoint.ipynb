{
 "cells": [
  {
   "cell_type": "code",
   "execution_count": 1,
   "metadata": {},
   "outputs": [],
   "source": [
    "import pandas as pd\n",
    "from datetime import datetime"
   ]
  },
  {
   "cell_type": "code",
   "execution_count": 2,
   "metadata": {},
   "outputs": [],
   "source": [
    "raw_data_path = \"data/Peter/\"\n",
    "output_data_path = \"data/\""
   ]
  },
  {
   "cell_type": "code",
   "execution_count": 3,
   "metadata": {},
   "outputs": [],
   "source": [
    "labels = [\"_jump\", \"_lay\", \"_run\", \"_walk\", \"_sit\"]\n",
    "sensors = [\"Accelerometer\", \"Gyroscope\"]\n",
    "\n",
    "for sensor in sensors:\n",
    "    values = list()\n",
    "    for label in labels:\n",
    "        values.append(pd.read_csv(raw_data_path + f\"{sensor}{label}.csv\"))\n",
    "    data = pd.concat(values, keys=labels)\n",
    "    \n",
    "    for label in labels:\n",
    "        time = pd.read_csv(raw_data_path + f\"time{label}.csv\")\n",
    "        data.loc[[label], \"Time (s)\"] = (data.loc[[label], \"Time (s)\"] + time[\"system time\"][0]) * 1e+9\n",
    "        \n",
    "    data.to_csv(output_data_path + f\"{sensor}_Peter.csv\")"
   ]
  },
  {
   "cell_type": "code",
   "execution_count": 6,
   "metadata": {},
   "outputs": [],
   "source": [
    "# def transform_time(dataframe, labels):\n",
    "#     for i in range(len(labels) - 1):\n",
    "#         dataframe.loc[labels[i+1]][\"Time (s)\"] = dataframe.loc[labels[i+1]][\"Time (s)\"] + dataframe.loc[(labels[i], len(dataframe.loc[labels[i]])-1)][\"Time (s)\"]"
   ]
  },
  {
   "cell_type": "code",
   "execution_count": 7,
   "metadata": {},
   "outputs": [],
   "source": [
    "# for label in labels:\n",
    "#     time = pd.read_csv(raw_data_path + f\"time{label}.csv\")\n",
    "#     data.loc[[label], \"Time (s)\"] = (data.loc[[label], \"Time (s)\"] + time[\"system time\"][0]) * 1e+9"
   ]
  },
  {
   "cell_type": "code",
   "execution_count": 8,
   "metadata": {},
   "outputs": [
    {
     "data": {
      "text/html": [
       "<div>\n",
       "<style scoped>\n",
       "    .dataframe tbody tr th:only-of-type {\n",
       "        vertical-align: middle;\n",
       "    }\n",
       "\n",
       "    .dataframe tbody tr th {\n",
       "        vertical-align: top;\n",
       "    }\n",
       "\n",
       "    .dataframe thead th {\n",
       "        text-align: right;\n",
       "    }\n",
       "</style>\n",
       "<table border=\"1\" class=\"dataframe\">\n",
       "  <thead>\n",
       "    <tr style=\"text-align: right;\">\n",
       "      <th></th>\n",
       "      <th>label</th>\n",
       "      <th>label_start</th>\n",
       "      <th>label_start_datetime</th>\n",
       "      <th>label_end</th>\n",
       "      <th>label_end_datetime</th>\n",
       "    </tr>\n",
       "  </thead>\n",
       "  <tbody>\n",
       "    <tr>\n",
       "      <th>0</th>\n",
       "      <td>_jump</td>\n",
       "      <td>NaN</td>\n",
       "      <td>NaN</td>\n",
       "      <td>NaN</td>\n",
       "      <td>NaN</td>\n",
       "    </tr>\n",
       "    <tr>\n",
       "      <th>1</th>\n",
       "      <td>_lay</td>\n",
       "      <td>NaN</td>\n",
       "      <td>NaN</td>\n",
       "      <td>NaN</td>\n",
       "      <td>NaN</td>\n",
       "    </tr>\n",
       "    <tr>\n",
       "      <th>2</th>\n",
       "      <td>_run</td>\n",
       "      <td>NaN</td>\n",
       "      <td>NaN</td>\n",
       "      <td>NaN</td>\n",
       "      <td>NaN</td>\n",
       "    </tr>\n",
       "    <tr>\n",
       "      <th>3</th>\n",
       "      <td>_walk</td>\n",
       "      <td>NaN</td>\n",
       "      <td>NaN</td>\n",
       "      <td>NaN</td>\n",
       "      <td>NaN</td>\n",
       "    </tr>\n",
       "    <tr>\n",
       "      <th>4</th>\n",
       "      <td>_sit</td>\n",
       "      <td>NaN</td>\n",
       "      <td>NaN</td>\n",
       "      <td>NaN</td>\n",
       "      <td>NaN</td>\n",
       "    </tr>\n",
       "  </tbody>\n",
       "</table>\n",
       "</div>"
      ],
      "text/plain": [
       "   label label_start label_start_datetime label_end label_end_datetime\n",
       "0  _jump         NaN                  NaN       NaN                NaN\n",
       "1   _lay         NaN                  NaN       NaN                NaN\n",
       "2   _run         NaN                  NaN       NaN                NaN\n",
       "3  _walk         NaN                  NaN       NaN                NaN\n",
       "4   _sit         NaN                  NaN       NaN                NaN"
      ]
     },
     "execution_count": 8,
     "metadata": {},
     "output_type": "execute_result"
    }
   ],
   "source": [
    "col = [\"label\", \"label_start\", \"label_start_datetime\", \"label_end\", \"label_end_datetime\"]\n",
    "df_labels = pd.DataFrame(columns = col)\n",
    "df_labels[\"label\"] = labels\n",
    "df_labels"
   ]
  },
  {
   "cell_type": "code",
   "execution_count": 9,
   "metadata": {},
   "outputs": [
    {
     "name": "stderr",
     "output_type": "stream",
     "text": [
      "<ipython-input-9-beddcd6c6435>:5: DeprecationWarning: an integer is required (got type Series).  Implicit conversion to integers using __int__ is deprecated, and may be removed in a future version of Python.\n",
      "  df_labels.loc[index, \"label_start_datetime\"] = datetime.fromtimestamp(df_labels.loc[index, \"label_start\"] * 1e-9)\n",
      "<ipython-input-9-beddcd6c6435>:6: DeprecationWarning: an integer is required (got type Series).  Implicit conversion to integers using __int__ is deprecated, and may be removed in a future version of Python.\n",
      "  df_labels.loc[index, \"label_end_datetime\"] = datetime.fromtimestamp(df_labels.loc[index, \"label_end\"] * 1e-9)\n"
     ]
    }
   ],
   "source": [
    "for label in labels:\n",
    "    index = df_labels.index[df_labels[\"label\"] == label]\n",
    "    df_labels.loc[index, \"label_end\"] = data.loc[(label, len(data.loc[label])-1)][\"Time (s)\"]\n",
    "    df_labels.loc[index, \"label_start\"] = data.loc[(label, 0)][\"Time (s)\"]\n",
    "    df_labels.loc[index, \"label_start_datetime\"] = datetime.fromtimestamp(df_labels.loc[index, \"label_start\"] * 1e-9)\n",
    "    df_labels.loc[index, \"label_end_datetime\"] = datetime.fromtimestamp(df_labels.loc[index, \"label_end\"] * 1e-9)"
   ]
  },
  {
   "cell_type": "code",
   "execution_count": 10,
   "metadata": {},
   "outputs": [
    {
     "data": {
      "text/html": [
       "<div>\n",
       "<style scoped>\n",
       "    .dataframe tbody tr th:only-of-type {\n",
       "        vertical-align: middle;\n",
       "    }\n",
       "\n",
       "    .dataframe tbody tr th {\n",
       "        vertical-align: top;\n",
       "    }\n",
       "\n",
       "    .dataframe thead th {\n",
       "        text-align: right;\n",
       "    }\n",
       "</style>\n",
       "<table border=\"1\" class=\"dataframe\">\n",
       "  <thead>\n",
       "    <tr style=\"text-align: right;\">\n",
       "      <th></th>\n",
       "      <th>label</th>\n",
       "      <th>label_start</th>\n",
       "      <th>label_start_datetime</th>\n",
       "      <th>label_end</th>\n",
       "      <th>label_end_datetime</th>\n",
       "    </tr>\n",
       "  </thead>\n",
       "  <tbody>\n",
       "    <tr>\n",
       "      <th>0</th>\n",
       "      <td>_jump</td>\n",
       "      <td>1.62392e+18</td>\n",
       "      <td>2021-06-17 09:30:37</td>\n",
       "      <td>1.62392e+18</td>\n",
       "      <td>2021-06-17 09:41:28</td>\n",
       "    </tr>\n",
       "    <tr>\n",
       "      <th>1</th>\n",
       "      <td>_lay</td>\n",
       "      <td>1.62392e+18</td>\n",
       "      <td>2021-06-17 12:02:15</td>\n",
       "      <td>1.62392e+18</td>\n",
       "      <td>2021-06-17 12:12:15</td>\n",
       "    </tr>\n",
       "    <tr>\n",
       "      <th>2</th>\n",
       "      <td>_run</td>\n",
       "      <td>1.62392e+18</td>\n",
       "      <td>2021-06-17 10:55:26</td>\n",
       "      <td>1.62392e+18</td>\n",
       "      <td>2021-06-17 11:05:26</td>\n",
       "    </tr>\n",
       "    <tr>\n",
       "      <th>3</th>\n",
       "      <td>_walk</td>\n",
       "      <td>1.62391e+18</td>\n",
       "      <td>2021-06-17 09:02:18</td>\n",
       "      <td>1.62391e+18</td>\n",
       "      <td>2021-06-17 09:07:58</td>\n",
       "    </tr>\n",
       "    <tr>\n",
       "      <th>4</th>\n",
       "      <td>_sit</td>\n",
       "      <td>1.62392e+18</td>\n",
       "      <td>2021-06-17 11:39:18</td>\n",
       "      <td>1.62392e+18</td>\n",
       "      <td>2021-06-17 11:49:18</td>\n",
       "    </tr>\n",
       "  </tbody>\n",
       "</table>\n",
       "</div>"
      ],
      "text/plain": [
       "   label  label_start label_start_datetime    label_end   label_end_datetime\n",
       "0  _jump  1.62392e+18  2021-06-17 09:30:37  1.62392e+18  2021-06-17 09:41:28\n",
       "1   _lay  1.62392e+18  2021-06-17 12:02:15  1.62392e+18  2021-06-17 12:12:15\n",
       "2   _run  1.62392e+18  2021-06-17 10:55:26  1.62392e+18  2021-06-17 11:05:26\n",
       "3  _walk  1.62391e+18  2021-06-17 09:02:18  1.62391e+18  2021-06-17 09:07:58\n",
       "4   _sit  1.62392e+18  2021-06-17 11:39:18  1.62392e+18  2021-06-17 11:49:18"
      ]
     },
     "execution_count": 10,
     "metadata": {},
     "output_type": "execute_result"
    }
   ],
   "source": [
    "df_labels"
   ]
  },
  {
   "cell_type": "code",
   "execution_count": 15,
   "metadata": {},
   "outputs": [],
   "source": [
    "df_labels.to_csv(output_data_path + \"lavels.csv\")"
   ]
  },
  {
   "cell_type": "code",
   "execution_count": 12,
   "metadata": {},
   "outputs": [
    {
     "data": {
      "text/plain": [
       "Time (s)               1.623923e+18\n",
       "Gyroscope x (rad/s)   -1.908320e-03\n",
       "Gyroscope y (rad/s)   -2.440119e-03\n",
       "Gyroscope z (rad/s)    6.100297e-04\n",
       "Name: (_sit, 118610), dtype: float64"
      ]
     },
     "execution_count": 12,
     "metadata": {},
     "output_type": "execute_result"
    }
   ],
   "source": [
    "data.loc[(\"_sit\", len(data.loc[\"_sit\"])-1)]"
   ]
  },
  {
   "cell_type": "code",
   "execution_count": 36,
   "metadata": {},
   "outputs": [],
   "source": [
    "# transform_time(data, labels)"
   ]
  },
  {
   "cell_type": "code",
   "execution_count": 13,
   "metadata": {},
   "outputs": [
    {
     "data": {
      "text/html": [
       "<div>\n",
       "<style scoped>\n",
       "    .dataframe tbody tr th:only-of-type {\n",
       "        vertical-align: middle;\n",
       "    }\n",
       "\n",
       "    .dataframe tbody tr th {\n",
       "        vertical-align: top;\n",
       "    }\n",
       "\n",
       "    .dataframe thead th {\n",
       "        text-align: right;\n",
       "    }\n",
       "</style>\n",
       "<table border=\"1\" class=\"dataframe\">\n",
       "  <thead>\n",
       "    <tr style=\"text-align: right;\">\n",
       "      <th></th>\n",
       "      <th></th>\n",
       "      <th>Time (s)</th>\n",
       "      <th>Gyroscope x (rad/s)</th>\n",
       "      <th>Gyroscope y (rad/s)</th>\n",
       "      <th>Gyroscope z (rad/s)</th>\n",
       "    </tr>\n",
       "  </thead>\n",
       "  <tbody>\n",
       "    <tr>\n",
       "      <th rowspan=\"5\" valign=\"top\">_jump</th>\n",
       "      <th>0</th>\n",
       "      <td>1.623915e+18</td>\n",
       "      <td>-0.580073</td>\n",
       "      <td>0.704529</td>\n",
       "      <td>-0.625124</td>\n",
       "    </tr>\n",
       "    <tr>\n",
       "      <th>1</th>\n",
       "      <td>1.623915e+18</td>\n",
       "      <td>-0.589660</td>\n",
       "      <td>0.710388</td>\n",
       "      <td>-0.644831</td>\n",
       "    </tr>\n",
       "    <tr>\n",
       "      <th>2</th>\n",
       "      <td>1.623915e+18</td>\n",
       "      <td>-0.613628</td>\n",
       "      <td>0.735422</td>\n",
       "      <td>-0.670398</td>\n",
       "    </tr>\n",
       "    <tr>\n",
       "      <th>3</th>\n",
       "      <td>1.623915e+18</td>\n",
       "      <td>-0.635466</td>\n",
       "      <td>0.735955</td>\n",
       "      <td>-0.675724</td>\n",
       "    </tr>\n",
       "    <tr>\n",
       "      <th>4</th>\n",
       "      <td>1.623915e+18</td>\n",
       "      <td>-0.665294</td>\n",
       "      <td>0.711454</td>\n",
       "      <td>-0.654951</td>\n",
       "    </tr>\n",
       "    <tr>\n",
       "      <th>...</th>\n",
       "      <th>...</th>\n",
       "      <td>...</td>\n",
       "      <td>...</td>\n",
       "      <td>...</td>\n",
       "      <td>...</td>\n",
       "    </tr>\n",
       "    <tr>\n",
       "      <th rowspan=\"5\" valign=\"top\">_sit</th>\n",
       "      <th>118606</th>\n",
       "      <td>1.623923e+18</td>\n",
       "      <td>-0.002441</td>\n",
       "      <td>0.000223</td>\n",
       "      <td>0.001143</td>\n",
       "    </tr>\n",
       "    <tr>\n",
       "      <th>118607</th>\n",
       "      <td>1.623923e+18</td>\n",
       "      <td>-0.004039</td>\n",
       "      <td>-0.001907</td>\n",
       "      <td>0.001143</td>\n",
       "    </tr>\n",
       "    <tr>\n",
       "      <th>118608</th>\n",
       "      <td>1.623923e+18</td>\n",
       "      <td>-0.004039</td>\n",
       "      <td>-0.003505</td>\n",
       "      <td>0.000077</td>\n",
       "    </tr>\n",
       "    <tr>\n",
       "      <th>118609</th>\n",
       "      <td>1.623923e+18</td>\n",
       "      <td>0.000222</td>\n",
       "      <td>-0.003505</td>\n",
       "      <td>-0.002053</td>\n",
       "    </tr>\n",
       "    <tr>\n",
       "      <th>118610</th>\n",
       "      <td>1.623923e+18</td>\n",
       "      <td>-0.001908</td>\n",
       "      <td>-0.002440</td>\n",
       "      <td>0.000610</td>\n",
       "    </tr>\n",
       "  </tbody>\n",
       "</table>\n",
       "<p>551729 rows × 4 columns</p>\n",
       "</div>"
      ],
      "text/plain": [
       "                  Time (s)  Gyroscope x (rad/s)  Gyroscope y (rad/s)  \\\n",
       "_jump 0       1.623915e+18            -0.580073             0.704529   \n",
       "      1       1.623915e+18            -0.589660             0.710388   \n",
       "      2       1.623915e+18            -0.613628             0.735422   \n",
       "      3       1.623915e+18            -0.635466             0.735955   \n",
       "      4       1.623915e+18            -0.665294             0.711454   \n",
       "...                    ...                  ...                  ...   \n",
       "_sit  118606  1.623923e+18            -0.002441             0.000223   \n",
       "      118607  1.623923e+18            -0.004039            -0.001907   \n",
       "      118608  1.623923e+18            -0.004039            -0.003505   \n",
       "      118609  1.623923e+18             0.000222            -0.003505   \n",
       "      118610  1.623923e+18            -0.001908            -0.002440   \n",
       "\n",
       "              Gyroscope z (rad/s)  \n",
       "_jump 0                 -0.625124  \n",
       "      1                 -0.644831  \n",
       "      2                 -0.670398  \n",
       "      3                 -0.675724  \n",
       "      4                 -0.654951  \n",
       "...                           ...  \n",
       "_sit  118606             0.001143  \n",
       "      118607             0.001143  \n",
       "      118608             0.000077  \n",
       "      118609            -0.002053  \n",
       "      118610             0.000610  \n",
       "\n",
       "[551729 rows x 4 columns]"
      ]
     },
     "execution_count": 13,
     "metadata": {},
     "output_type": "execute_result"
    }
   ],
   "source": [
    "data"
   ]
  },
  {
   "cell_type": "code",
   "execution_count": 14,
   "metadata": {},
   "outputs": [
    {
     "data": {
      "text/plain": [
       "0         3.247838e+18\n",
       "1         3.247838e+18\n",
       "2         3.247838e+18\n",
       "3         3.247838e+18\n",
       "4         3.247838e+18\n",
       "              ...     \n",
       "118606    3.247839e+18\n",
       "118607    3.247839e+18\n",
       "118608    3.247839e+18\n",
       "118609    3.247839e+18\n",
       "118610    3.247839e+18\n",
       "Name: Time (s), Length: 118611, dtype: float64"
      ]
     },
     "execution_count": 14,
     "metadata": {},
     "output_type": "execute_result"
    }
   ],
   "source": [
    "data.loc[\"_sit\"][\"Time (s)\"] + data.loc[(\"_jump\", len(data.loc[\"_jump\"])-1)][\"Time (s)\"]"
   ]
  },
  {
   "cell_type": "code",
   "execution_count": null,
   "metadata": {},
   "outputs": [],
   "source": []
  }
 ],
 "metadata": {
  "kernelspec": {
   "display_name": "Python 3",
   "language": "python",
   "name": "python3"
  },
  "language_info": {
   "codemirror_mode": {
    "name": "ipython",
    "version": 3
   },
   "file_extension": ".py",
   "mimetype": "text/x-python",
   "name": "python",
   "nbconvert_exporter": "python",
   "pygments_lexer": "ipython3",
   "version": "3.8.8"
  }
 },
 "nbformat": 4,
 "nbformat_minor": 4
}
