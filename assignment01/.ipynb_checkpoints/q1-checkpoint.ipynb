{
 "cells": [
  {
   "cell_type": "code",
   "execution_count": 1,
   "id": "6d5e6c8a",
   "metadata": {},
   "outputs": [],
   "source": [
    "from Chapter2.CreateDataset import CreateDataset\n",
    "import pandas as pd\n",
    "import matplotlib.pyplot as plt\n",
    "import os\n",
    "import copy\n",
    "from util.VisualizeDataset import VisualizeDataset\n",
    "from util import util"
   ]
  },
  {
   "cell_type": "code",
   "execution_count": 2,
   "id": "94f49522",
   "metadata": {},
   "outputs": [],
   "source": [
    "rawdatapath = \"data/raw/\"\n",
    "outputpath = \"data/intermediate/\"\n",
    "\n",
    "if not os.path.exists(outputpath):\n",
    "    print(\"Empty path, so creating...\" + outputpath + \"...done!\")\n",
    "    os.makedirs(outputpath)"
   ]
  },
  {
   "cell_type": "code",
   "execution_count": 3,
   "id": "5a30ed7e",
   "metadata": {},
   "outputs": [
    {
     "data": {
      "text/plain": [
       "['Acceleration x (m/s^2)', 'Acceleration y (m/s^2)', 'Acceleration z (m/s^2)']"
      ]
     },
     "execution_count": 3,
     "metadata": {},
     "output_type": "execute_result"
    }
   ],
   "source": [
    "accraw= pd.read_csv(rawdatapath+\"Accelerometer_raw.csv\")\n",
    "timecol = \"Time (s)\"\n",
    "accfeatures = list()\n",
    "for col in accraw:\n",
    "    if (col != timecol) and \\\n",
    "    (col != \"Absolute acceleration (m/s^2)\"):\n",
    "        accfeatures.append(col)\n",
    "accfeatures"
   ]
  },
  {
   "cell_type": "code",
   "execution_count": 4,
   "id": "20f1bc10",
   "metadata": {},
   "outputs": [
    {
     "data": {
      "text/plain": [
       "['Gyroscope x (rad/s)', 'Gyroscope y (rad/s)', 'Gyroscope z (rad/s)']"
      ]
     },
     "execution_count": 4,
     "metadata": {},
     "output_type": "execute_result"
    }
   ],
   "source": [
    "gyraw= pd.read_csv(rawdatapath+\"Gyroscope_raw.csv\")\n",
    "gyfeatures = list()\n",
    "for col in gyraw:\n",
    "    if (col != timecol) and \\\n",
    "    (col != \"Absolute (rad/s)\"):\n",
    "        gyfeatures.append(col)\n",
    "gyfeatures"
   ]
  },
  {
   "cell_type": "code",
   "execution_count": 5,
   "id": "bc626f74",
   "metadata": {},
   "outputs": [
    {
     "data": {
      "text/plain": [
       "['Illuminance (lx)']"
      ]
     },
     "execution_count": 5,
     "metadata": {},
     "output_type": "execute_result"
    }
   ],
   "source": [
    "lightraw= pd.read_csv(rawdatapath+\"Light_raw.csv\")\n",
    "lightfeatures = list()\n",
    "for col in lightraw:\n",
    "    if (col != timecol):\n",
    "        lightfeatures.append(col)\n",
    "lightfeatures"
   ]
  },
  {
   "cell_type": "code",
   "execution_count": 6,
   "id": "2f1fb9f8",
   "metadata": {},
   "outputs": [
    {
     "data": {
      "text/plain": [
       "['Latitude (°)',\n",
       " 'Longitude (°)',\n",
       " 'Altitude (m)',\n",
       " 'Altitude WGS84 (m)',\n",
       " 'Speed (m/s)',\n",
       " 'Direction (°)',\n",
       " 'Distance (km)',\n",
       " 'Horizontal Accuracy (m)',\n",
       " 'Vertical Accuracy (m)']"
      ]
     },
     "execution_count": 6,
     "metadata": {},
     "output_type": "execute_result"
    }
   ],
   "source": [
    "locraw= pd.read_csv(rawdatapath+\"Location_raw.csv\")\n",
    "locfeatures = list()\n",
    "for col in locraw:\n",
    "    if (col != timecol) and \\\n",
    "    (col != \"Satellites\"):\n",
    "        locfeatures.append(col)\n",
    "locfeatures"
   ]
  },
  {
   "cell_type": "code",
   "execution_count": 7,
   "id": "d35b9df1",
   "metadata": {},
   "outputs": [
    {
     "data": {
      "text/plain": [
       "['Magnetic Field x (µT)', 'Magnetic Field y (µT)', 'Magnetic Field z (µT)']"
      ]
     },
     "execution_count": 7,
     "metadata": {},
     "output_type": "execute_result"
    }
   ],
   "source": [
    "magraw= pd.read_csv(rawdatapath+\"Magnetometer_raw.csv\")\n",
    "magfeatures = list()\n",
    "for col in magraw:\n",
    "    if (col != timecol) and \\\n",
    "    (col != \"Absolute field (µT)\"):\n",
    "        magfeatures.append(col)\n",
    "magfeatures"
   ]
  },
  {
   "cell_type": "code",
   "execution_count": 8,
   "id": "a3e6a8b6",
   "metadata": {},
   "outputs": [],
   "source": [
    "granularities = [60000, 250]\n",
    "datasets = []"
   ]
  },
  {
   "cell_type": "code",
   "execution_count": 9,
   "id": "295e634a",
   "metadata": {},
   "outputs": [
    {
     "name": "stdout",
     "output_type": "stream",
     "text": [
      "Reading data from Accelerometer.csv\n",
      "Reading data from Gyroscope.csv\n",
      "Reading data from Light.csv\n",
      "Reading data from Location.csv\n",
      "Reading data from Magnetometer.csv\n",
      "Figure saved to figures\\figure_1.png\n"
     ]
    },
    {
     "data": {
      "image/png": "[encoded data removed]",
      "text/plain": [
       "<Figure size 432x288 with 1 Axes>"
      ]
     },
     "metadata": {
      "needs_background": "light"
     },
     "output_type": "display_data"
    },
    {
     "name": "stderr",
     "output_type": "stream",
     "text": [
      "C:\\Users\\Helia\\OneDrive\\VU-Cources\\Machine-Learning-for-the-Quantified-Self\\assignments\\ML4QS\\assignment01\\util\\VisualizeDataset.py:106: UserWarning: Attempting to set identical bottom == top == 18.1274535763809 results in singular transformations; automatically expanding.\n",
      "  max(max_values) + 0.1*(max(max_values) - min(min_values))])\n"
     ]
    },
    {
     "name": "stdout",
     "output_type": "stream",
     "text": [
      "Figure saved to figures\\figure_2.png\n"
     ]
    },
    {
     "data": {
      "image/png": "[encoded data removed]",
      "text/plain": [
       "<Figure size 432x288 with 5 Axes>"
      ]
     },
     "metadata": {
      "needs_background": "light"
     },
     "output_type": "display_data"
    },
    {
     "name": "stdout",
     "output_type": "stream",
     "text": [
      "       gyr_Gyroscope x (rad/s)  gyr_Gyroscope y (rad/s)  gyr_Gyroscope z (rad/s)  lux_Illuminance (lx)  loc_Latitude (°)  loc_Longitude (°)  loc_Altitude (m)  loc_Altitude WGS84 (m)  loc_Speed (m/s)  loc_Direction (°)  loc_Distance (km)  loc_Horizontal Accuracy (m)  loc_Vertical Accuracy (m)  mag_Magnetic Field x (µT)  mag_Magnetic Field y (µT)  mag_Magnetic Field z (µT)\n",
      "count                    1.000                    1.000                    1.000                 1.000             1.000              1.000              1.00                   1.000            1.000               1.00                0.0                        1.000                       1.00                      1.000                      1.000                      1.000\n",
      "mean                     0.007                   -0.005                    0.016                18.127            28.689            115.878             20.03                  15.557            4.408              83.96                NaN                        5.552                       3.37                    -10.243                     -8.837                    -20.793\n",
      "std                        NaN                      NaN                      NaN                   NaN               NaN                NaN               NaN                     NaN              NaN                NaN                NaN                          NaN                        NaN                        NaN                        NaN                        NaN\n",
      "min                      0.007                   -0.005                    0.016                18.127            28.689            115.878             20.03                  15.557            4.408              83.96                NaN                        5.552                       3.37                    -10.243                     -8.837                    -20.793\n",
      "25%                      0.007                   -0.005                    0.016                18.127            28.689            115.878             20.03                  15.557            4.408              83.96                NaN                        5.552                       3.37                    -10.243                     -8.837                    -20.793\n",
      "50%                      0.007                   -0.005                    0.016                18.127            28.689            115.878             20.03                  15.557            4.408              83.96                NaN                        5.552                       3.37                    -10.243                     -8.837                    -20.793\n",
      "75%                      0.007                   -0.005                    0.016                18.127            28.689            115.878             20.03                  15.557            4.408              83.96                NaN                        5.552                       3.37                    -10.243                     -8.837                    -20.793\n",
      "max                      0.007                   -0.005                    0.016                18.127            28.689            115.878             20.03                  15.557            4.408              83.96                NaN                        5.552                       3.37                    -10.243                     -8.837                    -20.793\n",
      "Reading data from Accelerometer.csv\n",
      "Reading data from Gyroscope.csv\n",
      "Reading data from Light.csv\n",
      "Reading data from Location.csv\n",
      "Reading data from Magnetometer.csv\n",
      "Figure saved to figures\\figure_1.png\n"
     ]
    },
    {
     "data": {
      "image/png": "[encoded data removed]",
      "text/plain": [
       "<Figure size 432x288 with 1 Axes>"
      ]
     },
     "metadata": {
      "needs_background": "light"
     },
     "output_type": "display_data"
    },
    {
     "name": "stderr",
     "output_type": "stream",
     "text": [
      "C:\\Users\\Helia\\OneDrive\\VU-Cources\\Machine-Learning-for-the-Quantified-Self\\assignments\\ML4QS\\assignment01\\util\\VisualizeDataset.py:106: UserWarning: Attempting to set identical bottom == top == 18.1274535763809 results in singular transformations; automatically expanding.\n",
      "  max(max_values) + 0.1*(max(max_values) - min(min_values))])\n"
     ]
    },
    {
     "name": "stdout",
     "output_type": "stream",
     "text": [
      "Figure saved to figures\\figure_2.png\n"
     ]
    },
    {
     "data": {
      "image/png": "[encoded data removed]",
      "text/plain": [
       "<Figure size 432x288 with 5 Axes>"
      ]
     },
     "metadata": {
      "needs_background": "light"
     },
     "output_type": "display_data"
    },
    {
     "name": "stdout",
     "output_type": "stream",
     "text": [
      "       gyr_Gyroscope x (rad/s)  gyr_Gyroscope y (rad/s)  gyr_Gyroscope z (rad/s)  lux_Illuminance (lx)  loc_Latitude (°)  loc_Longitude (°)  loc_Altitude (m)  loc_Altitude WGS84 (m)  loc_Speed (m/s)  loc_Direction (°)  loc_Distance (km)  loc_Horizontal Accuracy (m)  loc_Vertical Accuracy (m)  mag_Magnetic Field x (µT)  mag_Magnetic Field y (µT)  mag_Magnetic Field z (µT)\n",
      "count                    1.000                    1.000                    1.000                 1.000             1.000              1.000              1.00                   1.000            1.000               1.00                0.0                        1.000                       1.00                      1.000                      1.000                      1.000\n",
      "mean                     0.007                   -0.005                    0.016                18.127            28.689            115.878             20.03                  15.557            4.408              83.96                NaN                        5.552                       3.37                    -10.243                     -8.837                    -20.793\n",
      "std                        NaN                      NaN                      NaN                   NaN               NaN                NaN               NaN                     NaN              NaN                NaN                NaN                          NaN                        NaN                        NaN                        NaN                        NaN\n",
      "min                      0.007                   -0.005                    0.016                18.127            28.689            115.878             20.03                  15.557            4.408              83.96                NaN                        5.552                       3.37                    -10.243                     -8.837                    -20.793\n",
      "25%                      0.007                   -0.005                    0.016                18.127            28.689            115.878             20.03                  15.557            4.408              83.96                NaN                        5.552                       3.37                    -10.243                     -8.837                    -20.793\n",
      "50%                      0.007                   -0.005                    0.016                18.127            28.689            115.878             20.03                  15.557            4.408              83.96                NaN                        5.552                       3.37                    -10.243                     -8.837                    -20.793\n",
      "75%                      0.007                   -0.005                    0.016                18.127            28.689            115.878             20.03                  15.557            4.408              83.96                NaN                        5.552                       3.37                    -10.243                     -8.837                    -20.793\n",
      "max                      0.007                   -0.005                    0.016                18.127            28.689            115.878             20.03                  15.557            4.408              83.96                NaN                        5.552                       3.37                    -10.243                     -8.837                    -20.793\n"
     ]
    }
   ],
   "source": [
    "for g in granularities:\n",
    "    \n",
    "    Dataset = CreateDataset(rawdatapath, g)\n",
    "\n",
    "    Dataset.add_numerical_dataset(\"Accelerometer.csv\", timecol, accfeatures, \"avg\", \"acc_\")\n",
    "\n",
    "    Dataset.add_numerical_dataset(\"Gyroscope.csv\", timecol, gyfeatures, \"avg\", \"gyr_\")\n",
    "    \n",
    "    Dataset.add_numerical_dataset(\"Light.csv\", timecol, lightfeatures, \"avg\", \"lux_\")\n",
    "    \n",
    "    Dataset.add_numerical_dataset(\"Location.csv\", timecol, locfeatures, \"avg\", \"loc_\")\n",
    "    \n",
    "    Dataset.add_numerical_dataset(\"Magnetometer.csv\", timecol, magfeatures, \"avg\", \"mag_\")\n",
    "    #Dataset = accraw\n",
    "    dataset = Dataset.data_table\n",
    "    print(dataset)\n",
    "    Dataviz = VisualizeDataset()\n",
    "    \n",
    "    Dataviz.plot_dataset_boxplot(dataset, ['acc_Acceleration x (m/s^2)', 'acc_Acceleration y (m/s^2)', 'acc_Acceleration z (m/s^2)'])\n",
    "    #Dataviz.plot_dataset_boxplot(dataset, ['acc_x', 'acc_y', 'acc_z'])\n",
    "    Dataviz.plot_dataset(dataset, [\"acc_\", \"gyr_\", \"lux_\", \"loc_\", \"mag_\"], \\\n",
    "                            [\"like\", \"like\", \"like\", \"like\", \"like\"], \\\n",
    "                            [\"line\", \"line\", \"line\", \"line\", \"line\"])\n",
    "    \n",
    "    util.print_statistics(dataset)\n",
    "    datasets.append(copy.deepcopy(dataset))"
   ]
  },
  {
   "cell_type": "code",
   "execution_count": 10,
   "id": "1b72c06c",
   "metadata": {},
   "outputs": [
    {
     "name": "stdout",
     "output_type": "stream",
     "text": [
      "attribute, fraction missing values, mean, standard deviation, min, max\n",
      "acc_Acceleration x (m/s^2) & 0.00  /  0.00 & -1.66  /  -1.66 & nan  /  nan & -1.66  /  -1.66 & -1.66  /  -1.66\\\\\n",
      "acc_Acceleration y (m/s^2) & 0.00  /  0.00 & 7.36  /  7.36 & nan  /  nan & 7.36  /  7.36 & 7.36  /  7.36\\\\\n",
      "acc_Acceleration z (m/s^2) & 0.00  /  0.00 & 6.16  /  6.16 & nan  /  nan & 6.16  /  6.16 & 6.16  /  6.16\\\\\n",
      "gyr_Gyroscope x (rad/s) & 0.00  /  0.00 & 0.01  /  0.01 & nan  /  nan & 0.01  /  0.01 & 0.01  /  0.01\\\\\n",
      "gyr_Gyroscope y (rad/s) & 0.00  /  0.00 & -0.01  /  -0.01 & nan  /  nan & -0.01  /  -0.01 & -0.01  /  -0.01\\\\\n",
      "gyr_Gyroscope z (rad/s) & 0.00  /  0.00 & 0.02  /  0.02 & nan  /  nan & 0.02  /  0.02 & 0.02  /  0.02\\\\\n",
      "lux_Illuminance (lx) & 0.00  /  0.00 & 18.13  /  18.13 & nan  /  nan & 18.13  /  18.13 & 18.13  /  18.13\\\\\n",
      "loc_Latitude (°) & 0.00  /  0.00 & 28.69  /  28.69 & nan  /  nan & 28.69  /  28.69 & 28.69  /  28.69\\\\\n",
      "loc_Longitude (°) & 0.00  /  0.00 & 115.88  /  115.88 & nan  /  nan & 115.88  /  115.88 & 115.88  /  115.88\\\\\n",
      "loc_Altitude (m) & 0.00  /  0.00 & 20.03  /  20.03 & nan  /  nan & 20.03  /  20.03 & 20.03  /  20.03\\\\\n",
      "loc_Altitude WGS84 (m) & 0.00  /  0.00 & 15.56  /  15.56 & nan  /  nan & 15.56  /  15.56 & 15.56  /  15.56\\\\\n",
      "loc_Speed (m/s) & 0.00  /  0.00 & 4.41  /  4.41 & nan  /  nan & 4.41  /  4.41 & 4.41  /  4.41\\\\\n",
      "loc_Direction (°) & 0.00  /  0.00 & 83.96  /  83.96 & nan  /  nan & 83.96  /  83.96 & 83.96  /  83.96\\\\\n",
      "loc_Distance (km) & 100.00  /  100.00 & nan  /  nan & nan  /  nan & nan  /  nan & nan  /  nan\\\\\n",
      "loc_Horizontal Accuracy (m) & 0.00  /  0.00 & 5.55  /  5.55 & nan  /  nan & 5.55  /  5.55 & 5.55  /  5.55\\\\\n",
      "loc_Vertical Accuracy (m) & 0.00  /  0.00 & 3.37  /  3.37 & nan  /  nan & 3.37  /  3.37 & 3.37  /  3.37\\\\\n",
      "mag_Magnetic Field x (µT) & 0.00  /  0.00 & -10.24  /  -10.24 & nan  /  nan & -10.24  /  -10.24 & -10.24  /  -10.24\\\\\n",
      "mag_Magnetic Field y (µT) & 0.00  /  0.00 & -8.84  /  -8.84 & nan  /  nan & -8.84  /  -8.84 & -8.84  /  -8.84\\\\\n",
      "mag_Magnetic Field z (µT) & 0.00  /  0.00 & -20.79  /  -20.79 & nan  /  nan & -20.79  /  -20.79 & -20.79  /  -20.79\\\\\n"
     ]
    }
   ],
   "source": [
    "util.print_latex_table_statistics_two_datasets(datasets[0], datasets[1])\n",
    "dataset.to_csv(outputpath + 'chapter2_result.csv')"
   ]
  },
  {
   "cell_type": "code",
   "execution_count": null,
   "id": "2173c938",
   "metadata": {},
   "outputs": [],
   "source": []
  }
 ],
 "metadata": {
  "kernelspec": {
   "display_name": "Python 3",
   "language": "python",
   "name": "python3"
  },
  "language_info": {
   "codemirror_mode": {
    "name": "ipython",
    "version": 3
   },
   "file_extension": ".py",
   "mimetype": "text/x-python",
   "name": "python",
   "nbconvert_exporter": "python",
   "pygments_lexer": "ipython3",
   "version": "3.7.9"
  }
 },
 "nbformat": 4,
 "nbformat_minor": 5
}
