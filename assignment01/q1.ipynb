{
 "cells": [
  {
   "cell_type": "code",
   "execution_count": 33,
   "id": "adb86c07",
   "metadata": {},
   "outputs": [],
   "source": [
    "from Chapter2.CreateDataset import CreateDataset\n",
    "import pandas as pd\n",
    "import matplotlib.pyplot as plt\n",
    "import os\n",
    "from util.VisualizeDataset import VisualizeDataset\n",
    "from util import util"
   ]
  },
  {
   "cell_type": "code",
   "execution_count": 34,
   "id": "df86e728",
   "metadata": {},
   "outputs": [],
   "source": [
    "rawdatapath = \"data/raw/\"\n",
    "outputpath = \"data/intermediate/\"\n",
    "\n",
    "if not os.path.exists(outputpath):\n",
    "    print(\"Empty path, so creating...\" + outputpath + \"...done!\")\n",
    "    os.makedirs(outputpath)"
   ]
  },
  {
   "cell_type": "code",
   "execution_count": 35,
   "id": "df602f8f",
   "metadata": {},
   "outputs": [],
   "source": [
    "timecol = \"Time (s)\"\n",
    "featurecols = [\"Gyroscope x (rad/s)\", \"Gyroscope y (rad/s)\", \"Gyroscope z (rad/s)\"]\n",
    "granularities = [60000, 250]"
   ]
  },
  {
   "cell_type": "code",
   "execution_count": 36,
   "id": "60f35fea",
   "metadata": {},
   "outputs": [
    {
     "name": "stdout",
     "output_type": "stream",
     "text": [
      "Reading data from Gyroscope_raw.csv\n",
      "Reading data from Gyroscope_raw.csv\n"
     ]
    }
   ],
   "source": [
    "for g in granularities:\n",
    "    dataset = CreateDataset(rawdatapath, g)\n",
    "    dataset.add_numerical_dataset(\"Gyroscope_raw.csv\", timecol, featurecols, \"avg\")\n",
    "    dataset = dataset.data_table"
   ]
  },
  {
   "cell_type": "code",
   "execution_count": 37,
   "id": "1c8cf31f",
   "metadata": {},
   "outputs": [
    {
     "name": "stdout",
     "output_type": "stream",
     "text": [
      "Figure saved to figures\\figure_1.png\n"
     ]
    },
    {
     "data": {
      "image/png": "[encoded data removed]",
      "text/plain": [
       "<Figure size 432x288 with 1 Axes>"
      ]
     },
     "metadata": {
      "needs_background": "light"
     },
     "output_type": "display_data"
    }
   ],
   "source": [
    "datavis = VisualizeDataset()\n",
    "datavis.plot_dataset_boxplot(dataset, featurecols)"
   ]
  },
  {
   "cell_type": "code",
   "execution_count": 38,
   "id": "d309173f",
   "metadata": {},
   "outputs": [
    {
     "name": "stdout",
     "output_type": "stream",
     "text": [
      "        Gyroscope x (rad/s)  Gyroscope y (rad/s)  Gyroscope z (rad/s)\n",
      "count                 1.000                1.000                1.000\n",
      "unique                1.000                1.000                1.000\n",
      "top                  -0.005               -0.006               -0.077\n",
      "freq                  1.000                1.000                1.000\n"
     ]
    }
   ],
   "source": [
    "util.print_statistics(dataset)"
   ]
  },
  {
   "cell_type": "code",
   "execution_count": 39,
   "id": "0cfe135a",
   "metadata": {},
   "outputs": [
    {
     "data": {
      "text/html": [
       "<div>\n",
       "<style scoped>\n",
       "    .dataframe tbody tr th:only-of-type {\n",
       "        vertical-align: middle;\n",
       "    }\n",
       "\n",
       "    .dataframe tbody tr th {\n",
       "        vertical-align: top;\n",
       "    }\n",
       "\n",
       "    .dataframe thead th {\n",
       "        text-align: right;\n",
       "    }\n",
       "</style>\n",
       "<table border=\"1\" class=\"dataframe\">\n",
       "  <thead>\n",
       "    <tr style=\"text-align: right;\">\n",
       "      <th></th>\n",
       "      <th>Gyroscope x (rad/s)</th>\n",
       "      <th>Gyroscope y (rad/s)</th>\n",
       "      <th>Gyroscope z (rad/s)</th>\n",
       "    </tr>\n",
       "  </thead>\n",
       "  <tbody>\n",
       "    <tr>\n",
       "      <th>1970-01-01</th>\n",
       "      <td>-0.005004</td>\n",
       "      <td>-0.006345</td>\n",
       "      <td>-0.076555</td>\n",
       "    </tr>\n",
       "  </tbody>\n",
       "</table>\n",
       "</div>"
      ],
      "text/plain": [
       "           Gyroscope x (rad/s) Gyroscope y (rad/s) Gyroscope z (rad/s)\n",
       "1970-01-01           -0.005004           -0.006345           -0.076555"
      ]
     },
     "execution_count": 39,
     "metadata": {},
     "output_type": "execute_result"
    }
   ],
   "source": [
    "dataset"
   ]
  },
  {
   "cell_type": "code",
   "execution_count": null,
   "id": "f0672be2",
   "metadata": {},
   "outputs": [],
   "source": []
  }
 ],
 "metadata": {
  "kernelspec": {
   "display_name": "Python 3",
   "language": "python",
   "name": "python3"
  },
  "language_info": {
   "codemirror_mode": {
    "name": "ipython",
    "version": 3
   },
   "file_extension": ".py",
   "mimetype": "text/x-python",
   "name": "python",
   "nbconvert_exporter": "python",
   "pygments_lexer": "ipython3",
   "version": "3.7.9"
  }
 },
 "nbformat": 4,
 "nbformat_minor": 5
}
