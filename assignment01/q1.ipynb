{
 "cells": [
  {
   "cell_type": "code",
   "execution_count": 1,
   "id": "8270b9db",
   "metadata": {},
   "outputs": [],
   "source": [
    "from Chapter2.CreateDataset import CreateDataset\n",
    "import pandas as pd\n",
    "import matplotlib.pyplot as plt\n",
    "import os\n",
    "import copy\n",
    "from util.VisualizeDataset import VisualizeDataset\n",
    "from util import util"
   ]
  },
  {
   "cell_type": "code",
   "execution_count": 2,
   "id": "3efdbd78",
   "metadata": {},
   "outputs": [],
   "source": [
    "rawdatapath = \"data/raw/\"\n",
    "outputpath = \"data/intermediate/\"\n",
    "\n",
    "if not os.path.exists(outputpath):\n",
    "    print(\"Empty path, so creating...\" + outputpath + \"...done!\")\n",
    "    os.makedirs(outputpath)"
   ]
  },
  {
   "cell_type": "code",
   "execution_count": 3,
   "id": "5a0fe9f1",
   "metadata": {},
   "outputs": [
    {
     "data": {
      "text/plain": [
       "['Acceleration x (m/s^2)', 'Acceleration y (m/s^2)', 'Acceleration z (m/s^2)']"
      ]
     },
     "execution_count": 3,
     "metadata": {},
     "output_type": "execute_result"
    }
   ],
   "source": [
    "accraw= pd.read_csv(rawdatapath+\"Accelerometer_raw.csv\")\n",
    "timecol = \"Time (s)\"\n",
    "accfeatures = list()\n",
    "for col in accraw:\n",
    "    if (col != timecol) and \\\n",
    "    (col != \"Absolute acceleration (m/s^2)\"):\n",
    "        accfeatures.append(col)\n",
    "accfeatures"
   ]
  },
  {
   "cell_type": "code",
   "execution_count": 4,
   "id": "943a4d69",
   "metadata": {},
   "outputs": [
    {
     "data": {
      "text/plain": [
       "['Gyroscope x (rad/s)', 'Gyroscope y (rad/s)', 'Gyroscope z (rad/s)']"
      ]
     },
     "execution_count": 4,
     "metadata": {},
     "output_type": "execute_result"
    }
   ],
   "source": [
    "gyraw= pd.read_csv(rawdatapath+\"Gyroscope_raw.csv\")\n",
    "gyfeatures = list()\n",
    "for col in gyraw:\n",
    "    if (col != timecol) and \\\n",
    "    (col != \"Absolute (rad/s)\"):\n",
    "        gyfeatures.append(col)\n",
    "gyfeatures"
   ]
  },
  {
   "cell_type": "code",
   "execution_count": 5,
   "id": "36b33206",
   "metadata": {},
   "outputs": [
    {
     "data": {
      "text/plain": [
       "['Illuminance (lx)']"
      ]
     },
     "execution_count": 5,
     "metadata": {},
     "output_type": "execute_result"
    }
   ],
   "source": [
    "lightraw= pd.read_csv(rawdatapath+\"Light_raw.csv\")\n",
    "lightfeatures = list()\n",
    "for col in lightraw:\n",
    "    if (col != timecol):\n",
    "        lightfeatures.append(col)\n",
    "lightfeatures"
   ]
  },
  {
   "cell_type": "code",
   "execution_count": 6,
   "id": "2886c038",
   "metadata": {},
   "outputs": [
    {
     "data": {
      "text/plain": [
       "['Latitude (°)',\n",
       " 'Longitude (°)',\n",
       " 'Altitude (m)',\n",
       " 'Altitude WGS84 (m)',\n",
       " 'Speed (m/s)',\n",
       " 'Direction (°)',\n",
       " 'Distance (km)',\n",
       " 'Horizontal Accuracy (m)',\n",
       " 'Vertical Accuracy (m)']"
      ]
     },
     "execution_count": 6,
     "metadata": {},
     "output_type": "execute_result"
    }
   ],
   "source": [
    "locraw= pd.read_csv(rawdatapath+\"Location_raw.csv\")\n",
    "locfeatures = list()\n",
    "for col in locraw:\n",
    "    if (col != timecol) and \\\n",
    "    (col != \"Satellites\"):\n",
    "        locfeatures.append(col)\n",
    "locfeatures"
   ]
  },
  {
   "cell_type": "code",
   "execution_count": 7,
   "id": "aaacac35",
   "metadata": {},
   "outputs": [
    {
     "data": {
      "text/plain": [
       "['Magnetic Field x (µT)', 'Magnetic Field y (µT)', 'Magnetic Field z (µT)']"
      ]
     },
     "execution_count": 7,
     "metadata": {},
     "output_type": "execute_result"
    }
   ],
   "source": [
    "magraw= pd.read_csv(rawdatapath+\"Magnetometer_raw.csv\")\n",
    "magfeatures = list()\n",
    "for col in magraw:\n",
    "    if (col != timecol) and \\\n",
    "    (col != \"Absolute field (µT)\"):\n",
    "        magfeatures.append(col)\n",
    "magfeatures"
   ]
  },
  {
   "cell_type": "code",
   "execution_count": 8,
   "id": "7dfd923d",
   "metadata": {},
   "outputs": [],
   "source": [
    "granularities = [60000]\n",
    "datasets = []"
   ]
  },
  {
   "cell_type": "code",
   "execution_count": 9,
   "id": "73276115",
   "metadata": {},
   "outputs": [
    {
     "ename": "AttributeError",
     "evalue": "'DataFrame' object has no attribute 'data_table'",
     "output_type": "error",
     "traceback": [
      "\u001b[1;31m---------------------------------------------------------------------------\u001b[0m",
      "\u001b[1;31mAttributeError\u001b[0m                            Traceback (most recent call last)",
      "\u001b[1;32m<ipython-input-9-62f4e6f26f0f>\u001b[0m in \u001b[0;36m<module>\u001b[1;34m\u001b[0m\n\u001b[0;32m     13\u001b[0m     \u001b[1;31m#Dataset.add_numerical_dataset(\"Magnetometer_raw.csv\", timecol, magfeatures, \"avg\", \"mag_\")\u001b[0m\u001b[1;33m\u001b[0m\u001b[1;33m\u001b[0m\u001b[1;33m\u001b[0m\u001b[0m\n\u001b[0;32m     14\u001b[0m     \u001b[0mDataset\u001b[0m \u001b[1;33m=\u001b[0m \u001b[0maccraw\u001b[0m\u001b[1;33m\u001b[0m\u001b[1;33m\u001b[0m\u001b[0m\n\u001b[1;32m---> 15\u001b[1;33m     \u001b[0mdataset\u001b[0m \u001b[1;33m=\u001b[0m \u001b[0mDataset\u001b[0m\u001b[1;33m.\u001b[0m\u001b[0mdata_table\u001b[0m\u001b[1;33m\u001b[0m\u001b[1;33m\u001b[0m\u001b[0m\n\u001b[0m\u001b[0;32m     16\u001b[0m     \u001b[1;31m#print(dataset)\u001b[0m\u001b[1;33m\u001b[0m\u001b[1;33m\u001b[0m\u001b[1;33m\u001b[0m\u001b[0m\n\u001b[0;32m     17\u001b[0m     \u001b[0mDataviz\u001b[0m \u001b[1;33m=\u001b[0m \u001b[0mVisualizeDataset\u001b[0m\u001b[1;33m(\u001b[0m\u001b[1;33m)\u001b[0m\u001b[1;33m\u001b[0m\u001b[1;33m\u001b[0m\u001b[0m\n",
      "\u001b[1;32m~\\anaconda3\\lib\\site-packages\\pandas\\core\\generic.py\u001b[0m in \u001b[0;36m__getattr__\u001b[1;34m(self, name)\u001b[0m\n\u001b[0;32m   5463\u001b[0m             \u001b[1;32mif\u001b[0m \u001b[0mself\u001b[0m\u001b[1;33m.\u001b[0m\u001b[0m_info_axis\u001b[0m\u001b[1;33m.\u001b[0m\u001b[0m_can_hold_identifiers_and_holds_name\u001b[0m\u001b[1;33m(\u001b[0m\u001b[0mname\u001b[0m\u001b[1;33m)\u001b[0m\u001b[1;33m:\u001b[0m\u001b[1;33m\u001b[0m\u001b[1;33m\u001b[0m\u001b[0m\n\u001b[0;32m   5464\u001b[0m                 \u001b[1;32mreturn\u001b[0m \u001b[0mself\u001b[0m\u001b[1;33m[\u001b[0m\u001b[0mname\u001b[0m\u001b[1;33m]\u001b[0m\u001b[1;33m\u001b[0m\u001b[1;33m\u001b[0m\u001b[0m\n\u001b[1;32m-> 5465\u001b[1;33m             \u001b[1;32mreturn\u001b[0m \u001b[0mobject\u001b[0m\u001b[1;33m.\u001b[0m\u001b[0m__getattribute__\u001b[0m\u001b[1;33m(\u001b[0m\u001b[0mself\u001b[0m\u001b[1;33m,\u001b[0m \u001b[0mname\u001b[0m\u001b[1;33m)\u001b[0m\u001b[1;33m\u001b[0m\u001b[1;33m\u001b[0m\u001b[0m\n\u001b[0m\u001b[0;32m   5466\u001b[0m \u001b[1;33m\u001b[0m\u001b[0m\n\u001b[0;32m   5467\u001b[0m     \u001b[1;32mdef\u001b[0m \u001b[0m__setattr__\u001b[0m\u001b[1;33m(\u001b[0m\u001b[0mself\u001b[0m\u001b[1;33m,\u001b[0m \u001b[0mname\u001b[0m\u001b[1;33m:\u001b[0m \u001b[0mstr\u001b[0m\u001b[1;33m,\u001b[0m \u001b[0mvalue\u001b[0m\u001b[1;33m)\u001b[0m \u001b[1;33m->\u001b[0m \u001b[1;32mNone\u001b[0m\u001b[1;33m:\u001b[0m\u001b[1;33m\u001b[0m\u001b[1;33m\u001b[0m\u001b[0m\n",
      "\u001b[1;31mAttributeError\u001b[0m: 'DataFrame' object has no attribute 'data_table'"
     ]
    }
   ],
   "source": [
    "for g in granularities:\n",
    "    \n",
    "    #Dataset = CreateDataset(rawdatapath, g)\n",
    "\n",
    "    #Dataset.add_numerical_dataset(\"Accelerometer_raw.csv\", timecol, accfeatures, \"avg\", \"acc_\")\n",
    "\n",
    "    #Dataset.add_numerical_dataset(\"Gyroscope_raw.csv\", timecol, gyfeatures, \"avg\", \"gyr_\")\n",
    "    \n",
    "    #Dataset.add_numerical_dataset(\"Light_raw.csv\", timecol, lightfeatures, \"avg\", \"lux_\")\n",
    "    \n",
    "    #Dataset.add_numerical_dataset(\"Location_raw.csv\", timecol, locfeatures, \"avg\", \"loc_\")\n",
    "    \n",
    "    #Dataset.add_numerical_dataset(\"Magnetometer_raw.csv\", timecol, magfeatures, \"avg\", \"mag_\")\n",
    "    Dataset = accraw\n",
    "    dataset = Dataset.data_table\n",
    "    #print(dataset)\n",
    "    Dataviz = VisualizeDataset()\n",
    "    \n",
    "    Dataviz.plot_dataset_boxplot(dataset, ['acc_Acceleration x (m/s^2)', 'acc_Acceleration y (m/s^2)', 'acc_Acceleration z (m/s^2)'])\n",
    "    #Dataviz.plot_dataset_boxplot(dataset, ['acc_x', 'acc_y', 'acc_z'])\n",
    "    #Dataviz.plot_dataset(dataset, [\"acc_\", \"gyr_\", \"lux_\", \"loc_\", \"mag_\"], \\\n",
    "    #                        [\"like\", \"like\", \"like\", \"like\", \"like\"], \\\n",
    "    #                        [\"line\", \"line\", \"line\", \"line\", \"line\"])\n",
    "    \n",
    "    #util.print_statistics(dataset)\n",
    "    #datasets.append(copy.deepcopy(dataset))"
   ]
  },
  {
   "cell_type": "code",
   "execution_count": null,
   "id": "3efb5902",
   "metadata": {},
   "outputs": [],
   "source": [
    "util.print_latex_table_statistics_two_datasets(datasets[0], datasets[1])\n",
    "dataset.to_csv(outputpath + 'chapter2_result.csv')"
   ]
  },
  {
   "cell_type": "code",
   "execution_count": null,
   "id": "144a93a0",
   "metadata": {},
   "outputs": [],
   "source": []
  }
 ],
 "metadata": {
  "kernelspec": {
   "display_name": "Python 3",
   "language": "python",
   "name": "python3"
  },
  "language_info": {
   "codemirror_mode": {
    "name": "ipython",
    "version": 3
   },
   "file_extension": ".py",
   "mimetype": "text/x-python",
   "name": "python",
   "nbconvert_exporter": "python",
   "pygments_lexer": "ipython3",
   "version": "3.7.9"
  }
 },
 "nbformat": 4,
 "nbformat_minor": 5
}
