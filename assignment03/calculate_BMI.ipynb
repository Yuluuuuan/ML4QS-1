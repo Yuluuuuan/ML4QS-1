{
 "cells": [
  {
   "cell_type": "code",
   "execution_count": 1,
   "id": "b0947b4c",
   "metadata": {},
   "outputs": [],
   "source": [
    "from Chapter2.CreateDataset import CreateDataset\n",
    "import pandas as pd\n",
    "import matplotlib.pyplot as plt\n",
    "import os\n",
    "import copy\n",
    "from util.VisualizeDataset import VisualizeDataset\n",
    "from util import util\n",
    "import time\n",
    "import numpy as np"
   ]
  },
  {
   "cell_type": "code",
   "execution_count": 43,
   "id": "875b63af",
   "metadata": {},
   "outputs": [],
   "source": [
    "raw_data_path = \"data/xinyu/\"\n",
    "output_data_path = \"data/\"\n",
    "labels = [\"_run\", \"_walk\"]\n",
    "labels1 = [\"_lay\", \"_sit\"]\n",
    "labels2 = [\"_jump\"]\n",
    "weights = [4, -1, 3, 2, 1]"
   ]
  },
  {
   "cell_type": "code",
   "execution_count": 46,
   "id": "db68a924",
   "metadata": {},
   "outputs": [
    {
     "data": {
      "text/plain": [
       "[[8.341807171680035, 5.607802703479075, 8.532207489]]"
      ]
     },
     "execution_count": 46,
     "metadata": {},
     "output_type": "execute_result"
    }
   ],
   "source": [
    "vals = list()\n",
    "for label in labels2:\n",
    "    val = list()\n",
    "    data = pd.read_csv(raw_data_path + f\"Accelerometer{label}.csv\")\n",
    "    val.append(np.mean(data[\"Acceleration z (m/s^2)\"]))\n",
    "    val.append(np.std(data[\"Acceleration z (m/s^2)\"]))\n",
    "    val.append(np.median(data[\"Acceleration z (m/s^2)\"]))\n",
    "    vals.append(val)\n",
    "vals"
   ]
  },
  {
   "cell_type": "code",
   "execution_count": null,
   "id": "c3457ab9",
   "metadata": {},
   "outputs": [],
   "source": [
    "# running,walking y jumping z laying sitting x"
   ]
  },
  {
   "cell_type": "code",
   "execution_count": null,
   "id": "c3e60ce3",
   "metadata": {},
   "outputs": [],
   "source": []
  },
  {
   "cell_type": "code",
   "execution_count": null,
   "id": "670e2837",
   "metadata": {},
   "outputs": [],
   "source": []
  },
  {
   "cell_type": "code",
   "execution_count": null,
   "id": "37d3f396",
   "metadata": {},
   "outputs": [],
   "source": []
  },
  {
   "cell_type": "code",
   "execution_count": null,
   "id": "3821600d",
   "metadata": {},
   "outputs": [],
   "source": []
  },
  {
   "cell_type": "code",
   "execution_count": null,
   "id": "cd5de751",
   "metadata": {},
   "outputs": [],
   "source": []
  },
  {
   "cell_type": "code",
   "execution_count": null,
   "id": "2659d778",
   "metadata": {},
   "outputs": [],
   "source": []
  },
  {
   "cell_type": "code",
   "execution_count": null,
   "id": "8caac77d",
   "metadata": {},
   "outputs": [],
   "source": []
  },
  {
   "cell_type": "code",
   "execution_count": null,
   "id": "c8ad2c6b",
   "metadata": {},
   "outputs": [],
   "source": []
  },
  {
   "cell_type": "code",
   "execution_count": null,
   "id": "64b8748c",
   "metadata": {},
   "outputs": [],
   "source": []
  },
  {
   "cell_type": "code",
   "execution_count": null,
   "id": "b051b4bd",
   "metadata": {},
   "outputs": [],
   "source": []
  },
  {
   "cell_type": "code",
   "execution_count": null,
   "id": "1aded5c7",
   "metadata": {},
   "outputs": [],
   "source": []
  }
 ],
 "metadata": {
  "kernelspec": {
   "display_name": "Python 3",
   "language": "python",
   "name": "python3"
  },
  "language_info": {
   "codemirror_mode": {
    "name": "ipython",
    "version": 3
   },
   "file_extension": ".py",
   "mimetype": "text/x-python",
   "name": "python",
   "nbconvert_exporter": "python",
   "pygments_lexer": "ipython3",
   "version": "3.8.8"
  }
 },
 "nbformat": 4,
 "nbformat_minor": 5
}
