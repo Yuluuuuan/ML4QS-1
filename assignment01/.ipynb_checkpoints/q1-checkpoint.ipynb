{
 "cells": [
  {
   "cell_type": "code",
   "execution_count": 1,
   "id": "fa861a4d",
   "metadata": {},
   "outputs": [],
   "source": [
    "from Chapter2.CreateDataset import CreateDataset\n",
    "import pandas as pd\n",
    "import matplotlib.pyplot as plt\n",
    "import os\n",
    "import copy\n",
    "from util.VisualizeDataset import VisualizeDataset\n",
    "from util import util"
   ]
  },
  {
   "cell_type": "code",
   "execution_count": 2,
   "id": "5c0f787b",
   "metadata": {},
   "outputs": [],
   "source": [
    "rawdatapath = \"data/raw/\"\n",
    "outputpath = \"data/intermediate/\"\n",
    "\n",
    "if not os.path.exists(outputpath):\n",
    "    print(\"Empty path, so creating...\" + outputpath + \"...done!\")\n",
    "    os.makedirs(outputpath)"
   ]
  },
  {
   "cell_type": "code",
   "execution_count": 3,
   "id": "467ef646",
   "metadata": {},
   "outputs": [
    {
     "data": {
      "text/plain": [
       "['Acceleration x (m/s^2)', 'Acceleration y (m/s^2)', 'Acceleration z (m/s^2)']"
      ]
     },
     "execution_count": 3,
     "metadata": {},
     "output_type": "execute_result"
    }
   ],
   "source": [
    "accraw= pd.read_csv(rawdatapath+\"Accelerometer_raw.csv\")\n",
    "timecol = \"Time (s)\"\n",
    "accfeatures = list()\n",
    "for col in accraw:\n",
    "    if (col != timecol) and \\\n",
    "    (col != \"Absolute acceleration (m/s^2)\"):\n",
    "        accfeatures.append(col)\n",
    "accfeatures"
   ]
  },
  {
   "cell_type": "code",
   "execution_count": 4,
   "id": "a3a24be3",
   "metadata": {},
   "outputs": [
    {
     "data": {
      "text/plain": [
       "['Gyroscope x (rad/s)', 'Gyroscope y (rad/s)', 'Gyroscope z (rad/s)']"
      ]
     },
     "execution_count": 4,
     "metadata": {},
     "output_type": "execute_result"
    }
   ],
   "source": [
    "gyraw= pd.read_csv(rawdatapath+\"Gyroscope_raw.csv\")\n",
    "gyfeatures = list()\n",
    "for col in gyraw:\n",
    "    if (col != timecol) and \\\n",
    "    (col != \"Absolute (rad/s)\"):\n",
    "        gyfeatures.append(col)\n",
    "gyfeatures"
   ]
  },
  {
   "cell_type": "code",
   "execution_count": 5,
   "id": "dc24b910",
   "metadata": {},
   "outputs": [
    {
     "data": {
      "text/plain": [
       "['Illuminance (lx)']"
      ]
     },
     "execution_count": 5,
     "metadata": {},
     "output_type": "execute_result"
    }
   ],
   "source": [
    "lightraw= pd.read_csv(rawdatapath+\"Light_raw.csv\")\n",
    "lightfeatures = list()\n",
    "for col in lightraw:\n",
    "    if (col != timecol):\n",
    "        lightfeatures.append(col)\n",
    "lightfeatures"
   ]
  },
  {
   "cell_type": "code",
   "execution_count": 6,
   "id": "2e61b799",
   "metadata": {},
   "outputs": [
    {
     "data": {
      "text/plain": [
       "['Latitude (°)',\n",
       " 'Longitude (°)',\n",
       " 'Altitude (m)',\n",
       " 'Altitude WGS84 (m)',\n",
       " 'Speed (m/s)',\n",
       " 'Direction (°)',\n",
       " 'Distance (km)',\n",
       " 'Horizontal Accuracy (m)',\n",
       " 'Vertical Accuracy (m)']"
      ]
     },
     "execution_count": 6,
     "metadata": {},
     "output_type": "execute_result"
    }
   ],
   "source": [
    "locraw= pd.read_csv(rawdatapath+\"Location_raw.csv\")\n",
    "locfeatures = list()\n",
    "for col in locraw:\n",
    "    if (col != timecol) and \\\n",
    "    (col != \"Satellites\"):\n",
    "        locfeatures.append(col)\n",
    "locfeatures"
   ]
  },
  {
   "cell_type": "code",
   "execution_count": 7,
   "id": "d118a913",
   "metadata": {},
   "outputs": [
    {
     "data": {
      "text/plain": [
       "['Magnetic Field x (µT)', 'Magnetic Field y (µT)', 'Magnetic Field z (µT)']"
      ]
     },
     "execution_count": 7,
     "metadata": {},
     "output_type": "execute_result"
    }
   ],
   "source": [
    "magraw= pd.read_csv(rawdatapath+\"Magnetometer_raw.csv\")\n",
    "magfeatures = list()\n",
    "for col in magraw:\n",
    "    if (col != timecol) and \\\n",
    "    (col != \"Absolute field (µT)\"):\n",
    "        magfeatures.append(col)\n",
    "magfeatures"
   ]
  },
  {
   "cell_type": "code",
   "execution_count": 14,
   "id": "b2884a30",
   "metadata": {},
   "outputs": [],
   "source": [
    "granularities = [60000]\n",
    "datasets = []"
   ]
  },
  {
   "cell_type": "code",
   "execution_count": 16,
   "id": "e9694ff8",
   "metadata": {},
   "outputs": [
    {
     "name": "stdout",
     "output_type": "stream",
     "text": [
      "Figure saved to figures\\figure_1.png\n"
     ]
    },
    {
     "data": {
      "image/png": "[encoded data removed]",
      "text/plain": [
       "<Figure size 432x288 with 1 Axes>"
      ]
     },
     "metadata": {
      "needs_background": "light"
     },
     "output_type": "display_data"
    }
   ],
   "source": [
    "for g in granularities:\n",
    "    \n",
    "    #Dataset = CreateDataset(rawdatapath, g)\n",
    "\n",
    "    #Dataset.add_numerical_dataset(\"Accelerometer_raw.csv\", timecol, accfeatures, \"avg\", \"acc_\")\n",
    "\n",
    "    #Dataset.add_numerical_dataset(\"Gyroscope_raw.csv\", timecol, gyfeatures, \"avg\", \"gyr_\")\n",
    "    \n",
    "    #Dataset.add_numerical_dataset(\"Light_raw.csv\", timecol, lightfeatures, \"avg\", \"lux_\")\n",
    "    \n",
    "    #Dataset.add_numerical_dataset(\"Location_raw.csv\", timecol, locfeatures, \"avg\", \"loc_\")\n",
    "    \n",
    "    #Dataset.add_numerical_dataset(\"Magnetometer_raw.csv\", timecol, magfeatures, \"avg\", \"mag_\")\n",
    "    Dataset = accraw\n",
    "    dataset = Dataset.data_table\n",
    "    #print(dataset)\n",
    "    Dataviz = VisualizeDataset()\n",
    "    \n",
    "    Dataviz.plot_dataset_boxplot(dataset, ['acc_Acceleration x (m/s^2)', 'acc_Acceleration y (m/s^2)', 'acc_Acceleration z (m/s^2)'])\n",
    "    #Dataviz.plot_dataset_boxplot(dataset, ['acc_x', 'acc_y', 'acc_z'])\n",
    "    #Dataviz.plot_dataset(dataset, [\"acc_\", \"gyr_\", \"lux_\", \"loc_\", \"mag_\"], \\\n",
    "    #                        [\"like\", \"like\", \"like\", \"like\", \"like\"], \\\n",
    "    #                        [\"line\", \"line\", \"line\", \"line\", \"line\"])\n",
    "    \n",
    "    #util.print_statistics(dataset)\n",
    "    #datasets.append(copy.deepcopy(dataset))"
   ]
  },
  {
   "cell_type": "code",
   "execution_count": 10,
   "id": "fb5b37ef",
   "metadata": {},
   "outputs": [
    {
     "name": "stdout",
     "output_type": "stream",
     "text": [
      "attribute, fraction missing values, mean, standard deviation, min, max\n",
      "acc_Acceleration x (m/s^2) & 0.00  /  0.00 & 1.97  /  1.97 & nan  /  nan & 1.97  /  1.97 & 1.97  /  1.97\\\\\n",
      "acc_Acceleration y (m/s^2) & 0.00  /  0.00 & 0.86  /  0.86 & nan  /  nan & 0.86  /  0.86 & 0.86  /  0.86\\\\\n",
      "acc_Acceleration z (m/s^2) & 0.00  /  0.00 & 8.42  /  8.42 & nan  /  nan & 8.42  /  8.42 & 8.42  /  8.42\\\\\n",
      "gyr_Gyroscope x (rad/s) & 0.00  /  0.00 & -0.01  /  -0.01 & nan  /  nan & -0.01  /  -0.01 & -0.01  /  -0.01\\\\\n",
      "gyr_Gyroscope y (rad/s) & 0.00  /  0.00 & -0.01  /  -0.01 & nan  /  nan & -0.01  /  -0.01 & -0.01  /  -0.01\\\\\n",
      "gyr_Gyroscope z (rad/s) & 0.00  /  0.00 & -0.08  /  -0.08 & nan  /  nan & -0.08  /  -0.08 & -0.08  /  -0.08\\\\\n",
      "lux_Illuminance (lx) & 0.00  /  0.00 & 46.25  /  46.25 & nan  /  nan & 46.25  /  46.25 & 46.25  /  46.25\\\\\n",
      "loc_Latitude (°) & 0.00  /  0.00 & 28.70  /  28.70 & nan  /  nan & 28.70  /  28.70 & 28.70  /  28.70\\\\\n",
      "loc_Longitude (°) & 0.00  /  0.00 & 116.00  /  116.00 & nan  /  nan & 116.00  /  116.00 & 116.00  /  116.00\\\\\n",
      "loc_Altitude (m) & 0.00  /  0.00 & 37.88  /  37.88 & nan  /  nan & 37.88  /  37.88 & 37.88  /  37.88\\\\\n",
      "loc_Altitude WGS84 (m) & 0.00  /  0.00 & 33.47  /  33.47 & nan  /  nan & 33.47  /  33.47 & 33.47  /  33.47\\\\\n",
      "loc_Speed (m/s) & 0.00  /  0.00 & 0.00  /  0.00 & nan  /  nan & 0.00  /  0.00 & 0.00  /  0.00\\\\\n",
      "loc_Direction (°) & 0.00  /  0.00 & 0.00  /  0.00 & nan  /  nan & 0.00  /  0.00 & 0.00  /  0.00\\\\\n",
      "loc_Distance (km) & 0.00  /  0.00 & 0.07  /  0.07 & nan  /  nan & 0.07  /  0.07 & 0.07  /  0.07\\\\\n",
      "loc_Horizontal Accuracy (m) & 0.00  /  0.00 & 12.64  /  12.64 & nan  /  nan & 12.64  /  12.64 & 12.64  /  12.64\\\\\n",
      "loc_Vertical Accuracy (m) & 0.00  /  0.00 & 17.67  /  17.67 & nan  /  nan & 17.67  /  17.67 & 17.67  /  17.67\\\\\n",
      "mag_Magnetic Field x (µT) & 0.00  /  0.00 & -3.17  /  -3.17 & nan  /  nan & -3.17  /  -3.17 & -3.17  /  -3.17\\\\\n",
      "mag_Magnetic Field y (µT) & 0.00  /  0.00 & 13.92  /  13.92 & nan  /  nan & 13.92  /  13.92 & 13.92  /  13.92\\\\\n",
      "mag_Magnetic Field z (µT) & 0.00  /  0.00 & -26.92  /  -26.92 & nan  /  nan & -26.92  /  -26.92 & -26.92  /  -26.92\\\\\n"
     ]
    }
   ],
   "source": [
    "util.print_latex_table_statistics_two_datasets(datasets[0], datasets[1])\n",
    "dataset.to_csv(outputpath + 'chapter2_result.csv')"
   ]
  },
  {
   "cell_type": "code",
   "execution_count": null,
   "id": "0c1b0435",
   "metadata": {},
   "outputs": [],
   "source": []
  }
 ],
 "metadata": {
  "kernelspec": {
   "display_name": "Python 3",
   "language": "python",
   "name": "python3"
  },
  "language_info": {
   "codemirror_mode": {
    "name": "ipython",
    "version": 3
   },
   "file_extension": ".py",
   "mimetype": "text/x-python",
   "name": "python",
   "nbconvert_exporter": "python",
   "pygments_lexer": "ipython3",
   "version": "3.7.9"
  }
 },
 "nbformat": 4,
 "nbformat_minor": 5
}
