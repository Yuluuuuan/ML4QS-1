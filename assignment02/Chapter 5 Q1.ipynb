{
 "cells": [
  {
   "cell_type": "code",
   "execution_count": 1,
   "metadata": {},
   "outputs": [],
   "source": [
    "from Chapter5.DistanceMetrics import InstanceDistanceMetrics\n",
    "from Chapter5.DistanceMetrics import PersonDistanceMetricsNoOrdering\n",
    "from Chapter5.DistanceMetrics import PersonDistanceMetricsOrdering\n",
    "from Chapter5.Clustering import NonHierarchicalClustering\n",
    "from Chapter5.Clustering import HierarchicalClustering\n",
    "import util.util as util\n",
    "from util.VisualizeDataset import VisualizeDataset\n",
    "\n",
    "import sys\n",
    "import copy\n",
    "import numpy as np\n",
    "import pandas as pd\n",
    "import matplotlib.pyplot as plt\n",
    "from pathlib import Path\n",
    "import argparse"
   ]
  },
  {
   "cell_type": "code",
   "execution_count": 2,
   "metadata": {},
   "outputs": [
    {
     "data": {
      "text/html": [
       "<div>\n",
       "<style scoped>\n",
       "    .dataframe tbody tr th:only-of-type {\n",
       "        vertical-align: middle;\n",
       "    }\n",
       "\n",
       "    .dataframe tbody tr th {\n",
       "        vertical-align: top;\n",
       "    }\n",
       "\n",
       "    .dataframe thead th {\n",
       "        text-align: right;\n",
       "    }\n",
       "</style>\n",
       "<table border=\"1\" class=\"dataframe\">\n",
       "  <thead>\n",
       "    <tr style=\"text-align: right;\">\n",
       "      <th></th>\n",
       "      <th>acc_x</th>\n",
       "      <th>acc_y</th>\n",
       "      <th>acc_z</th>\n",
       "      <th>gyr_x</th>\n",
       "      <th>gyr_y</th>\n",
       "      <th>gyr_z</th>\n",
       "      <th>lux_lux</th>\n",
       "      <th>loc_latitude</th>\n",
       "      <th>loc_longitude</th>\n",
       "      <th>loc_speed</th>\n",
       "      <th>...</th>\n",
       "      <th>mag_y</th>\n",
       "      <th>mag_z</th>\n",
       "      <th>labelOnTable</th>\n",
       "      <th>labelSitting</th>\n",
       "      <th>labelWashingHands</th>\n",
       "      <th>labelWalking</th>\n",
       "      <th>labelStanding</th>\n",
       "      <th>labelDriving</th>\n",
       "      <th>labelEating</th>\n",
       "      <th>labelRunning</th>\n",
       "    </tr>\n",
       "  </thead>\n",
       "  <tbody>\n",
       "    <tr>\n",
       "      <th>2016-02-08 18:28:25.656222395</th>\n",
       "      <td>-0.090431</td>\n",
       "      <td>0.164098</td>\n",
       "      <td>9.631765</td>\n",
       "      <td>-0.008824</td>\n",
       "      <td>0.018529</td>\n",
       "      <td>-0.001647</td>\n",
       "      <td>NaN</td>\n",
       "      <td>NaN</td>\n",
       "      <td>NaN</td>\n",
       "      <td>NaN</td>\n",
       "      <td>...</td>\n",
       "      <td>-138.000000</td>\n",
       "      <td>-29.022000</td>\n",
       "      <td>0</td>\n",
       "      <td>0</td>\n",
       "      <td>0</td>\n",
       "      <td>0</td>\n",
       "      <td>0</td>\n",
       "      <td>0</td>\n",
       "      <td>0</td>\n",
       "      <td>0</td>\n",
       "    </tr>\n",
       "    <tr>\n",
       "      <th>2016-02-08 18:28:25.906222395</th>\n",
       "      <td>-0.097600</td>\n",
       "      <td>0.167640</td>\n",
       "      <td>9.631740</td>\n",
       "      <td>-0.008800</td>\n",
       "      <td>0.018540</td>\n",
       "      <td>-0.001540</td>\n",
       "      <td>1084.0</td>\n",
       "      <td>NaN</td>\n",
       "      <td>NaN</td>\n",
       "      <td>NaN</td>\n",
       "      <td>...</td>\n",
       "      <td>-139.552500</td>\n",
       "      <td>-28.970000</td>\n",
       "      <td>0</td>\n",
       "      <td>0</td>\n",
       "      <td>0</td>\n",
       "      <td>0</td>\n",
       "      <td>0</td>\n",
       "      <td>0</td>\n",
       "      <td>0</td>\n",
       "      <td>0</td>\n",
       "    </tr>\n",
       "    <tr>\n",
       "      <th>2016-02-08 18:28:26.156222395</th>\n",
       "      <td>-0.089120</td>\n",
       "      <td>0.167520</td>\n",
       "      <td>9.637300</td>\n",
       "      <td>-0.008880</td>\n",
       "      <td>0.018340</td>\n",
       "      <td>-0.002420</td>\n",
       "      <td>1084.0</td>\n",
       "      <td>NaN</td>\n",
       "      <td>NaN</td>\n",
       "      <td>NaN</td>\n",
       "      <td>...</td>\n",
       "      <td>-141.259200</td>\n",
       "      <td>-28.555200</td>\n",
       "      <td>0</td>\n",
       "      <td>0</td>\n",
       "      <td>0</td>\n",
       "      <td>0</td>\n",
       "      <td>0</td>\n",
       "      <td>0</td>\n",
       "      <td>0</td>\n",
       "      <td>0</td>\n",
       "    </tr>\n",
       "    <tr>\n",
       "      <th>2016-02-08 18:28:26.406222395</th>\n",
       "      <td>-0.090135</td>\n",
       "      <td>0.166019</td>\n",
       "      <td>9.632538</td>\n",
       "      <td>-0.008962</td>\n",
       "      <td>0.018288</td>\n",
       "      <td>-0.002038</td>\n",
       "      <td>1086.0</td>\n",
       "      <td>NaN</td>\n",
       "      <td>NaN</td>\n",
       "      <td>NaN</td>\n",
       "      <td>...</td>\n",
       "      <td>-141.133846</td>\n",
       "      <td>-28.954615</td>\n",
       "      <td>0</td>\n",
       "      <td>0</td>\n",
       "      <td>0</td>\n",
       "      <td>0</td>\n",
       "      <td>0</td>\n",
       "      <td>0</td>\n",
       "      <td>0</td>\n",
       "      <td>0</td>\n",
       "    </tr>\n",
       "    <tr>\n",
       "      <th>2016-02-08 18:28:26.656222395</th>\n",
       "      <td>-0.090608</td>\n",
       "      <td>0.167686</td>\n",
       "      <td>9.630078</td>\n",
       "      <td>-0.008760</td>\n",
       "      <td>0.018800</td>\n",
       "      <td>-0.002260</td>\n",
       "      <td>1084.0</td>\n",
       "      <td>NaN</td>\n",
       "      <td>NaN</td>\n",
       "      <td>NaN</td>\n",
       "      <td>...</td>\n",
       "      <td>-141.314400</td>\n",
       "      <td>-28.795200</td>\n",
       "      <td>0</td>\n",
       "      <td>0</td>\n",
       "      <td>0</td>\n",
       "      <td>0</td>\n",
       "      <td>0</td>\n",
       "      <td>0</td>\n",
       "      <td>0</td>\n",
       "      <td>0</td>\n",
       "    </tr>\n",
       "    <tr>\n",
       "      <th>...</th>\n",
       "      <td>...</td>\n",
       "      <td>...</td>\n",
       "      <td>...</td>\n",
       "      <td>...</td>\n",
       "      <td>...</td>\n",
       "      <td>...</td>\n",
       "      <td>...</td>\n",
       "      <td>...</td>\n",
       "      <td>...</td>\n",
       "      <td>...</td>\n",
       "      <td>...</td>\n",
       "      <td>...</td>\n",
       "      <td>...</td>\n",
       "      <td>...</td>\n",
       "      <td>...</td>\n",
       "      <td>...</td>\n",
       "      <td>...</td>\n",
       "      <td>...</td>\n",
       "      <td>...</td>\n",
       "      <td>...</td>\n",
       "      <td>...</td>\n",
       "    </tr>\n",
       "    <tr>\n",
       "      <th>2016-02-08 20:41:03.906222395</th>\n",
       "      <td>-0.163020</td>\n",
       "      <td>0.184061</td>\n",
       "      <td>9.609571</td>\n",
       "      <td>-0.008592</td>\n",
       "      <td>0.021347</td>\n",
       "      <td>0.002082</td>\n",
       "      <td>NaN</td>\n",
       "      <td>NaN</td>\n",
       "      <td>NaN</td>\n",
       "      <td>NaN</td>\n",
       "      <td>...</td>\n",
       "      <td>27.660000</td>\n",
       "      <td>-10.533333</td>\n",
       "      <td>0</td>\n",
       "      <td>0</td>\n",
       "      <td>0</td>\n",
       "      <td>0</td>\n",
       "      <td>0</td>\n",
       "      <td>0</td>\n",
       "      <td>0</td>\n",
       "      <td>0</td>\n",
       "    </tr>\n",
       "    <tr>\n",
       "      <th>2016-02-08 20:41:04.156222395</th>\n",
       "      <td>-0.162686</td>\n",
       "      <td>0.185196</td>\n",
       "      <td>9.611863</td>\n",
       "      <td>-0.008745</td>\n",
       "      <td>0.021294</td>\n",
       "      <td>0.002000</td>\n",
       "      <td>32.0</td>\n",
       "      <td>NaN</td>\n",
       "      <td>NaN</td>\n",
       "      <td>NaN</td>\n",
       "      <td>...</td>\n",
       "      <td>NaN</td>\n",
       "      <td>NaN</td>\n",
       "      <td>0</td>\n",
       "      <td>0</td>\n",
       "      <td>0</td>\n",
       "      <td>0</td>\n",
       "      <td>0</td>\n",
       "      <td>0</td>\n",
       "      <td>0</td>\n",
       "      <td>0</td>\n",
       "    </tr>\n",
       "    <tr>\n",
       "      <th>2016-02-08 20:41:04.406222395</th>\n",
       "      <td>-0.159980</td>\n",
       "      <td>0.186800</td>\n",
       "      <td>9.615020</td>\n",
       "      <td>-0.008480</td>\n",
       "      <td>0.020960</td>\n",
       "      <td>0.002200</td>\n",
       "      <td>32.0</td>\n",
       "      <td>NaN</td>\n",
       "      <td>NaN</td>\n",
       "      <td>NaN</td>\n",
       "      <td>...</td>\n",
       "      <td>NaN</td>\n",
       "      <td>NaN</td>\n",
       "      <td>0</td>\n",
       "      <td>0</td>\n",
       "      <td>0</td>\n",
       "      <td>0</td>\n",
       "      <td>0</td>\n",
       "      <td>0</td>\n",
       "      <td>0</td>\n",
       "      <td>0</td>\n",
       "    </tr>\n",
       "    <tr>\n",
       "      <th>2016-02-08 20:41:04.656222395</th>\n",
       "      <td>-0.158882</td>\n",
       "      <td>0.184333</td>\n",
       "      <td>9.613510</td>\n",
       "      <td>-0.008529</td>\n",
       "      <td>0.020882</td>\n",
       "      <td>0.002314</td>\n",
       "      <td>32.0</td>\n",
       "      <td>NaN</td>\n",
       "      <td>NaN</td>\n",
       "      <td>NaN</td>\n",
       "      <td>...</td>\n",
       "      <td>NaN</td>\n",
       "      <td>NaN</td>\n",
       "      <td>0</td>\n",
       "      <td>0</td>\n",
       "      <td>0</td>\n",
       "      <td>0</td>\n",
       "      <td>0</td>\n",
       "      <td>0</td>\n",
       "      <td>0</td>\n",
       "      <td>0</td>\n",
       "    </tr>\n",
       "    <tr>\n",
       "      <th>2016-02-08 20:41:04.906222395</th>\n",
       "      <td>-0.164737</td>\n",
       "      <td>0.182632</td>\n",
       "      <td>9.623053</td>\n",
       "      <td>-0.008140</td>\n",
       "      <td>0.021100</td>\n",
       "      <td>0.001900</td>\n",
       "      <td>32.0</td>\n",
       "      <td>NaN</td>\n",
       "      <td>NaN</td>\n",
       "      <td>NaN</td>\n",
       "      <td>...</td>\n",
       "      <td>NaN</td>\n",
       "      <td>NaN</td>\n",
       "      <td>0</td>\n",
       "      <td>0</td>\n",
       "      <td>0</td>\n",
       "      <td>0</td>\n",
       "      <td>0</td>\n",
       "      <td>0</td>\n",
       "      <td>0</td>\n",
       "      <td>0</td>\n",
       "    </tr>\n",
       "  </tbody>\n",
       "</table>\n",
       "<p>31838 rows × 21 columns</p>\n",
       "</div>"
      ],
      "text/plain": [
       "                                  acc_x     acc_y     acc_z     gyr_x  \\\n",
       "2016-02-08 18:28:25.656222395 -0.090431  0.164098  9.631765 -0.008824   \n",
       "2016-02-08 18:28:25.906222395 -0.097600  0.167640  9.631740 -0.008800   \n",
       "2016-02-08 18:28:26.156222395 -0.089120  0.167520  9.637300 -0.008880   \n",
       "2016-02-08 18:28:26.406222395 -0.090135  0.166019  9.632538 -0.008962   \n",
       "2016-02-08 18:28:26.656222395 -0.090608  0.167686  9.630078 -0.008760   \n",
       "...                                 ...       ...       ...       ...   \n",
       "2016-02-08 20:41:03.906222395 -0.163020  0.184061  9.609571 -0.008592   \n",
       "2016-02-08 20:41:04.156222395 -0.162686  0.185196  9.611863 -0.008745   \n",
       "2016-02-08 20:41:04.406222395 -0.159980  0.186800  9.615020 -0.008480   \n",
       "2016-02-08 20:41:04.656222395 -0.158882  0.184333  9.613510 -0.008529   \n",
       "2016-02-08 20:41:04.906222395 -0.164737  0.182632  9.623053 -0.008140   \n",
       "\n",
       "                                  gyr_y     gyr_z  lux_lux  loc_latitude  \\\n",
       "2016-02-08 18:28:25.656222395  0.018529 -0.001647      NaN           NaN   \n",
       "2016-02-08 18:28:25.906222395  0.018540 -0.001540   1084.0           NaN   \n",
       "2016-02-08 18:28:26.156222395  0.018340 -0.002420   1084.0           NaN   \n",
       "2016-02-08 18:28:26.406222395  0.018288 -0.002038   1086.0           NaN   \n",
       "2016-02-08 18:28:26.656222395  0.018800 -0.002260   1084.0           NaN   \n",
       "...                                 ...       ...      ...           ...   \n",
       "2016-02-08 20:41:03.906222395  0.021347  0.002082      NaN           NaN   \n",
       "2016-02-08 20:41:04.156222395  0.021294  0.002000     32.0           NaN   \n",
       "2016-02-08 20:41:04.406222395  0.020960  0.002200     32.0           NaN   \n",
       "2016-02-08 20:41:04.656222395  0.020882  0.002314     32.0           NaN   \n",
       "2016-02-08 20:41:04.906222395  0.021100  0.001900     32.0           NaN   \n",
       "\n",
       "                               loc_longitude  loc_speed  ...       mag_y  \\\n",
       "2016-02-08 18:28:25.656222395            NaN        NaN  ... -138.000000   \n",
       "2016-02-08 18:28:25.906222395            NaN        NaN  ... -139.552500   \n",
       "2016-02-08 18:28:26.156222395            NaN        NaN  ... -141.259200   \n",
       "2016-02-08 18:28:26.406222395            NaN        NaN  ... -141.133846   \n",
       "2016-02-08 18:28:26.656222395            NaN        NaN  ... -141.314400   \n",
       "...                                      ...        ...  ...         ...   \n",
       "2016-02-08 20:41:03.906222395            NaN        NaN  ...   27.660000   \n",
       "2016-02-08 20:41:04.156222395            NaN        NaN  ...         NaN   \n",
       "2016-02-08 20:41:04.406222395            NaN        NaN  ...         NaN   \n",
       "2016-02-08 20:41:04.656222395            NaN        NaN  ...         NaN   \n",
       "2016-02-08 20:41:04.906222395            NaN        NaN  ...         NaN   \n",
       "\n",
       "                                   mag_z  labelOnTable  labelSitting  \\\n",
       "2016-02-08 18:28:25.656222395 -29.022000             0             0   \n",
       "2016-02-08 18:28:25.906222395 -28.970000             0             0   \n",
       "2016-02-08 18:28:26.156222395 -28.555200             0             0   \n",
       "2016-02-08 18:28:26.406222395 -28.954615             0             0   \n",
       "2016-02-08 18:28:26.656222395 -28.795200             0             0   \n",
       "...                                  ...           ...           ...   \n",
       "2016-02-08 20:41:03.906222395 -10.533333             0             0   \n",
       "2016-02-08 20:41:04.156222395        NaN             0             0   \n",
       "2016-02-08 20:41:04.406222395        NaN             0             0   \n",
       "2016-02-08 20:41:04.656222395        NaN             0             0   \n",
       "2016-02-08 20:41:04.906222395        NaN             0             0   \n",
       "\n",
       "                               labelWashingHands  labelWalking  labelStanding  \\\n",
       "2016-02-08 18:28:25.656222395                  0             0              0   \n",
       "2016-02-08 18:28:25.906222395                  0             0              0   \n",
       "2016-02-08 18:28:26.156222395                  0             0              0   \n",
       "2016-02-08 18:28:26.406222395                  0             0              0   \n",
       "2016-02-08 18:28:26.656222395                  0             0              0   \n",
       "...                                          ...           ...            ...   \n",
       "2016-02-08 20:41:03.906222395                  0             0              0   \n",
       "2016-02-08 20:41:04.156222395                  0             0              0   \n",
       "2016-02-08 20:41:04.406222395                  0             0              0   \n",
       "2016-02-08 20:41:04.656222395                  0             0              0   \n",
       "2016-02-08 20:41:04.906222395                  0             0              0   \n",
       "\n",
       "                               labelDriving  labelEating  labelRunning  \n",
       "2016-02-08 18:28:25.656222395             0            0             0  \n",
       "2016-02-08 18:28:25.906222395             0            0             0  \n",
       "2016-02-08 18:28:26.156222395             0            0             0  \n",
       "2016-02-08 18:28:26.406222395             0            0             0  \n",
       "2016-02-08 18:28:26.656222395             0            0             0  \n",
       "...                                     ...          ...           ...  \n",
       "2016-02-08 20:41:03.906222395             0            0             0  \n",
       "2016-02-08 20:41:04.156222395             0            0             0  \n",
       "2016-02-08 20:41:04.406222395             0            0             0  \n",
       "2016-02-08 20:41:04.656222395             0            0             0  \n",
       "2016-02-08 20:41:04.906222395             0            0             0  \n",
       "\n",
       "[31838 rows x 21 columns]"
      ]
     },
     "execution_count": 2,
     "metadata": {},
     "output_type": "execute_result"
    }
   ],
   "source": [
    "dataset_path = 'data/raw_data/processed_data/ch5__given_dataset.csv'\n",
    "dataset = pd.read_csv(dataset_path, index_col=0)\n",
    "dataset"
   ]
  },
  {
   "cell_type": "code",
   "execution_count": 3,
   "metadata": {},
   "outputs": [],
   "source": [
    "DataViz = VisualizeDataset()\n",
    "\n",
    "clusteringNH = NonHierarchicalClustering()\n",
    "clusteringH = HierarchicalClustering()"
   ]
  },
  {
   "cell_type": "markdown",
   "metadata": {},
   "source": [
    "# Acceleration"
   ]
  },
  {
   "cell_type": "markdown",
   "metadata": {},
   "source": [
    "## K-means"
   ]
  },
  {
   "cell_type": "code",
   "execution_count": 4,
   "metadata": {},
   "outputs": [
    {
     "name": "stdout",
     "output_type": "stream",
     "text": [
      "k = 2\n",
      "silhouette = 0.4222849675058261\n",
      "k = 3\n",
      "silhouette = 0.5266018336994557\n",
      "k = 4\n",
      "silhouette = 0.6241707194285441\n",
      "k = 5\n",
      "silhouette = 0.6674459744935771\n",
      "k = 6\n",
      "silhouette = 0.7269953357344892\n",
      "k = 7\n",
      "silhouette = 0.722773064478569\n",
      "k = 8\n",
      "silhouette = 0.6467642727668198\n",
      "k = 9\n",
      "silhouette = 0.6689942823320467\n"
     ]
    }
   ],
   "source": [
    "k_values = range(2, 10)\n",
    "silhouette_values = []\n",
    "\n",
    "for k in k_values:\n",
    "    print(f'k = {k}')\n",
    "    dataset_cluster = clusteringNH.k_means_over_instances(copy.deepcopy(\n",
    "        dataset), ['acc_x', 'acc_y', 'acc_z'], k, 'default', 20, 10)\n",
    "    silhouette_score = dataset_cluster['silhouette'].mean()\n",
    "    print(f'silhouette = {silhouette_score}')\n",
    "    silhouette_values.append(silhouette_score)"
   ]
  },
  {
   "cell_type": "code",
   "execution_count": 5,
   "metadata": {},
   "outputs": [
    {
     "name": "stdout",
     "output_type": "stream",
     "text": [
      "Figure saved to figures/figure_1.png\n"
     ]
    },
    {
     "data": {
      "image/png": "[encoded data removed]",
      "text/plain": [
       "<Figure size 432x288 with 1 Axes>"
      ]
     },
     "metadata": {
      "needs_background": "light"
     },
     "output_type": "display_data"
    },
    {
     "name": "stdout",
     "output_type": "stream",
     "text": [
      "Highest K-Means silhouette score: k = 6\n"
     ]
    }
   ],
   "source": [
    "DataViz.plot_xy(x=[k_values], y=[silhouette_values], \n",
    "                xlabel='k', ylabel='silhouette score',ylim=[0, 1], line_styles=['b-'])\n",
    "k = k_values[np.argmax(silhouette_values)]\n",
    "print(f'Highest K-Means silhouette score: k = {k}')"
   ]
  },
  {
   "cell_type": "markdown",
   "metadata": {},
   "source": [
    "## Kmediods"
   ]
  },
  {
   "cell_type": "code",
   "execution_count": 7,
   "metadata": {},
   "outputs": [
    {
     "name": "stdout",
     "output_type": "stream",
     "text": [
      "k = 2\n",
      "silhouette = 0.4181575084042517\n",
      "k = 3\n",
      "silhouette = 0.5249084805226318\n",
      "k = 4\n",
      "silhouette = 0.6221056963418827\n",
      "k = 5\n",
      "silhouette = 0.6790359636580444\n",
      "k = 6\n",
      "silhouette = 0.7261695520253033\n",
      "k = 7\n",
      "silhouette = 0.6422980568040304\n",
      "k = 8\n",
      "silhouette = 0.6421554699811919\n",
      "k = 9\n",
      "silhouette = 0.6156304738119287\n"
     ]
    }
   ],
   "source": [
    "k_values = range(2, 10)\n",
    "silhouette_values = []\n",
    "\n",
    "for k in k_values:\n",
    "    print(f'k = {k}')\n",
    "    dataset_cluster = clusteringNH.k_medoids_over_instances(copy.deepcopy(\n",
    "        dataset), ['acc_x', 'acc_y', 'acc_z'], k, 'default', 20, n_inits=10)\n",
    "    silhouette_score = dataset_cluster['silhouette'].mean()\n",
    "    print(f'silhouette = {silhouette_score}')\n",
    "    silhouette_values.append(silhouette_score)"
   ]
  },
  {
   "cell_type": "code",
   "execution_count": 9,
   "metadata": {},
   "outputs": [
    {
     "name": "stdout",
     "output_type": "stream",
     "text": [
      "Figure saved to figures/figure_3.png\n"
     ]
    },
    {
     "data": {
      "image/png": "[encoded data removed]",
      "text/plain": [
       "<Figure size 432x288 with 1 Axes>"
      ]
     },
     "metadata": {
      "needs_background": "light"
     },
     "output_type": "display_data"
    },
    {
     "name": "stdout",
     "output_type": "stream",
     "text": [
      "Highest K-Medoids silhouette score: k = 6\n",
      "Figure saved to figures/figure_4.png\n"
     ]
    },
    {
     "data": {
      "image/png": "[encoded data removed]",
      "text/plain": [
       "<Figure size 432x288 with 1 Axes>"
      ]
     },
     "metadata": {
      "needs_background": "light"
     },
     "output_type": "display_data"
    },
    {
     "name": "stdout",
     "output_type": "stream",
     "text": [
      "Figure saved to figures/figure_5.png\n"
     ]
    },
    {
     "data": {
      "image/png": "[encoded data removed]",
      "text/plain": [
       "<Figure size 432x288 with 1 Axes>"
      ]
     },
     "metadata": {
      "needs_background": "light"
     },
     "output_type": "display_data"
    },
    {
     "name": "stdout",
     "output_type": "stream",
     "text": [
      "\\multirow{2}{*}{ acc_x } & mean  &  -0.30 &  -8.20 &  8.24 &  -0.52 &  8.04 &  -0.81\\\\\n",
      " & std  &  1.08 &  0.93 &  1.01 &  1.44 &  0.98 &  1.74\\\\\n",
      "\\multirow{2}{*}{ acc_y } & mean  &  1.05 &  2.17 &  0.56 &  9.58 &  -2.29 &  -9.56\\\\\n",
      " & std  &  1.91 &  1.98 &  1.48 &  1.49 &  2.06 &  1.64\\\\\n",
      "\\multirow{2}{*}{ acc_z } & mean  &  9.22 &  -4.76 &  4.56 &  -0.56 &  -4.81 &  0.21\\\\\n",
      " & std  &  0.92 &  1.21 &  1.36 &  1.82 &  1.00 &  1.74\\\\\n",
      "labelOnTable  & percentage  &  99.80 \\% &  0.00 \\% &  0.20 \\% &  0.00 \\% &  0.00 \\% &  0.00 \\%\\\\\n",
      "labelSitting  & percentage  &  2.05 \\% &  0.00 \\% &  0.40 \\% &  0.04 \\% &  97.52 \\% &  0.00 \\%\\\\\n",
      "labelWashingHands  & percentage  &  7.62 \\% &  0.00 \\% &  3.17 \\% &  32.22 \\% &  1.75 \\% &  55.24 \\%\\\\\n",
      "labelWalking  & percentage  &  2.26 \\% &  0.23 \\% &  0.58 \\% &  50.04 \\% &  0.49 \\% &  46.40 \\%\\\\\n",
      "labelStanding  & percentage  &  4.19 \\% &  0.35 \\% &  0.60 \\% &  46.00 \\% &  0.52 \\% &  48.34 \\%\\\\\n",
      "labelDriving  & percentage  &  1.70 \\% &  22.30 \\% &  55.77 \\% &  0.23 \\% &  19.90 \\% &  0.10 \\%\\\\\n",
      "labelEating  & percentage  &  2.45 \\% &  57.46 \\% &  39.49 \\% &  0.46 \\% &  0.14 \\% &  0.00 \\%\\\\\n",
      "labelRunning  & percentage  &  13.00 \\% &  0.33 \\% &  0.50 \\% &  0.00 \\% &  16.23 \\% &  69.95 \\%\\\\\n"
     ]
    }
   ],
   "source": [
    "DataViz.plot_xy(x=[k_values], y=[silhouette_values], xlabel='k', ylabel='silhouette score',\n",
    "                ylim=[0, 1], line_styles=['b-'])\n",
    "\n",
    "k = k_values[np.argmax(silhouette_values)]\n",
    "print(f'Highest K-Medoids silhouette score: k = {k}')\n",
    "\n",
    "dataset_kmed = clusteringNH.k_medoids_over_instances(copy.deepcopy(dataset), \n",
    "                                                     ['acc_x', 'acc_y', 'acc_z'], \n",
    "                                                     k, 'default', 20, n_inits=50)\n",
    "DataViz.plot_clusters_3d(dataset_kmed, ['acc_x', 'acc_y', 'acc_z'], 'cluster', ['label'])\n",
    "DataViz.plot_silhouette(dataset_kmed, 'cluster', 'silhouette')\n",
    "util.print_latex_statistics_clusters(dataset_kmed, 'cluster', \n",
    "                                     ['acc_x', 'acc_y', 'acc_z'], 'label')"
   ]
  },
  {
   "cell_type": "markdown",
   "metadata": {},
   "source": [
    "## hierarchical"
   ]
  },
  {
   "cell_type": "code",
   "execution_count": null,
   "metadata": {},
   "outputs": [
    {
     "name": "stdout",
     "output_type": "stream",
     "text": [
      "k = 2\n"
     ]
    }
   ],
   "source": [
    "k_values = range(2, 10)\n",
    "silhouette_values = []\n",
    "\n",
    "for k in k_values:\n",
    "    print(f'k = {k}')\n",
    "    dataset, l = clusteringH.agglomerative_over_instances(dataset, \n",
    "                                                          ['acc_x', 'acc_y', 'acc_z'], \n",
    "                                                          k, 'euclidean', use_prev_linkage=True, \n",
    "                                                          link_function='ward')\n",
    "    silhouette_score = dataset_cluster['silhouette'].mean()\n",
    "    print(f'silhouette = {silhouette_score}')\n",
    "    silhouette_values.append(silhouette_score)"
   ]
  },
  {
   "cell_type": "code",
   "execution_count": null,
   "metadata": {},
   "outputs": [],
   "source": [
    "if k == k_values[0]:\n",
    "        DataViz.plot_dendrogram(dataset, l)\n",
    "DataViz.plot_xy(x=[k_values], y=[silhouette_values], xlabel='k', ylabel='silhouette score',\n",
    "                ylim=[0, 1], line_styles=['b-'])"
   ]
  },
  {
   "cell_type": "code",
   "execution_count": null,
   "metadata": {},
   "outputs": [],
   "source": []
  }
 ],
 "metadata": {
  "kernelspec": {
   "display_name": "Python 3",
   "language": "python",
   "name": "python3"
  },
  "language_info": {
   "codemirror_mode": {
    "name": "ipython",
    "version": 3
   },
   "file_extension": ".py",
   "mimetype": "text/x-python",
   "name": "python",
   "nbconvert_exporter": "python",
   "pygments_lexer": "ipython3",
   "version": "3.8.3"
  }
 },
 "nbformat": 4,
 "nbformat_minor": 4
}
