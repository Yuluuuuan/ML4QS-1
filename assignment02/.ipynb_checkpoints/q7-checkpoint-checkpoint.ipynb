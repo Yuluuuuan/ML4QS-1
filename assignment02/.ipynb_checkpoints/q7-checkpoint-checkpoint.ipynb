{
 "cells": [
  {
   "cell_type": "markdown",
   "id": "6d0434be",
   "metadata": {},
   "source": [
    "# CH.03 - 5.9.2.1"
   ]
  },
  {
   "cell_type": "code",
   "execution_count": 1,
   "id": "95274919",
   "metadata": {},
   "outputs": [],
   "source": [
    "from Chapter5.DistanceMetrics import InstanceDistanceMetrics\n",
    "from Chapter5.DistanceMetrics import PersonDistanceMetricsNoOrdering\n",
    "from Chapter5.DistanceMetrics import PersonDistanceMetricsOrdering\n",
    "from Chapter5.Clustering import NonHierarchicalClustering\n",
    "from Chapter5.Clustering import HierarchicalClustering\n",
    "import util.util as util\n",
    "from util.VisualizeDataset import VisualizeDataset\n",
    "\n",
    "import sys\n",
    "import copy\n",
    "import numpy as np\n",
    "import pandas as pd\n",
    "import matplotlib.pyplot as plt\n",
    "from pathlib import Path\n",
    "import argparse"
   ]
  },
  {
   "cell_type": "code",
   "execution_count": 2,
   "id": "f99eb73f",
   "metadata": {},
   "outputs": [],
   "source": [
    "DATA_PATH = Path('./data/')\n",
    "DATASET_FNAME = 'result-given/chapter4_result.csv'\n",
    "RESULT_FNAME = 'intermediate/chapter5_result.csv'"
   ]
  },
  {
   "cell_type": "code",
   "execution_count": 3,
   "id": "5cd0c600",
   "metadata": {},
   "outputs": [],
   "source": [
    "dataset = pd.read_csv(DATA_PATH / DATASET_FNAME, index_col=0)\n",
    "dataset.index = pd.to_datetime(dataset.index)"
   ]
  },
  {
   "cell_type": "code",
   "execution_count": 4,
   "id": "8e11fc29",
   "metadata": {},
   "outputs": [],
   "source": [
    "DataViz = VisualizeDataset()\n",
    "\n",
    "clusteringNH = NonHierarchicalClustering()\n",
    "clusteringH = HierarchicalClustering()"
   ]
  },
  {
   "cell_type": "markdown",
   "id": "a536fe47",
   "metadata": {},
   "source": [
    "## K-means"
   ]
  },
  {
   "cell_type": "code",
   "execution_count": 5,
   "id": "eedd9aeb",
   "metadata": {},
   "outputs": [
    {
     "name": "stdout",
     "output_type": "stream",
     "text": [
      "k = 2\n",
      "silhouette = 0.6516851950601094\n",
      "k = 3\n",
      "silhouette = 0.6533601223162753\n",
      "k = 4\n",
      "silhouette = 0.674377078672515\n",
      "k = 5\n",
      "silhouette = 0.6848202359125899\n",
      "k = 6\n",
      "silhouette = 0.668413344208659\n",
      "k = 7\n",
      "silhouette = 0.6522987459248646\n",
      "k = 8\n",
      "silhouette = 0.6565540404029986\n",
      "k = 9\n",
      "silhouette = 0.6553440914569488\n"
     ]
    }
   ],
   "source": [
    "k_values = range(2, 10)\n",
    "silhouette_values = []\n",
    "\n",
    "for k in k_values:\n",
    "    print(f'k = {k}')\n",
    "    dataset_cluster = clusteringNH.k_means_over_instances(copy.deepcopy(\n",
    "        dataset), ['gyr_phone_x', 'gyr_phone_y', 'gyr_phone_z'], k, 'default', 20, 10)\n",
    "    silhouette_score = dataset_cluster['silhouette'].mean()\n",
    "    print(f'silhouette = {silhouette_score}')\n",
    "    silhouette_values.append(silhouette_score)"
   ]
  },
  {
   "cell_type": "code",
   "execution_count": 6,
   "id": "89944294",
   "metadata": {
    "scrolled": true
   },
   "outputs": [
    {
     "name": "stdout",
     "output_type": "stream",
     "text": [
      "Figure saved to figures/figure_1.png\n"
     ]
    },
    {
     "data": {
      "image/png": "[encoded data removed]",
      "text/plain": [
       "<Figure size 432x288 with 1 Axes>"
      ]
     },
     "metadata": {
      "needs_background": "light"
     },
     "output_type": "display_data"
    },
    {
     "name": "stdout",
     "output_type": "stream",
     "text": [
      "Highest K-Means silhouette score: k = 5\n"
     ]
    }
   ],
   "source": [
    "DataViz.plot_xy(x=[k_values], y=[silhouette_values], \n",
    "                xlabel='k', ylabel='silhouette score',ylim=[0, 1], line_styles=['b-'])\n",
    "k = k_values[np.argmax(silhouette_values)]\n",
    "print(f'Highest K-Means silhouette score: k = {k}')"
   ]
  },
  {
   "cell_type": "markdown",
   "id": "4408090a",
   "metadata": {},
   "source": [
    "## Kmediods"
   ]
  },
  {
   "cell_type": "code",
   "execution_count": null,
   "id": "f75b7788",
   "metadata": {},
   "outputs": [
    {
     "name": "stdout",
     "output_type": "stream",
     "text": [
      "k = 2\n",
      "silhouette = 0.6026632926188451\n",
      "k = 3\n",
      "silhouette = 0.6484419866390129\n",
      "k = 4\n",
      "silhouette = 0.6334617293428649\n",
      "k = 5\n"
     ]
    }
   ],
   "source": [
    "k_values = range(2, 10)\n",
    "silhouette_values = []\n",
    "\n",
    "for k in k_values:\n",
    "    print(f'k = {k}')\n",
    "    dataset_cluster = clusteringNH.k_medoids_over_instances(copy.deepcopy(\n",
    "        dataset), ['gyr_phone_x', 'gyr_phone_y', 'gyr_phone_z'], k, 'default', 20, n_inits=10)\n",
    "    silhouette_score = dataset_cluster['silhouette'].mean()\n",
    "    print(f'silhouette = {silhouette_score}')\n",
    "    silhouette_values.append(silhouette_score)"
   ]
  },
  {
   "cell_type": "code",
   "execution_count": null,
   "id": "33925a5c",
   "metadata": {
    "scrolled": false
   },
   "outputs": [],
   "source": [
    "DataViz.plot_xy(x=[k_values], y=[silhouette_values], xlabel='k', ylabel='silhouette score',\n",
    "                ylim=[0, 1], line_styles=['b-'])\n",
    "\n",
    "k = k_values[np.argmax(silhouette_values)]\n",
    "print(f'Highest K-Medoids silhouette score: k = {k}')\n",
    "\n",
    "dataset_kmed = clusteringNH.k_medoids_over_instances(copy.deepcopy(dataset), \n",
    "                                                     ['gyr_phone_x', 'gyr_phone_y', 'gyr_phone_z'], \n",
    "                                                     k, 'default', 20, n_inits=50)\n",
    "DataViz.plot_clusters_3d(dataset_kmed, ['gyr_phone_x', 'gyr_phone_y', 'gyr_phone_z'], 'cluster', ['label'])\n",
    "DataViz.plot_silhouette(dataset_kmed, 'cluster', 'silhouette')\n",
    "util.print_latex_statistics_clusters(dataset_kmed, 'cluster', \n",
    "                                     ['gyr_phone_x', 'gyr_phone_y', 'gyr_phone_z'], 'label')"
   ]
  },
  {
   "cell_type": "markdown",
   "id": "388a257e",
   "metadata": {},
   "source": [
    "## hierarchical"
   ]
  },
  {
   "cell_type": "code",
   "execution_count": null,
   "id": "008e2e34",
   "metadata": {},
   "outputs": [],
   "source": [
    "k_values = range(2, 10)\n",
    "silhouette_values = []\n",
    "\n",
    "for k in k_values:\n",
    "    print(f'k = {k}')\n",
    "    dataset, l = clusteringH.agglomerative_over_instances(dataset, \n",
    "                                                          ['gyr_phone_x', 'gyr_phone_y', 'gyr_phone_z'], \n",
    "                                                          k, 'euclidean', use_prev_linkage=True, \n",
    "                                                          link_function='ward')\n",
    "    silhouette_score = dataset_cluster['silhouette'].mean()\n",
    "    print(f'silhouette = {silhouette_score}')\n",
    "    silhouette_values.append(silhouette_score)"
   ]
  },
  {
   "cell_type": "code",
   "execution_count": null,
   "id": "4a4eba8c",
   "metadata": {
    "scrolled": true
   },
   "outputs": [],
   "source": [
    "if k == k_values[0]:\n",
    "        DataViz.plot_dendrogram(dataset, l)\n",
    "DataViz.plot_xy(x=[k_values], y=[silhouette_values], xlabel='k', ylabel='silhouette score',\n",
    "                ylim=[0, 1], line_styles=['b-'])"
   ]
  },
  {
   "cell_type": "code",
   "execution_count": null,
   "id": "06c35e8b",
   "metadata": {},
   "outputs": [],
   "source": []
  }
 ],
 "metadata": {
  "kernelspec": {
   "display_name": "Python 3",
   "language": "python",
   "name": "python3"
  },
  "language_info": {
   "codemirror_mode": {
    "name": "ipython",
    "version": 3
   },
   "file_extension": ".py",
   "mimetype": "text/x-python",
   "name": "python",
   "nbconvert_exporter": "python",
   "pygments_lexer": "ipython3",
   "version": "3.9.5"
  }
 },
 "nbformat": 4,
 "nbformat_minor": 5
}
