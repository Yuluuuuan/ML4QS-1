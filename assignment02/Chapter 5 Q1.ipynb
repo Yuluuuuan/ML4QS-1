{
 "cells": [
  {
   "cell_type": "code",
   "execution_count": 1,
   "metadata": {},
   "outputs": [],
   "source": [
    "#Run this 1\n",
    "from Chapter5.DistanceMetrics import InstanceDistanceMetrics\n",
    "from Chapter5.DistanceMetrics import PersonDistanceMetricsNoOrdering\n",
    "from Chapter5.DistanceMetrics import PersonDistanceMetricsOrdering\n",
    "from Chapter5.Clustering import NonHierarchicalClustering\n",
    "from Chapter5.Clustering import HierarchicalClustering\n",
    "import util.util as util\n",
    "from util.VisualizeDataset import VisualizeDataset\n",
    "\n",
    "import sys\n",
    "import copy\n",
    "import numpy as np\n",
    "import pandas as pd\n",
    "import matplotlib.pyplot as plt\n",
    "from pathlib import Path\n",
    "import argparse"
   ]
  },
  {
   "cell_type": "code",
   "execution_count": 2,
   "metadata": {},
   "outputs": [
    {
     "data": {
      "text/html": [
       "<div>\n",
       "<style scoped>\n",
       "    .dataframe tbody tr th:only-of-type {\n",
       "        vertical-align: middle;\n",
       "    }\n",
       "\n",
       "    .dataframe tbody tr th {\n",
       "        vertical-align: top;\n",
       "    }\n",
       "\n",
       "    .dataframe thead th {\n",
       "        text-align: right;\n",
       "    }\n",
       "</style>\n",
       "<table border=\"1\" class=\"dataframe\">\n",
       "  <thead>\n",
       "    <tr style=\"text-align: right;\">\n",
       "      <th></th>\n",
       "      <th>acc_x</th>\n",
       "      <th>acc_y</th>\n",
       "      <th>acc_z</th>\n",
       "      <th>gyr_x</th>\n",
       "      <th>gyr_y</th>\n",
       "      <th>gyr_z</th>\n",
       "      <th>lux_lux</th>\n",
       "      <th>loc_latitude</th>\n",
       "      <th>loc_longitude</th>\n",
       "      <th>loc_speed</th>\n",
       "      <th>...</th>\n",
       "      <th>mag_y</th>\n",
       "      <th>mag_z</th>\n",
       "      <th>labelOnTable</th>\n",
       "      <th>labelSitting</th>\n",
       "      <th>labelWashingHands</th>\n",
       "      <th>labelWalking</th>\n",
       "      <th>labelStanding</th>\n",
       "      <th>labelDriving</th>\n",
       "      <th>labelEating</th>\n",
       "      <th>labelRunning</th>\n",
       "    </tr>\n",
       "  </thead>\n",
       "  <tbody>\n",
       "    <tr>\n",
       "      <th>2016-02-08 18:28:25.656222395</th>\n",
       "      <td>-0.090431</td>\n",
       "      <td>0.164098</td>\n",
       "      <td>9.631765</td>\n",
       "      <td>-0.008824</td>\n",
       "      <td>0.018529</td>\n",
       "      <td>-0.001647</td>\n",
       "      <td>NaN</td>\n",
       "      <td>NaN</td>\n",
       "      <td>NaN</td>\n",
       "      <td>NaN</td>\n",
       "      <td>...</td>\n",
       "      <td>-138.000000</td>\n",
       "      <td>-29.022000</td>\n",
       "      <td>0</td>\n",
       "      <td>0</td>\n",
       "      <td>0</td>\n",
       "      <td>0</td>\n",
       "      <td>0</td>\n",
       "      <td>0</td>\n",
       "      <td>0</td>\n",
       "      <td>0</td>\n",
       "    </tr>\n",
       "    <tr>\n",
       "      <th>2016-02-08 18:28:25.906222395</th>\n",
       "      <td>-0.097600</td>\n",
       "      <td>0.167640</td>\n",
       "      <td>9.631740</td>\n",
       "      <td>-0.008800</td>\n",
       "      <td>0.018540</td>\n",
       "      <td>-0.001540</td>\n",
       "      <td>1084.0</td>\n",
       "      <td>NaN</td>\n",
       "      <td>NaN</td>\n",
       "      <td>NaN</td>\n",
       "      <td>...</td>\n",
       "      <td>-139.552500</td>\n",
       "      <td>-28.970000</td>\n",
       "      <td>0</td>\n",
       "      <td>0</td>\n",
       "      <td>0</td>\n",
       "      <td>0</td>\n",
       "      <td>0</td>\n",
       "      <td>0</td>\n",
       "      <td>0</td>\n",
       "      <td>0</td>\n",
       "    </tr>\n",
       "    <tr>\n",
       "      <th>2016-02-08 18:28:26.156222395</th>\n",
       "      <td>-0.089120</td>\n",
       "      <td>0.167520</td>\n",
       "      <td>9.637300</td>\n",
       "      <td>-0.008880</td>\n",
       "      <td>0.018340</td>\n",
       "      <td>-0.002420</td>\n",
       "      <td>1084.0</td>\n",
       "      <td>NaN</td>\n",
       "      <td>NaN</td>\n",
       "      <td>NaN</td>\n",
       "      <td>...</td>\n",
       "      <td>-141.259200</td>\n",
       "      <td>-28.555200</td>\n",
       "      <td>0</td>\n",
       "      <td>0</td>\n",
       "      <td>0</td>\n",
       "      <td>0</td>\n",
       "      <td>0</td>\n",
       "      <td>0</td>\n",
       "      <td>0</td>\n",
       "      <td>0</td>\n",
       "    </tr>\n",
       "    <tr>\n",
       "      <th>2016-02-08 18:28:26.406222395</th>\n",
       "      <td>-0.090135</td>\n",
       "      <td>0.166019</td>\n",
       "      <td>9.632538</td>\n",
       "      <td>-0.008962</td>\n",
       "      <td>0.018288</td>\n",
       "      <td>-0.002038</td>\n",
       "      <td>1086.0</td>\n",
       "      <td>NaN</td>\n",
       "      <td>NaN</td>\n",
       "      <td>NaN</td>\n",
       "      <td>...</td>\n",
       "      <td>-141.133846</td>\n",
       "      <td>-28.954615</td>\n",
       "      <td>0</td>\n",
       "      <td>0</td>\n",
       "      <td>0</td>\n",
       "      <td>0</td>\n",
       "      <td>0</td>\n",
       "      <td>0</td>\n",
       "      <td>0</td>\n",
       "      <td>0</td>\n",
       "    </tr>\n",
       "    <tr>\n",
       "      <th>2016-02-08 18:28:26.656222395</th>\n",
       "      <td>-0.090608</td>\n",
       "      <td>0.167686</td>\n",
       "      <td>9.630078</td>\n",
       "      <td>-0.008760</td>\n",
       "      <td>0.018800</td>\n",
       "      <td>-0.002260</td>\n",
       "      <td>1084.0</td>\n",
       "      <td>NaN</td>\n",
       "      <td>NaN</td>\n",
       "      <td>NaN</td>\n",
       "      <td>...</td>\n",
       "      <td>-141.314400</td>\n",
       "      <td>-28.795200</td>\n",
       "      <td>0</td>\n",
       "      <td>0</td>\n",
       "      <td>0</td>\n",
       "      <td>0</td>\n",
       "      <td>0</td>\n",
       "      <td>0</td>\n",
       "      <td>0</td>\n",
       "      <td>0</td>\n",
       "    </tr>\n",
       "    <tr>\n",
       "      <th>...</th>\n",
       "      <td>...</td>\n",
       "      <td>...</td>\n",
       "      <td>...</td>\n",
       "      <td>...</td>\n",
       "      <td>...</td>\n",
       "      <td>...</td>\n",
       "      <td>...</td>\n",
       "      <td>...</td>\n",
       "      <td>...</td>\n",
       "      <td>...</td>\n",
       "      <td>...</td>\n",
       "      <td>...</td>\n",
       "      <td>...</td>\n",
       "      <td>...</td>\n",
       "      <td>...</td>\n",
       "      <td>...</td>\n",
       "      <td>...</td>\n",
       "      <td>...</td>\n",
       "      <td>...</td>\n",
       "      <td>...</td>\n",
       "      <td>...</td>\n",
       "    </tr>\n",
       "    <tr>\n",
       "      <th>2016-02-08 20:41:03.906222395</th>\n",
       "      <td>-0.163020</td>\n",
       "      <td>0.184061</td>\n",
       "      <td>9.609571</td>\n",
       "      <td>-0.008592</td>\n",
       "      <td>0.021347</td>\n",
       "      <td>0.002082</td>\n",
       "      <td>NaN</td>\n",
       "      <td>NaN</td>\n",
       "      <td>NaN</td>\n",
       "      <td>NaN</td>\n",
       "      <td>...</td>\n",
       "      <td>27.660000</td>\n",
       "      <td>-10.533333</td>\n",
       "      <td>0</td>\n",
       "      <td>0</td>\n",
       "      <td>0</td>\n",
       "      <td>0</td>\n",
       "      <td>0</td>\n",
       "      <td>0</td>\n",
       "      <td>0</td>\n",
       "      <td>0</td>\n",
       "    </tr>\n",
       "    <tr>\n",
       "      <th>2016-02-08 20:41:04.156222395</th>\n",
       "      <td>-0.162686</td>\n",
       "      <td>0.185196</td>\n",
       "      <td>9.611863</td>\n",
       "      <td>-0.008745</td>\n",
       "      <td>0.021294</td>\n",
       "      <td>0.002000</td>\n",
       "      <td>32.0</td>\n",
       "      <td>NaN</td>\n",
       "      <td>NaN</td>\n",
       "      <td>NaN</td>\n",
       "      <td>...</td>\n",
       "      <td>NaN</td>\n",
       "      <td>NaN</td>\n",
       "      <td>0</td>\n",
       "      <td>0</td>\n",
       "      <td>0</td>\n",
       "      <td>0</td>\n",
       "      <td>0</td>\n",
       "      <td>0</td>\n",
       "      <td>0</td>\n",
       "      <td>0</td>\n",
       "    </tr>\n",
       "    <tr>\n",
       "      <th>2016-02-08 20:41:04.406222395</th>\n",
       "      <td>-0.159980</td>\n",
       "      <td>0.186800</td>\n",
       "      <td>9.615020</td>\n",
       "      <td>-0.008480</td>\n",
       "      <td>0.020960</td>\n",
       "      <td>0.002200</td>\n",
       "      <td>32.0</td>\n",
       "      <td>NaN</td>\n",
       "      <td>NaN</td>\n",
       "      <td>NaN</td>\n",
       "      <td>...</td>\n",
       "      <td>NaN</td>\n",
       "      <td>NaN</td>\n",
       "      <td>0</td>\n",
       "      <td>0</td>\n",
       "      <td>0</td>\n",
       "      <td>0</td>\n",
       "      <td>0</td>\n",
       "      <td>0</td>\n",
       "      <td>0</td>\n",
       "      <td>0</td>\n",
       "    </tr>\n",
       "    <tr>\n",
       "      <th>2016-02-08 20:41:04.656222395</th>\n",
       "      <td>-0.158882</td>\n",
       "      <td>0.184333</td>\n",
       "      <td>9.613510</td>\n",
       "      <td>-0.008529</td>\n",
       "      <td>0.020882</td>\n",
       "      <td>0.002314</td>\n",
       "      <td>32.0</td>\n",
       "      <td>NaN</td>\n",
       "      <td>NaN</td>\n",
       "      <td>NaN</td>\n",
       "      <td>...</td>\n",
       "      <td>NaN</td>\n",
       "      <td>NaN</td>\n",
       "      <td>0</td>\n",
       "      <td>0</td>\n",
       "      <td>0</td>\n",
       "      <td>0</td>\n",
       "      <td>0</td>\n",
       "      <td>0</td>\n",
       "      <td>0</td>\n",
       "      <td>0</td>\n",
       "    </tr>\n",
       "    <tr>\n",
       "      <th>2016-02-08 20:41:04.906222395</th>\n",
       "      <td>-0.164737</td>\n",
       "      <td>0.182632</td>\n",
       "      <td>9.623053</td>\n",
       "      <td>-0.008140</td>\n",
       "      <td>0.021100</td>\n",
       "      <td>0.001900</td>\n",
       "      <td>32.0</td>\n",
       "      <td>NaN</td>\n",
       "      <td>NaN</td>\n",
       "      <td>NaN</td>\n",
       "      <td>...</td>\n",
       "      <td>NaN</td>\n",
       "      <td>NaN</td>\n",
       "      <td>0</td>\n",
       "      <td>0</td>\n",
       "      <td>0</td>\n",
       "      <td>0</td>\n",
       "      <td>0</td>\n",
       "      <td>0</td>\n",
       "      <td>0</td>\n",
       "      <td>0</td>\n",
       "    </tr>\n",
       "  </tbody>\n",
       "</table>\n",
       "<p>31838 rows × 21 columns</p>\n",
       "</div>"
      ],
      "text/plain": [
       "                                  acc_x     acc_y     acc_z     gyr_x  \\\n",
       "2016-02-08 18:28:25.656222395 -0.090431  0.164098  9.631765 -0.008824   \n",
       "2016-02-08 18:28:25.906222395 -0.097600  0.167640  9.631740 -0.008800   \n",
       "2016-02-08 18:28:26.156222395 -0.089120  0.167520  9.637300 -0.008880   \n",
       "2016-02-08 18:28:26.406222395 -0.090135  0.166019  9.632538 -0.008962   \n",
       "2016-02-08 18:28:26.656222395 -0.090608  0.167686  9.630078 -0.008760   \n",
       "...                                 ...       ...       ...       ...   \n",
       "2016-02-08 20:41:03.906222395 -0.163020  0.184061  9.609571 -0.008592   \n",
       "2016-02-08 20:41:04.156222395 -0.162686  0.185196  9.611863 -0.008745   \n",
       "2016-02-08 20:41:04.406222395 -0.159980  0.186800  9.615020 -0.008480   \n",
       "2016-02-08 20:41:04.656222395 -0.158882  0.184333  9.613510 -0.008529   \n",
       "2016-02-08 20:41:04.906222395 -0.164737  0.182632  9.623053 -0.008140   \n",
       "\n",
       "                                  gyr_y     gyr_z  lux_lux  loc_latitude  \\\n",
       "2016-02-08 18:28:25.656222395  0.018529 -0.001647      NaN           NaN   \n",
       "2016-02-08 18:28:25.906222395  0.018540 -0.001540   1084.0           NaN   \n",
       "2016-02-08 18:28:26.156222395  0.018340 -0.002420   1084.0           NaN   \n",
       "2016-02-08 18:28:26.406222395  0.018288 -0.002038   1086.0           NaN   \n",
       "2016-02-08 18:28:26.656222395  0.018800 -0.002260   1084.0           NaN   \n",
       "...                                 ...       ...      ...           ...   \n",
       "2016-02-08 20:41:03.906222395  0.021347  0.002082      NaN           NaN   \n",
       "2016-02-08 20:41:04.156222395  0.021294  0.002000     32.0           NaN   \n",
       "2016-02-08 20:41:04.406222395  0.020960  0.002200     32.0           NaN   \n",
       "2016-02-08 20:41:04.656222395  0.020882  0.002314     32.0           NaN   \n",
       "2016-02-08 20:41:04.906222395  0.021100  0.001900     32.0           NaN   \n",
       "\n",
       "                               loc_longitude  loc_speed  ...       mag_y  \\\n",
       "2016-02-08 18:28:25.656222395            NaN        NaN  ... -138.000000   \n",
       "2016-02-08 18:28:25.906222395            NaN        NaN  ... -139.552500   \n",
       "2016-02-08 18:28:26.156222395            NaN        NaN  ... -141.259200   \n",
       "2016-02-08 18:28:26.406222395            NaN        NaN  ... -141.133846   \n",
       "2016-02-08 18:28:26.656222395            NaN        NaN  ... -141.314400   \n",
       "...                                      ...        ...  ...         ...   \n",
       "2016-02-08 20:41:03.906222395            NaN        NaN  ...   27.660000   \n",
       "2016-02-08 20:41:04.156222395            NaN        NaN  ...         NaN   \n",
       "2016-02-08 20:41:04.406222395            NaN        NaN  ...         NaN   \n",
       "2016-02-08 20:41:04.656222395            NaN        NaN  ...         NaN   \n",
       "2016-02-08 20:41:04.906222395            NaN        NaN  ...         NaN   \n",
       "\n",
       "                                   mag_z  labelOnTable  labelSitting  \\\n",
       "2016-02-08 18:28:25.656222395 -29.022000             0             0   \n",
       "2016-02-08 18:28:25.906222395 -28.970000             0             0   \n",
       "2016-02-08 18:28:26.156222395 -28.555200             0             0   \n",
       "2016-02-08 18:28:26.406222395 -28.954615             0             0   \n",
       "2016-02-08 18:28:26.656222395 -28.795200             0             0   \n",
       "...                                  ...           ...           ...   \n",
       "2016-02-08 20:41:03.906222395 -10.533333             0             0   \n",
       "2016-02-08 20:41:04.156222395        NaN             0             0   \n",
       "2016-02-08 20:41:04.406222395        NaN             0             0   \n",
       "2016-02-08 20:41:04.656222395        NaN             0             0   \n",
       "2016-02-08 20:41:04.906222395        NaN             0             0   \n",
       "\n",
       "                               labelWashingHands  labelWalking  labelStanding  \\\n",
       "2016-02-08 18:28:25.656222395                  0             0              0   \n",
       "2016-02-08 18:28:25.906222395                  0             0              0   \n",
       "2016-02-08 18:28:26.156222395                  0             0              0   \n",
       "2016-02-08 18:28:26.406222395                  0             0              0   \n",
       "2016-02-08 18:28:26.656222395                  0             0              0   \n",
       "...                                          ...           ...            ...   \n",
       "2016-02-08 20:41:03.906222395                  0             0              0   \n",
       "2016-02-08 20:41:04.156222395                  0             0              0   \n",
       "2016-02-08 20:41:04.406222395                  0             0              0   \n",
       "2016-02-08 20:41:04.656222395                  0             0              0   \n",
       "2016-02-08 20:41:04.906222395                  0             0              0   \n",
       "\n",
       "                               labelDriving  labelEating  labelRunning  \n",
       "2016-02-08 18:28:25.656222395             0            0             0  \n",
       "2016-02-08 18:28:25.906222395             0            0             0  \n",
       "2016-02-08 18:28:26.156222395             0            0             0  \n",
       "2016-02-08 18:28:26.406222395             0            0             0  \n",
       "2016-02-08 18:28:26.656222395             0            0             0  \n",
       "...                                     ...          ...           ...  \n",
       "2016-02-08 20:41:03.906222395             0            0             0  \n",
       "2016-02-08 20:41:04.156222395             0            0             0  \n",
       "2016-02-08 20:41:04.406222395             0            0             0  \n",
       "2016-02-08 20:41:04.656222395             0            0             0  \n",
       "2016-02-08 20:41:04.906222395             0            0             0  \n",
       "\n",
       "[31838 rows x 21 columns]"
      ]
     },
     "execution_count": 2,
     "metadata": {},
     "output_type": "execute_result"
    }
   ],
   "source": [
    "#Run this 2\n",
    "dataset_path = 'data/raw_data/processed_data/ch5__given_dataset.csv'\n",
    "dataset = pd.read_csv(dataset_path, index_col=0)\n",
    "dataset"
   ]
  },
  {
   "cell_type": "code",
   "execution_count": 3,
   "metadata": {},
   "outputs": [],
   "source": [
    "#Run this 3\n",
    "DataViz = VisualizeDataset()\n",
    "\n",
    "clusteringNH = NonHierarchicalClustering()\n",
    "clusteringH = HierarchicalClustering()"
   ]
  },
  {
   "cell_type": "markdown",
   "metadata": {},
   "source": [
    "# Acceleration"
   ]
  },
  {
   "cell_type": "markdown",
   "metadata": {},
   "source": [
    "## K-means"
   ]
  },
  {
   "cell_type": "code",
   "execution_count": 4,
   "metadata": {},
   "outputs": [
    {
     "name": "stdout",
     "output_type": "stream",
     "text": [
      "k = 2\n",
      "silhouette = 0.4222895133864427\n",
      "k = 3\n",
      "silhouette = 0.5266018336994556\n",
      "k = 4\n",
      "silhouette = 0.6241707194285444\n",
      "k = 5\n",
      "silhouette = 0.6674493834920422\n",
      "k = 6\n",
      "silhouette = 0.7269953357344895\n",
      "k = 7\n",
      "silhouette = 0.722771569770014\n",
      "k = 8\n",
      "silhouette = 0.6458038384996903\n",
      "k = 9\n",
      "silhouette = 0.6679814152697782\n"
     ]
    }
   ],
   "source": [
    "k_values = range(2, 10)\n",
    "silhouette_values = []\n",
    "\n",
    "for k in k_values:\n",
    "    print(f'k = {k}')\n",
    "    dataset_cluster = clusteringNH.k_means_over_instances(copy.deepcopy(\n",
    "        dataset), ['acc_x', 'acc_y', 'acc_z'], k, 'default', 20, 10)\n",
    "    silhouette_score = dataset_cluster['silhouette'].mean()\n",
    "    print(f'silhouette = {silhouette_score}')\n",
    "    silhouette_values.append(silhouette_score)"
   ]
  },
  {
   "cell_type": "code",
   "execution_count": 5,
   "metadata": {},
   "outputs": [
    {
     "name": "stdout",
     "output_type": "stream",
     "text": [
      "Figure saved to figures\\figure_1.png\n"
     ]
    },
    {
     "data": {
      "image/png": "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\n",
      "text/plain": [
       "<Figure size 432x288 with 1 Axes>"
      ]
     },
     "metadata": {
      "needs_background": "light"
     },
     "output_type": "display_data"
    },
    {
     "name": "stdout",
     "output_type": "stream",
     "text": [
      "Highest K-Means silhouette score: k = 6\n"
     ]
    }
   ],
   "source": [
    "DataViz.plot_xy(x=[k_values], y=[silhouette_values], \n",
    "                xlabel='k', ylabel='silhouette score',ylim=[0, 1], line_styles=['b-'])\n",
    "k = k_values[np.argmax(silhouette_values)]\n",
    "print(f'Highest K-Means silhouette score: k = {k}')"
   ]
  },
  {
   "cell_type": "markdown",
   "metadata": {},
   "source": [
    "## Kmediods"
   ]
  },
  {
   "cell_type": "code",
   "execution_count": 6,
   "metadata": {},
   "outputs": [
    {
     "name": "stdout",
     "output_type": "stream",
     "text": [
      "k = 2\n",
      "silhouette = 0.4181575084042515\n",
      "k = 3\n",
      "silhouette = 0.5249084805226317\n",
      "k = 4\n",
      "silhouette = 0.6221056963418828\n",
      "k = 5\n",
      "silhouette = 0.6790359636580445\n",
      "k = 6\n",
      "silhouette = 0.7261695520253034\n",
      "k = 7\n",
      "silhouette = 0.6411890305870854\n",
      "k = 8\n",
      "silhouette = 0.6410008782964335\n",
      "k = 9\n",
      "silhouette = 0.6460339579616305\n"
     ]
    }
   ],
   "source": [
    "k_values = range(2, 10)\n",
    "silhouette_values = []\n",
    "\n",
    "for k in k_values:\n",
    "    print(f'k = {k}')\n",
    "    dataset_cluster = clusteringNH.k_medoids_over_instances(copy.deepcopy(\n",
    "        dataset), ['acc_x', 'acc_y', 'acc_z'], k, 'default', 20, n_inits=10)\n",
    "    silhouette_score = dataset_cluster['silhouette'].mean()\n",
    "    print(f'silhouette = {silhouette_score}')\n",
    "    silhouette_values.append(silhouette_score)"
   ]
  },
  {
   "cell_type": "code",
   "execution_count": 7,
   "metadata": {},
   "outputs": [
    {
     "name": "stdout",
     "output_type": "stream",
     "text": [
      "Figure saved to figures\\figure_2.png\n"
     ]
    },
    {
     "data": {
      "image/png": "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\n",
      "text/plain": [
       "<Figure size 432x288 with 1 Axes>"
      ]
     },
     "metadata": {
      "needs_background": "light"
     },
     "output_type": "display_data"
    },
    {
     "name": "stdout",
     "output_type": "stream",
     "text": [
      "Highest K-Medoids silhouette score: k = 6\n",
      "Figure saved to figures\\figure_3.png\n"
     ]
    },
    {
     "data": {
      "image/png": "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\n",
      "text/plain": [
       "<Figure size 432x288 with 1 Axes>"
      ]
     },
     "metadata": {
      "needs_background": "light"
     },
     "output_type": "display_data"
    },
    {
     "name": "stdout",
     "output_type": "stream",
     "text": [
      "Figure saved to figures\\figure_4.png\n"
     ]
    },
    {
     "data": {
      "image/png": "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\n",
      "text/plain": [
       "<Figure size 432x288 with 1 Axes>"
      ]
     },
     "metadata": {
      "needs_background": "light"
     },
     "output_type": "display_data"
    },
    {
     "name": "stdout",
     "output_type": "stream",
     "text": [
      "\\multirow{2}{*}{ acc_x } & mean  &  -0.30 &  -8.20 &  8.24 &  -0.52 &  8.04 &  -0.81\\\\\n",
      " & std  &  1.08 &  0.93 &  1.01 &  1.44 &  0.98 &  1.74\\\\\n",
      "\\multirow{2}{*}{ acc_y } & mean  &  1.05 &  2.17 &  0.56 &  9.58 &  -2.29 &  -9.56\\\\\n",
      " & std  &  1.91 &  1.98 &  1.48 &  1.49 &  2.06 &  1.64\\\\\n",
      "\\multirow{2}{*}{ acc_z } & mean  &  9.22 &  -4.76 &  4.56 &  -0.56 &  -4.81 &  0.21\\\\\n",
      " & std  &  0.92 &  1.21 &  1.36 &  1.82 &  1.00 &  1.74\\\\\n",
      "labelOnTable  & percentage  &  99.80 \\% &  0.00 \\% &  0.20 \\% &  0.00 \\% &  0.00 \\% &  0.00 \\%\\\\\n",
      "labelSitting  & percentage  &  2.05 \\% &  0.00 \\% &  0.40 \\% &  0.04 \\% &  97.52 \\% &  0.00 \\%\\\\\n",
      "labelWashingHands  & percentage  &  7.62 \\% &  0.00 \\% &  3.17 \\% &  32.22 \\% &  1.75 \\% &  55.24 \\%\\\\\n",
      "labelWalking  & percentage  &  2.26 \\% &  0.23 \\% &  0.58 \\% &  50.04 \\% &  0.49 \\% &  46.40 \\%\\\\\n",
      "labelStanding  & percentage  &  4.19 \\% &  0.35 \\% &  0.60 \\% &  46.00 \\% &  0.52 \\% &  48.34 \\%\\\\\n",
      "labelDriving  & percentage  &  1.70 \\% &  22.30 \\% &  55.77 \\% &  0.23 \\% &  19.90 \\% &  0.10 \\%\\\\\n",
      "labelEating  & percentage  &  2.45 \\% &  57.46 \\% &  39.49 \\% &  0.46 \\% &  0.14 \\% &  0.00 \\%\\\\\n",
      "labelRunning  & percentage  &  13.00 \\% &  0.33 \\% &  0.50 \\% &  0.00 \\% &  16.23 \\% &  69.95 \\%\\\\\n"
     ]
    }
   ],
   "source": [
    "DataViz.plot_xy(x=[k_values], y=[silhouette_values], xlabel='k', ylabel='silhouette score',\n",
    "                ylim=[0, 1], line_styles=['b-'])\n",
    "\n",
    "k = k_values[np.argmax(silhouette_values)]\n",
    "print(f'Highest K-Medoids silhouette score: k = {k}')\n",
    "\n",
    "dataset_kmed = clusteringNH.k_medoids_over_instances(copy.deepcopy(dataset), \n",
    "                                                     ['acc_x', 'acc_y', 'acc_z'], \n",
    "                                                     k, 'default', 20, n_inits=50)\n",
    "DataViz.plot_clusters_3d(dataset_kmed, ['acc_x', 'acc_y', 'acc_z'], 'cluster', ['label'])\n",
    "DataViz.plot_silhouette(dataset_kmed, 'cluster', 'silhouette')\n",
    "util.print_latex_statistics_clusters(dataset_kmed, 'cluster', \n",
    "                                     ['acc_x', 'acc_y', 'acc_z'], 'label')"
   ]
  },
  {
   "cell_type": "markdown",
   "metadata": {},
   "source": [
    "## hierarchical"
   ]
  },
  {
   "cell_type": "code",
   "execution_count": 8,
   "metadata": {},
   "outputs": [
    {
     "name": "stdout",
     "output_type": "stream",
     "text": [
      "k = 2\n",
      "silhouette = 0.4019611869997496\n",
      "k = 3\n",
      "silhouette = 0.4934836910751858\n",
      "k = 4\n",
      "silhouette = 0.618716066093193\n",
      "k = 5\n",
      "silhouette = 0.6614746902027286\n",
      "k = 6\n",
      "silhouette = 0.7126538006816201\n",
      "k = 7\n",
      "silhouette = 0.7001379949671623\n",
      "k = 8\n",
      "silhouette = 0.705118825623485\n",
      "k = 9\n",
      "silhouette = 0.6350894187937325\n"
     ]
    }
   ],
   "source": [
    "#Run this 4\n",
    "k_values = range(2, 10)\n",
    "silhouette_values = []\n",
    "\n",
    "for k in k_values:\n",
    "    print(f'k = {k}')\n",
    "    dataset_cluster, l = clusteringH.agglomerative_over_instances(dataset, \n",
    "                                                          ['acc_x', 'acc_y', 'acc_z'], \n",
    "                                                          k, 'euclidean', \n",
    "                                                          link_function='ward')\n",
    "    silhouette_score = dataset_cluster['silhouette'].mean()\n",
    "    print(f'silhouette = {silhouette_score}')\n",
    "    silhouette_values.append(silhouette_score)"
   ]
  },
  {
   "cell_type": "code",
   "execution_count": 9,
   "metadata": {},
   "outputs": [
    {
     "name": "stdout",
     "output_type": "stream",
     "text": [
      "Figure saved to figures\\figure_5.png\n"
     ]
    },
    {
     "data": {
      "image/png": "iVBORw0KGgoAAAANSUhEUgAAAYIAAAEKCAYAAAAfGVI8AAAAOXRFWHRTb2Z0d2FyZQBNYXRwbG90bGliIHZlcnNpb24zLjMuNCwgaHR0cHM6Ly9tYXRwbG90bGliLm9yZy8QVMy6AAAACXBIWXMAAAsTAAALEwEAmpwYAAAcO0lEQVR4nO3de5hWZb3/8fdHBg+QgiK1DSRpbxTRPOCIGnmkraCl7cwEc7u3P6/IzLJz2i5/1b7au53l1vIUmaa/UipFJcNTV2Z5mQQYImQaoXJMEQ8omDjM9/fHvWgehzksZ2bNmmfW53VdzzWzDs8zX2BYn7Xudd/3UkRgZmbVtU3ZBZiZWbkcBGZmFecgMDOrOAeBmVnFOQjMzCrOQWBmVnGFBYGkayQ9I2lxO9sl6TuSlkpaJGl8UbWYmVn7irwi+CEwuYPtU4Ax2Ws6cGWBtZiZWTsKC4KI+A3wXAe7nARcH8mDwFBJuxVVj5mZta2hxJ89AlhRs7wyW7em9Y6SppOuGhg8ePBBY8eO7ZUCzcz6iwULFjwbEcPb2lZmEKiNdW3OdxERM4AZAI2NjTF//vwi6zIz63ckPdXetjJ7Da0Edq9ZHgmsLqkWM7PKKjMIZgNnZL2HDgVejIitmoXMzKxYhTUNSboROArYVdJK4P8CAwEi4ipgDnA8sBTYCJxZVC1mZta+woIgIqZ1sj2AjxX1883MLB+PLDYzqzgHgZlZxTkIzMwqzkFgZlZxDgIzs4pzEJiZVZyDwMys4hwEZmYV5yAwM6s4B4GZWcU5CMzMKs5BYGZWcQ4CM7OKcxCYmVWcg8DMrOIcBGZmFecgMDOrOAeBmVnFOQjMzCrOQWBmVnEOAjOzinMQmJlVnIPAzKziHARmZhXnIDAzqzgHgZlZxTkIzMwqzkFgZlZxDgIzs4pzEJiZVZyDwMys4hwEZmYV5yAwM6s4B4GZWcU5CMzMKq7QIJA0WdJjkpZKOr+N7UMk/VzSw5KWSDqzyHrMzGxrhQWBpAHA5cAUYBwwTdK4Vrt9DPhjROwPHAV8W9K2RdVkZmZbK/KKYAKwNCKWRcQmYCZwUqt9AthRkoA3Ac8BTQXWZGZmrRQZBCOAFTXLK7N1tS4D9gZWA48A50VEc+sPkjRd0nxJ89euXVtUvWZmlVRkEKiNddFq+ThgIfBW4ADgMkk7bfWmiBkR0RgRjcOHD+/pOs3MKq3IIFgJ7F6zPJJ05l/rTGBWJEuBJ4CxBdZkZmatFBkE84AxkkZnN4CnArNb7bMcmAQg6S3AXsCyAmsyM7NWGor64IhoknQucBcwALgmIpZIOjvbfhXwn8APJT1Cakr6QkQ8W1RNZma2tcKCACAi5gBzWq27qub71cCxRdZgZmYd88hiM7OKcxCYmVWcg8DMrOIcBGZmFecgMDOrOAeBmVnFOQjMzCrOQWBmVnEOAjOzinMQmJlVnIPAzKziHARmZhVX6KRzZvbGNTXBQw/BvffCr34FS5bAjjvC0KEdv3be+fXLQ4bAdtuV9IewuuIgMCtZczMsWtRy4P/Nb2D9+rRtn31g0iR45RV44QVYtw7+8pf0/fPPp9DoyA47dB4gHb223bbH/7iFa26G116DV1+FTZvSa8v3rdcNGgQHHwzbVLxtxEFg1ssi4NFHWw78v/41PPdc2jZmDEydCsccA0cdBW95S8efsyUg8r6efRaWLi0uSIYMSQfVtg667a3r6e2d/ZlaGzECTj0VTjsNxo8HtfWQ3X5OEa0fI9y3NTY2xvz588suwyy3iHQWv+XAf++98PTTaduoUemgf8wxcPTRMHJk79b1RoOk9pUnSPLabrt09bHla3vf512X9z2rV8PMmXDHHekqYs89Ydq09Nprr575s/UVkhZERGOb2xwEZj1v+fLXH/hXrEjrd9stHfC3HPhHj67fM9AI2Lhx64CAN3Ywbmgo/+/guedg1iy44YZ0hRYBBx2UAuHUU3s3oIviIDAr2F//+voD/1/+ktYPG/b6A/9ee5V/0LOOrVoFP/1pCoX589O/1xFHpKajD3wAdtml7Aq7xkFg1sPWrUtnjlsO/o8+mtYPGQJHHtly8N93X9+IrGd//jPceGMKhcceg4ED4bjjUiiceCIMHlx2hfk5CMy66cUXU2+eLQf+hx9O6wcPhsMPbznjP/BAGDCg3Fqt50XAwoUpEG68MV01DBoE73tfaj469ti+38PKQWD2Bm3YAPff33LgX7AgdUvcbjuYOLHljP/gg9NZolVHc3P63bjhBvjZz9L9hV12gVNOSaFw+OF98yqwR4JA0uCI2NCjlXWBg8CK8Le/we9+13Lg//3vUy+ShgY49NCWA/+hh8L225ddrfUVmzbBPfekULj11nTzfOTI1AV42rR0hdhX7gl1KwgkvRO4GnhTRIyStD/wkYg4p+dL7ZyDwHrCa6+lg/2WA/8DD6Q+6NtsA42NLQf+iRPrqx3YyrNhA/z85ykU7rwz/Y7ttVe6nzBtWhojUqbuBsFc4APA7Ig4MFu3OCL27fFKc3AQWFc880w68M+dm14PPJD+4wIccEDLgf/ww9MNX7PueO45uPnmFAr33ZfuMTQ2plA49VR461t7v6ZuB0FEHCLpDzVB8HBE7F9ArZ1yEFhnXnklzdVTe+B/8sm0bZtt4B3vSGf6kyalHj7DhpVarvVzq1bBT36SQmHBgtRUdNRRKRROPjnNEdUbuhsENwEXA5cBhwKfABojYmpPF5qHg8BqNTenbn1z57Yc+BctahnxuvvucMghLa/x493UY+V5/PGW7qiPP546GkyZkpqO3vveYn83uxsEuwKXAu8GBNwNnBcR63q60DwcBNX29NMtZ/m//z3Mm5e6dkKaofPgg1sO+hMmpJG8Zn1NBPzhDykQZs5MVw2DB7++O2pP90brchBIGgBcFxGn92xJXecgqI6NG1MTz5YD/9y5aeoGSH3199svHey3HPjHju2b3fbMOtLcDL/9bUt31OefT82VW7qjvutdPfN73d0rgruA90bEpu6X0n0Ogv6puTmNzq1t13/kEdi8OW1/29tazvK3NPEMGlRuzWY9bdMmuPvuFAq33dbSHXXLRHgHHND17qjdDYLvAeOB2cDfxxFExMVdK6d7HAT9w5o1r2/XnzcPXnopbdtpp9ef6U+Y0PF0zGb90YYNMHt2S3fUpib41Kfg4i4eeTsKgjzPI1idvbYBduxaCVZlGzak3hK1bftbZuNsaEhNPKef3nLg33NPN/GYDR7cciWwbl3qjrpvQZ32Ow2CiPgqgKQd02K8XEwp1h9s3pyaeGrb9RcvTk0/kKZdfuc7Ww76Bx6YHn5iZu0bNgymTy/u8zsNAkn7Av8P2CVbfhY4IyKWFFeW1ZOnnoKrroIHH0zT9r6cnSoMHZqadU48saWJ581vLrVUM2tDnqahGcCnI+JeAElHAd8H3llcWVYPmprg0kvhwgvTTa4DDoB/+7eW9v0xY9zEY1YP8gTB4C0hABARv5aUa9iDpMmkMQgDgKsj4htt7HMUcAkwEHg2Io7M89lWrnnz0qXqwoVwwglw+eWpZ4+Z1Z8852vLJH1Z0h7Z60vAE529KRuDcDkwBRgHTJM0rtU+Q4ErgBMjYh/glDf6B7DetX49fOIT6Yz/6afhppvSRFsOAbP6lScI/g8wHJiVvXYFzszxvgnA0ohYlo1BmAmc1Gqf04BZEbEcICKeyVu49b5bboFx4+Cyy+Ccc9JN4ZNP7jvT7JpZ1+TpNfQ8aX6hN2oEsKJmeSVwSKt99gQGSvo1qWvqpRFxfesPkjQdmA4watSoLpRi3bFiBXz842mAy377pW5sh7T+lzSzutXpFYGke7ImnC3LO2ejjTt9axvrWo9eawAOAk4AjgO+LGnPrd4UMSMiGiOicfjw4Tl+tPWEzZvhkktg773TaMdvfjP1CnIImPUveW4W7xoRL2xZiIjnJeXpBLgS2L1meSRpYFrrfZ7Nnny2QdJvgP2Bx3N8vhVowQL4yEfS18mT4Yor0hgAM+t/8twjaJb09/YYSW9j6zP7tswDxkgaLWlbYCppmopatwGHS2qQNIjUdPRovtKtCC+/nIaxT5jQMo/6nDkOAbP+LM8VwX8A90u6L1s+gqy9viMR0STpXOAuUvfRayJiiaSzs+1XRcSjku4EFgHNpC6mi7vyB7Humz0bzj0XVq6Es8+G//qvNCjMzPq3XA+vz55JcCip3f93EfFs0YW1x5PO9bxVq9LN4FtuSXOZzJgBhx1WdlVm1pM6mnQuz83iicArEXE7MAT4YtY8ZHVu82b47nfTzeA77oD//u80/79DwKxa8twjuBLYKGl/4HPAU8BWXTytvixcmA74n/hE+rpkCZx/fs8/FcnM+r48QdAUqf3oJOA7EXEpno66br38Mnz2s9DYmCaLu/HGNNf5299edmVmVpY8N4tfknQBcDpwRDZ1hM8b69AvfpFGBC9fnuYJ+sY3YOedy67KzMqW54rgVOBV4KyI+CtpxPBFhVZlPWr16vT80/e8B970pvR81O99zyFgZkmeKSb+Clxcs7wc3yOoC5s3pwP+BRfAq6/C17+emoW23bbsysysL8nTNGR1aNGi1Pwzdy68+91w5ZXwT/9UdlVm1hf5sSH9zIYN8IUvwPjxsGwZ/OhHaZ4gh4CZtSfXFYGkHYBREfFYwfVYN9xxR7oZ/OSTcNZZaZK4XXYpuyoz6+vyDCh7L7AQuDNbPkBS6zmDrERr1sDUqXD88bD99nDffXD11Q4BM8snT9PQV0gPmXkBICIWAnsUVZDl19ycHhq/995w663wta+lgWJHHFF2ZWZWT/I0DTVFxIvyY6j6lMWL083g3/0Ojjkm3Qzec6snOZiZdS7PFcFiSacBAySNkfRd4IGC67J2bNyYuoMeeCA8/jhcdx388pcOATPrujxB8HFgH9KgshuAF4HziizK2nb33fCOd6QRwaefDn/6E5xxhp8ZbGbdkycIToiI/4iIg7PXl4ATiy7MWjz9NHzoQ3DccdDQAPfeC9deC7vuWnZlZtYf5AmCC3Kusx7W3Azf/z6MHQs33QRf+UoaKHbUUWVXZmb9Sbs3iyVNAY4HRkj6Ts2mnYCmogurusWL4aMfhfvvhyOPTL2Dxo4tuyoz6486uiJYDcwH/gYsqHnNBo4rvrTqiUgH/pNOSvcC/vhHuOaa1BTkEDCzorR7RRARDwMPS3pLRFxXu03SecClRRdXFZs3p+cFf/Ob8OCDMGwYXHhhenyk7wOYWdHy3COY2sa6f+/hOirplVfS7KB77w3vfz888wxcdll6YMxXv+oQMLPe0dE9gmnAacDoVlNK7AisK7qw/mzdOrjiivS84LVr09PCfvKTFAYNng/WzHpZR4edB4A1wK7At2vWvwQsKrKo/uqJJ+Dii1O7/8aNaW6gz30u3Qz2WAAzK0tH9wieIj2o/jBJbwPGRMQvs5lIdyAFguWwYAFcdBH87GcwYEAaE/DZz8I++5RdmZlZjrmGJH0YmA7sAvwjMBK4CphUbGn1LSI9FP6ii1Kvn512gs98Bs47D0aMKLs6M7MWeVqkP0aafXQuQET8WdKbC62qjm3aBDNnpgBYvDgd9C+6CD78YRgypOzqzMy2licIXo2ITVtmH5XUAEShVdWh9ethxgy45BJYtQr23TdNCDd1qp8RbGZ9W54guE/SF4EdJP0zcA7w82LLqh+rVsGll6ZuoOvXw9FHp2khJk/2DWAzqw95guB84CzgEeAjwBzg6iKLqgdLlsC3vgU//nEaEHbKKakH0EEHlV2Zmdkb02kQREQz8P3sVWkR6TGQF10Ec+bAoEFw9tnwqU/B6NFlV2dm1jV5eg09QRv3BCLi7YVU1Ac1NcGsWekKYN48GD48PRbynHPSdBBmZvUsT9NQY8332wOnkLqS9nsbN6Z5/y++GJYtgzFj0iygZ5wBO+xQdnVmZj0jT9NQ6+kkLpF0P3BhMSWVb+3aNOfP5Zen6SAOOyxdDZx4YhoQZmbWn+RpGhpfs7gN6Qphx8IqKtHSpens/9pr4W9/Swf+z38eJk4suzIzs+LkaRqqnWeoCXgS+GAh1ZRk7tx0A3jWLBg4MDX9fOYzfgaAmVVDnqaho3ujkN7W3Ay/+EUKgN/+FoYOhQsuSM8A+Id/KLs6M7Pe0+nzCCQNkXSxpPnZ69uSck2WIGmypMckLZV0fgf7HSxps6QPvJHiu+LVV9Psn/vum5p+nnoK/vd/Yfly+PrXHQJmVj15HkxzDWmm0Q9mr/XAtZ29SdIA4HJgCjAOmCZpXDv7/Q9wV/6y37gXXoBvfCP19z/rLNhuuzQYbOlS+OQnYcd+edfDzKxzee4R/GNEnFyz/FVJC3O8bwKwNCKWAUiaCZwE/LHVfh8HbgYOzvGZXXb77anp59hj4frrYdIkTwFhZgb5guAVSe+KiPsBJE0EXsnxvhHAiprllcAhtTtIGgH8C3AMHQSBpOmkqbAZNWpUjh+9tVNPTQ+E33//Lr3dzKzfyhMEZwPXZ/cFBDxHvmcWt3W+3XqE8iXAFyJiszo4PY+IGcAMgMbGxi7NfDpwoEPAzKwteXoNPQzsL2mnbHl9zs9eCexeszwSWN1qn0ZgZhYCuwLHS2qKiFtz/gwzM+umPAPKtgNOBvYAGracuUfE1zp56zxgjKTRwCpgKnBa7Q4R8fep2iT9ELjdIWBm1rvyNA3dBrwILABezfvBEdEk6VxSb6ABwDURsUTS2dn2q7pQr5mZ9bA8QTAyIiZ35cMjYg7p+QW169oMgIj49678DDMz65484wgekPSOwisxM7NStHtFIOkRUi+fBuBMSctITUMCIiL2650SzcysSB01Db2n16owM7PSdBQEL/VaFWZmVpqOgmABqWmovYFhlXlUpZlZf9ZuENT28Tczs/6ro5vFYyPiT62eUPZ3EfFQcWWZmVlv6ahp6NOkid6+3ca2IE0UZ2Zmda6jpqHp2dd++YQyMzNL8jyh7BRJO2bff0nSLEkHFl+amZn1hjwji78cES9JehdwHHAd4HmCzMz6iTxBsDn7egJwZUTcBmxbXElmZtab8gTBKknfIz2veE42LXWe95mZWR3Ic0D/IGkq6ckR8QKwC/C5IosyM7Pek+cJZRuBWTXLa4A1RRZlZma9x008ZmYV5yAwM6s4B4GZWcU5CMzMKs5BYGZWcQ4CM7OKcxCYmVWcg8DMrOIcBGZmFecgMDOrOAeBmVnFOQjMzCrOQWBmVnEOAjOzinMQmJlVnIPAzKziHARmZhXnIDAzqzgHgZlZxRUaBJImS3pM0lJJ57ex/UOSFmWvByTtX2Q9Zma2tcKCQNIA4HJgCjAOmCZpXKvdngCOjIj9gP8EZhRVj5mZta3IK4IJwNKIWBYRm4CZwEm1O0TEAxHxfLb4IDCywHrMzKwNRQbBCGBFzfLKbF17zgLuaGuDpOmS5kuav3bt2h4s0czMigwCtbEu2txROpoUBF9oa3tEzIiIxohoHD58eA+WaGZmDQV+9kpg95rlkcDq1jtJ2g+4GpgSEesKrMfMzNpQ5BXBPGCMpNGStgWmArNrd5A0CpgF/GtEPF5gLWZm1o7CrggioknSucBdwADgmohYIunsbPtVwIXAMOAKSQBNEdFYVE1mZrY1RbTZbN9nNTY2xvz588suw8ysrkha0N6JtkcWm5lVnIPAzKziHARmZhXnIDAzqzgHgZlZxTkIzMwqzkFgZlZxDgIzs4pzEJiZVZyDwMys4hwEZmYV5yAwM6s4B4GZWcU5CMzMKs5BYGZWcQ4CM7OKcxCYmVWcg8DMrOIcBGZmFecgMDOrOAeBmVnFOQjMzCrOQWBmVnEOAjOzinMQmJlVnIPAzKziHARmZhXnIDAzqzgHgZlZxTkIzMwqzkFgZlZxDgIzs4pzEJiZVZyDwMys4hwEZmYVV2gQSJos6TFJSyWd38Z2SfpOtn2RpPFF1mNmZlsrLAgkDQAuB6YA44Bpksa12m0KMCZ7TQeuLKoeMzNrW5FXBBOApRGxLCI2ATOBk1rtcxJwfSQPAkMl7VZgTWZm1kpDgZ89AlhRs7wSOCTHPiOANbU7SZpOumIAeFnSY12saVfg2S6+twz1VG891Qr1VW891Qr1VW891Qrdq/dt7W0oMgjUxrrowj5ExAxgRrcLkuZHRGN3P6e31FO99VQr1Fe99VQr1Fe99VQrFFdvkU1DK4Hda5ZHAqu7sI+ZmRWoyCCYB4yRNFrStsBUYHarfWYDZ2S9hw4FXoyINa0/yMzMilNY01BENEk6F7gLGABcExFLJJ2dbb8KmAMcDywFNgJnFlVPptvNS72snuqtp1qhvuqtp1qhvuqtp1qhoHoVsVWTvJmZVYhHFpuZVZyDwMys4ioRBJJ2l3SvpEclLZF0Xtk1tUfS9pJ+L+nhrNavll1THpIGSPqDpNvLrqUjkp6U9IikhZLml11PZyQNlXSTpD9lv7+HlV1TWyTtlf2dbnmtl/TJsuvqiKRPZf/HFku6UdL2ZdfUHknnZXUuKeLvtRL3CLLRyrtFxEOSdgQWAO+LiD+WXNpWJAkYHBEvSxoI3A+cl4287rMkfRpoBHaKiPeUXU97JD0JNEZEXQwiknQd8NuIuDrrfTcoIl4ouawOZdPLrAIOiYinyq6nLZJGkP5vjYuIVyT9FJgTET8st7KtSdqXNDPDBGATcCfw0Yj4c0/9jEpcEUTEmoh4KPv+JeBR0gjmPiebbuPlbHFg9urTaS1pJHACcHXZtfQnknYCjgB+ABARm/p6CGQmAX/pqyFQowHYQVIDMIi+O4Zpb+DBiNgYEU3AfcC/9OQPqEQQ1JK0B3AgMLfkUtqVNbMsBJ4B7omIPltr5hLg80BzyXXkEcDdkhZkU5f0ZW8H1gLXZs1uV0saXHZROUwFbiy7iI5ExCrgW8By0pQ2L0bE3eVW1a7FwBGShkkaROpyv3sn73lDKhUEkt4E3Ax8MiLWl11PeyJic0QcQBppPSG7NOyTJL0HeCYiFpRdS04TI2I8aebbj0k6ouyCOtAAjAeujIgDgQ3AVtO59yVZ89WJwM/KrqUjknYmTXo5GngrMFjS6eVW1baIeBT4H+AeUrPQw0BTT/6MygRB1t5+M/DjiJhVdj15ZM0AvwYml1tJhyYCJ2Zt7zOBYyT9qNyS2hcRq7OvzwC3kNpd+6qVwMqaK8KbSMHQl00BHoqIp8supBPvBp6IiLUR8RowC3hnyTW1KyJ+EBHjI+II4Dmgx+4PQEWCILsB+wPg0Yi4uOx6OiJpuKSh2fc7kH5h/1RqUR2IiAsiYmRE7EFqEvhVRPTJMytJg7POAmRNLMeSLrv7pIj4K7BC0l7ZqklAn+vg0Mo0+nizUGY5cKikQdnxYRLp3mGfJOnN2ddRwPvp4b/jImcf7UsmAv8KPJK1vQN8MSLmlFdSu3YDrst6XmwD/DQi+nSXzDryFuCW9P+eBuCGiLiz3JI69XHgx1mTyzKKn4aly7L2638GPlJ2LZ2JiLmSbgIeIjWz/IG+Pd3EzZKGAa8BH4uI53vywyvRfdTMzNpXiaYhMzNrn4PAzKziHARmZhXnIDAzqzgHgZlZxTkIzHqApD0k9dkxCWYdcRCYmVWcg8Csh0l6ezZJ3MFl12KWh4PArAdl00HcDJwZEfPKrscsj6pMMWHWG4YDtwEnR8SSsosxy8tXBGY950VgBWluK7O64SsCs56zCXgfcJeklyPihpLrMcvFQWDWgyJiQ/awnnskbYiI28quyawznn3UzKzifI/AzKziHARmZhXnIDAzqzgHgZlZxTkIzMwqzkFgZlZxDgIzs4r7/2LFV76+eMO+AAAAAElFTkSuQmCC\n",
      "text/plain": [
       "<Figure size 432x288 with 1 Axes>"
      ]
     },
     "metadata": {
      "needs_background": "light"
     },
     "output_type": "display_data"
    }
   ],
   "source": [
    "#Run this 5\n",
    "if k == k_values[0]:\n",
    "        DataViz.plot_dendrogram(dataset_cluster, l)\n",
    "DataViz.plot_xy(x=[k_values], y=[silhouette_values], xlabel='k', ylabel='silhouette score',\n",
    "                ylim=[0, 1], line_styles=['b-'])"
   ]
  },
  {
   "cell_type": "markdown",
   "metadata": {},
   "source": [
    "# Gyroscope"
   ]
  },
  {
   "cell_type": "markdown",
   "metadata": {},
   "source": [
    "## K-means"
   ]
  },
  {
   "cell_type": "code",
   "execution_count": 10,
   "metadata": {},
   "outputs": [
    {
     "name": "stdout",
     "output_type": "stream",
     "text": [
      "k = 2\n",
      "silhouette = 0.6959571315421855\n",
      "k = 3\n",
      "silhouette = 0.6638825154440575\n",
      "k = 4\n",
      "silhouette = 0.6729545493827354\n",
      "k = 5\n",
      "silhouette = 0.6668484180544135\n",
      "k = 6\n",
      "silhouette = 0.673632706999779\n",
      "k = 7\n",
      "silhouette = 0.6539879786739972\n",
      "k = 8\n",
      "silhouette = 0.6609327653745372\n",
      "k = 9\n",
      "silhouette = 0.6738062518260937\n"
     ]
    }
   ],
   "source": [
    "k_values = range(2, 10)\n",
    "silhouette_values = []\n",
    "\n",
    "for k in k_values:\n",
    "    print(f'k = {k}')\n",
    "    dataset_cluster = clusteringNH.k_means_over_instances(copy.deepcopy(\n",
    "        dataset), ['gyr_x', 'gyr_y', 'gyr_z'], k, 'default', 20, 10)\n",
    "    silhouette_score = dataset_cluster['silhouette'].mean()\n",
    "    print(f'silhouette = {silhouette_score}')\n",
    "    silhouette_values.append(silhouette_score)"
   ]
  },
  {
   "cell_type": "code",
   "execution_count": 11,
   "metadata": {},
   "outputs": [
    {
     "name": "stdout",
     "output_type": "stream",
     "text": [
      "Figure saved to figures\\figure_6.png\n"
     ]
    },
    {
     "data": {
      "image/png": "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\n",
      "text/plain": [
       "<Figure size 432x288 with 1 Axes>"
      ]
     },
     "metadata": {
      "needs_background": "light"
     },
     "output_type": "display_data"
    },
    {
     "name": "stdout",
     "output_type": "stream",
     "text": [
      "Highest K-Means silhouette score: k = 2\n"
     ]
    }
   ],
   "source": [
    "DataViz.plot_xy(x=[k_values], y=[silhouette_values], \n",
    "                xlabel='k', ylabel='silhouette score',ylim=[0, 1], line_styles=['b-'])\n",
    "k = k_values[np.argmax(silhouette_values)]\n",
    "print(f'Highest K-Means silhouette score: k = {k}')"
   ]
  },
  {
   "cell_type": "markdown",
   "metadata": {},
   "source": [
    "## Kmediods"
   ]
  },
  {
   "cell_type": "code",
   "execution_count": 12,
   "metadata": {},
   "outputs": [
    {
     "name": "stdout",
     "output_type": "stream",
     "text": [
      "k = 2\n",
      "silhouette = 0.6180831224392204\n",
      "k = 3\n",
      "silhouette = 0.6464462046173635\n",
      "k = 4\n",
      "silhouette = 0.6411889864908246\n",
      "k = 5\n",
      "silhouette = 0.6562908562103986\n",
      "k = 6\n",
      "silhouette = 0.6419529985142339\n",
      "k = 7\n",
      "silhouette = 0.6484771126095549\n",
      "k = 8\n"
     ]
    },
    {
     "ename": "KeyboardInterrupt",
     "evalue": "",
     "output_type": "error",
     "traceback": [
      "\u001b[1;31m---------------------------------------------------------------------------\u001b[0m",
      "\u001b[1;31mKeyboardInterrupt\u001b[0m                         Traceback (most recent call last)",
      "\u001b[1;32m<ipython-input-12-c363db82afe1>\u001b[0m in \u001b[0;36m<module>\u001b[1;34m\u001b[0m\n\u001b[0;32m      5\u001b[0m     \u001b[0mprint\u001b[0m\u001b[1;33m(\u001b[0m\u001b[1;34mf'k = {k}'\u001b[0m\u001b[1;33m)\u001b[0m\u001b[1;33m\u001b[0m\u001b[1;33m\u001b[0m\u001b[0m\n\u001b[0;32m      6\u001b[0m     dataset_cluster = clusteringNH.k_medoids_over_instances(copy.deepcopy(\n\u001b[1;32m----> 7\u001b[1;33m         dataset), ['gyr_x', 'gyr_y', 'gyr_z'], k, 'default', 20, n_inits=10)\n\u001b[0m\u001b[0;32m      8\u001b[0m     \u001b[0msilhouette_score\u001b[0m \u001b[1;33m=\u001b[0m \u001b[0mdataset_cluster\u001b[0m\u001b[1;33m[\u001b[0m\u001b[1;34m'silhouette'\u001b[0m\u001b[1;33m]\u001b[0m\u001b[1;33m.\u001b[0m\u001b[0mmean\u001b[0m\u001b[1;33m(\u001b[0m\u001b[1;33m)\u001b[0m\u001b[1;33m\u001b[0m\u001b[1;33m\u001b[0m\u001b[0m\n\u001b[0;32m      9\u001b[0m     \u001b[0mprint\u001b[0m\u001b[1;33m(\u001b[0m\u001b[1;34mf'silhouette = {silhouette_score}'\u001b[0m\u001b[1;33m)\u001b[0m\u001b[1;33m\u001b[0m\u001b[1;33m\u001b[0m\u001b[0m\n",
      "\u001b[1;32m~\\OneDrive\\VU-Cources\\Machine-Learning-for-the-Quantified-Self\\assignments\\ML4QS\\assignment02\\Chapter5\\Clustering.py\u001b[0m in \u001b[0;36mk_medoids_over_instances\u001b[1;34m(self, dataset, cols, k, distance_metric, max_iters, n_inits, p)\u001b[0m\n\u001b[0;32m    171\u001b[0m         \u001b[1;32mif\u001b[0m \u001b[0mdistance_metric\u001b[0m \u001b[1;33m==\u001b[0m \u001b[1;34m'default'\u001b[0m\u001b[1;33m:\u001b[0m\u001b[1;33m\u001b[0m\u001b[1;33m\u001b[0m\u001b[0m\n\u001b[0;32m    172\u001b[0m             \u001b[0mkm\u001b[0m \u001b[1;33m=\u001b[0m \u001b[0mpyclust\u001b[0m\u001b[1;33m.\u001b[0m\u001b[0mKMedoids\u001b[0m\u001b[1;33m(\u001b[0m\u001b[0mn_clusters\u001b[0m\u001b[1;33m=\u001b[0m\u001b[0mk\u001b[0m\u001b[1;33m,\u001b[0m \u001b[0mn_trials\u001b[0m\u001b[1;33m=\u001b[0m\u001b[0mn_inits\u001b[0m\u001b[1;33m)\u001b[0m\u001b[1;33m\u001b[0m\u001b[1;33m\u001b[0m\u001b[0m\n\u001b[1;32m--> 173\u001b[1;33m             \u001b[0mkm\u001b[0m\u001b[1;33m.\u001b[0m\u001b[0mfit\u001b[0m\u001b[1;33m(\u001b[0m\u001b[0mtemp_dataset\u001b[0m\u001b[1;33m.\u001b[0m\u001b[0mvalues\u001b[0m\u001b[1;33m)\u001b[0m\u001b[1;33m\u001b[0m\u001b[1;33m\u001b[0m\u001b[0m\n\u001b[0m\u001b[0;32m    174\u001b[0m             \u001b[0mcluster_assignment\u001b[0m \u001b[1;33m=\u001b[0m \u001b[0mkm\u001b[0m\u001b[1;33m.\u001b[0m\u001b[0mlabels_\u001b[0m\u001b[1;33m\u001b[0m\u001b[1;33m\u001b[0m\u001b[0m\n\u001b[0;32m    175\u001b[0m \u001b[1;33m\u001b[0m\u001b[0m\n",
      "\u001b[1;32m~\\anaconda3\\lib\\site-packages\\pyclust\\_kmedoids.py\u001b[0m in \u001b[0;36mfit\u001b[1;34m(self, X)\u001b[0m\n\u001b[0;32m    132\u001b[0m         \"\"\"\n\u001b[0;32m    133\u001b[0m         \u001b[0mself\u001b[0m\u001b[1;33m.\u001b[0m\u001b[0mcenters_\u001b[0m\u001b[1;33m,\u001b[0m \u001b[0mself\u001b[0m\u001b[1;33m.\u001b[0m\u001b[0mlabels_\u001b[0m\u001b[1;33m,\u001b[0m \u001b[0mself\u001b[0m\u001b[1;33m.\u001b[0m\u001b[0msse_arr_\u001b[0m\u001b[1;33m,\u001b[0m \u001b[0mself\u001b[0m\u001b[1;33m.\u001b[0m\u001b[0mn_iter_\u001b[0m \u001b[1;33m=\u001b[0m\u001b[0;31m \u001b[0m\u001b[0;31m\\\u001b[0m\u001b[1;33m\u001b[0m\u001b[1;33m\u001b[0m\u001b[0m\n\u001b[1;32m--> 134\u001b[1;33m               \u001b[0m_kmedoids\u001b[0m\u001b[1;33m(\u001b[0m\u001b[0mX\u001b[0m\u001b[1;33m,\u001b[0m \u001b[0mself\u001b[0m\u001b[1;33m.\u001b[0m\u001b[0mn_clusters\u001b[0m\u001b[1;33m,\u001b[0m \u001b[0mself\u001b[0m\u001b[1;33m.\u001b[0m\u001b[0mdistance\u001b[0m\u001b[1;33m,\u001b[0m \u001b[0mself\u001b[0m\u001b[1;33m.\u001b[0m\u001b[0mmax_iter\u001b[0m\u001b[1;33m,\u001b[0m \u001b[0mself\u001b[0m\u001b[1;33m.\u001b[0m\u001b[0mn_trials\u001b[0m\u001b[1;33m,\u001b[0m \u001b[0mself\u001b[0m\u001b[1;33m.\u001b[0m\u001b[0mtol\u001b[0m\u001b[1;33m,\u001b[0m \u001b[0mself\u001b[0m\u001b[1;33m.\u001b[0m\u001b[0mrng\u001b[0m\u001b[1;33m)\u001b[0m\u001b[1;33m\u001b[0m\u001b[1;33m\u001b[0m\u001b[0m\n\u001b[0m\u001b[0;32m    135\u001b[0m \u001b[1;33m\u001b[0m\u001b[0m\n\u001b[0;32m    136\u001b[0m \u001b[1;33m\u001b[0m\u001b[0m\n",
      "\u001b[1;32m~\\anaconda3\\lib\\site-packages\\pyclust\\_kmedoids.py\u001b[0m in \u001b[0;36m_kmedoids\u001b[1;34m(X, n_clusters, distance, max_iter, n_trials, tol, rng)\u001b[0m\n\u001b[0;32m     60\u001b[0m     \u001b[1;32mfor\u001b[0m \u001b[0mi\u001b[0m \u001b[1;32min\u001b[0m \u001b[0mrange\u001b[0m\u001b[1;33m(\u001b[0m\u001b[0mn_trials\u001b[0m\u001b[1;33m)\u001b[0m\u001b[1;33m:\u001b[0m\u001b[1;33m\u001b[0m\u001b[1;33m\u001b[0m\u001b[0m\n\u001b[0;32m     61\u001b[0m         \u001b[0mcenters\u001b[0m\u001b[1;33m,\u001b[0m \u001b[0mlabels\u001b[0m\u001b[1;33m,\u001b[0m \u001b[0msse_tot\u001b[0m\u001b[1;33m,\u001b[0m \u001b[0msse_arr\u001b[0m\u001b[1;33m,\u001b[0m \u001b[0mn_iter\u001b[0m  \u001b[1;33m=\u001b[0m\u001b[0;31m \u001b[0m\u001b[0;31m\\\u001b[0m\u001b[1;33m\u001b[0m\u001b[1;33m\u001b[0m\u001b[0m\n\u001b[1;32m---> 62\u001b[1;33m                \u001b[0m_kmedoids_run\u001b[0m\u001b[1;33m(\u001b[0m\u001b[0mX\u001b[0m\u001b[1;33m,\u001b[0m \u001b[0mn_clusters\u001b[0m\u001b[1;33m,\u001b[0m \u001b[0mdistance\u001b[0m\u001b[1;33m,\u001b[0m \u001b[0mmax_iter\u001b[0m\u001b[1;33m,\u001b[0m \u001b[0mtol\u001b[0m\u001b[1;33m,\u001b[0m \u001b[0mrng\u001b[0m\u001b[1;33m)\u001b[0m\u001b[1;33m\u001b[0m\u001b[1;33m\u001b[0m\u001b[0m\n\u001b[0m\u001b[0;32m     63\u001b[0m         \u001b[1;32mif\u001b[0m \u001b[0mi\u001b[0m\u001b[1;33m==\u001b[0m\u001b[1;36m0\u001b[0m\u001b[1;33m:\u001b[0m\u001b[1;33m\u001b[0m\u001b[1;33m\u001b[0m\u001b[0m\n\u001b[0;32m     64\u001b[0m             \u001b[0msse_tot_best\u001b[0m \u001b[1;33m=\u001b[0m \u001b[0msse_tot\u001b[0m\u001b[1;33m\u001b[0m\u001b[1;33m\u001b[0m\u001b[0m\n",
      "\u001b[1;32m~\\anaconda3\\lib\\site-packages\\pyclust\\_kmedoids.py\u001b[0m in \u001b[0;36m_kmedoids_run\u001b[1;34m(X, n_clusters, distance, max_iter, tol, rng)\u001b[0m\n\u001b[0;32m     40\u001b[0m     \u001b[1;32mfor\u001b[0m \u001b[0mit\u001b[0m \u001b[1;32min\u001b[0m \u001b[0mrange\u001b[0m\u001b[1;33m(\u001b[0m\u001b[1;36m1\u001b[0m\u001b[1;33m,\u001b[0m\u001b[0mmax_iter\u001b[0m\u001b[1;33m)\u001b[0m\u001b[1;33m:\u001b[0m\u001b[1;33m\u001b[0m\u001b[1;33m\u001b[0m\u001b[0m\n\u001b[0;32m     41\u001b[0m         \u001b[0mmembs\u001b[0m \u001b[1;33m=\u001b[0m \u001b[0mkmeans\u001b[0m\u001b[1;33m.\u001b[0m\u001b[0m_assign_clusters\u001b[0m\u001b[1;33m(\u001b[0m\u001b[0mX\u001b[0m\u001b[1;33m,\u001b[0m \u001b[0mcenters\u001b[0m\u001b[1;33m)\u001b[0m\u001b[1;33m\u001b[0m\u001b[1;33m\u001b[0m\u001b[0m\n\u001b[1;32m---> 42\u001b[1;33m         \u001b[0mcenters\u001b[0m\u001b[1;33m,\u001b[0m\u001b[0msse_arr\u001b[0m \u001b[1;33m=\u001b[0m \u001b[0m_update_centers\u001b[0m\u001b[1;33m(\u001b[0m\u001b[0mX\u001b[0m\u001b[1;33m,\u001b[0m \u001b[0mmembs\u001b[0m\u001b[1;33m,\u001b[0m \u001b[0mn_clusters\u001b[0m\u001b[1;33m,\u001b[0m \u001b[0mdistance\u001b[0m\u001b[1;33m)\u001b[0m\u001b[1;33m\u001b[0m\u001b[1;33m\u001b[0m\u001b[0m\n\u001b[0m\u001b[0;32m     43\u001b[0m         \u001b[0msse_total\u001b[0m \u001b[1;33m=\u001b[0m \u001b[0mnp\u001b[0m\u001b[1;33m.\u001b[0m\u001b[0msum\u001b[0m\u001b[1;33m(\u001b[0m\u001b[0msse_arr\u001b[0m\u001b[1;33m)\u001b[0m\u001b[1;33m\u001b[0m\u001b[1;33m\u001b[0m\u001b[0m\n\u001b[0;32m     44\u001b[0m         \u001b[1;32mif\u001b[0m \u001b[0mnp\u001b[0m\u001b[1;33m.\u001b[0m\u001b[0mabs\u001b[0m\u001b[1;33m(\u001b[0m\u001b[0msse_total\u001b[0m \u001b[1;33m-\u001b[0m \u001b[0msse_last\u001b[0m\u001b[1;33m)\u001b[0m \u001b[1;33m<\u001b[0m \u001b[0mtol\u001b[0m\u001b[1;33m:\u001b[0m\u001b[1;33m\u001b[0m\u001b[1;33m\u001b[0m\u001b[0m\n",
      "\u001b[1;32m~\\anaconda3\\lib\\site-packages\\pyclust\\_kmedoids.py\u001b[0m in \u001b[0;36m_update_centers\u001b[1;34m(X, membs, n_clusters, distance)\u001b[0m\n\u001b[0;32m     20\u001b[0m         \u001b[0mdist\u001b[0m \u001b[1;33m=\u001b[0m \u001b[0mnp\u001b[0m\u001b[1;33m.\u001b[0m\u001b[0mempty\u001b[0m\u001b[1;33m(\u001b[0m\u001b[0mshape\u001b[0m\u001b[1;33m=\u001b[0m\u001b[0mmemb_ids\u001b[0m\u001b[1;33m.\u001b[0m\u001b[0mshape\u001b[0m\u001b[1;33m[\u001b[0m\u001b[1;36m0\u001b[0m\u001b[1;33m]\u001b[0m\u001b[1;33m,\u001b[0m \u001b[0mdtype\u001b[0m\u001b[1;33m=\u001b[0m\u001b[0mfloat\u001b[0m\u001b[1;33m)\u001b[0m\u001b[1;33m\u001b[0m\u001b[1;33m\u001b[0m\u001b[0m\n\u001b[0;32m     21\u001b[0m         \u001b[1;32mfor\u001b[0m \u001b[0mi\u001b[0m\u001b[1;33m,\u001b[0m\u001b[0mx\u001b[0m \u001b[1;32min\u001b[0m \u001b[0menumerate\u001b[0m\u001b[1;33m(\u001b[0m\u001b[0mX_clust\u001b[0m\u001b[1;33m)\u001b[0m\u001b[1;33m:\u001b[0m\u001b[1;33m\u001b[0m\u001b[1;33m\u001b[0m\u001b[0m\n\u001b[1;32m---> 22\u001b[1;33m            \u001b[0mdist\u001b[0m\u001b[1;33m[\u001b[0m\u001b[0mi\u001b[0m\u001b[1;33m]\u001b[0m \u001b[1;33m=\u001b[0m \u001b[0mnp\u001b[0m\u001b[1;33m.\u001b[0m\u001b[0msum\u001b[0m\u001b[1;33m(\u001b[0m\u001b[0mscipy\u001b[0m\u001b[1;33m.\u001b[0m\u001b[0mspatial\u001b[0m\u001b[1;33m.\u001b[0m\u001b[0mdistance\u001b[0m\u001b[1;33m.\u001b[0m\u001b[0mcdist\u001b[0m\u001b[1;33m(\u001b[0m\u001b[0mX_clust\u001b[0m\u001b[1;33m,\u001b[0m \u001b[0mnp\u001b[0m\u001b[1;33m.\u001b[0m\u001b[0marray\u001b[0m\u001b[1;33m(\u001b[0m\u001b[1;33m[\u001b[0m\u001b[0mx\u001b[0m\u001b[1;33m]\u001b[0m\u001b[1;33m)\u001b[0m\u001b[1;33m,\u001b[0m \u001b[0mdistance\u001b[0m\u001b[1;33m)\u001b[0m\u001b[1;33m)\u001b[0m\u001b[1;33m\u001b[0m\u001b[1;33m\u001b[0m\u001b[0m\n\u001b[0m\u001b[0;32m     23\u001b[0m \u001b[1;33m\u001b[0m\u001b[0m\n\u001b[0;32m     24\u001b[0m         \u001b[0minx_min\u001b[0m \u001b[1;33m=\u001b[0m \u001b[0mnp\u001b[0m\u001b[1;33m.\u001b[0m\u001b[0margmin\u001b[0m\u001b[1;33m(\u001b[0m\u001b[0mdist\u001b[0m\u001b[1;33m)\u001b[0m\u001b[1;33m\u001b[0m\u001b[1;33m\u001b[0m\u001b[0m\n",
      "\u001b[1;32m~\\anaconda3\\lib\\site-packages\\scipy\\spatial\\distance.py\u001b[0m in \u001b[0;36mcdist\u001b[1;34m(XA, XB, metric, *args, **kwargs)\u001b[0m\n\u001b[0;32m   2807\u001b[0m             cdist_fn = getattr(_distance_wrap,\n\u001b[0;32m   2808\u001b[0m                                \"cdist_%s_%s_wrap\" % (metric_name, typ))\n\u001b[1;32m-> 2809\u001b[1;33m             \u001b[0mcdist_fn\u001b[0m\u001b[1;33m(\u001b[0m\u001b[0mXA\u001b[0m\u001b[1;33m,\u001b[0m \u001b[0mXB\u001b[0m\u001b[1;33m,\u001b[0m \u001b[0mdm\u001b[0m\u001b[1;33m,\u001b[0m \u001b[1;33m**\u001b[0m\u001b[0mkwargs\u001b[0m\u001b[1;33m)\u001b[0m\u001b[1;33m\u001b[0m\u001b[1;33m\u001b[0m\u001b[0m\n\u001b[0m\u001b[0;32m   2810\u001b[0m             \u001b[1;32mreturn\u001b[0m \u001b[0mdm\u001b[0m\u001b[1;33m\u001b[0m\u001b[1;33m\u001b[0m\u001b[0m\n\u001b[0;32m   2811\u001b[0m \u001b[1;33m\u001b[0m\u001b[0m\n",
      "\u001b[1;31mKeyboardInterrupt\u001b[0m: "
     ]
    }
   ],
   "source": [
    "k_values = range(2, 10)\n",
    "silhouette_values = []\n",
    "\n",
    "for k in k_values:\n",
    "    print(f'k = {k}')\n",
    "    dataset_cluster = clusteringNH.k_medoids_over_instances(copy.deepcopy(\n",
    "        dataset), ['gyr_x', 'gyr_y', 'gyr_z'], k, 'default', 20, n_inits=10)\n",
    "    silhouette_score = dataset_cluster['silhouette'].mean()\n",
    "    print(f'silhouette = {silhouette_score}')\n",
    "    silhouette_values.append(silhouette_score)"
   ]
  },
  {
   "cell_type": "code",
   "execution_count": null,
   "metadata": {},
   "outputs": [],
   "source": [
    "DataViz.plot_xy(x=[k_values], y=[silhouette_values], xlabel='k', ylabel='silhouette score',\n",
    "                ylim=[0, 1], line_styles=['b-'])\n",
    "\n",
    "k = k_values[np.argmax(silhouette_values)]\n",
    "print(f'Highest K-Medoids silhouette score: k = {k}')\n",
    "\n",
    "dataset_kmed = clusteringNH.k_medoids_over_instances(copy.deepcopy(dataset), \n",
    "                                                     ['gyr_x', 'gyr_y', 'gyr_z'], \n",
    "                                                     k, 'default', 20, n_inits=50)\n",
    "DataViz.plot_clusters_3d(dataset_kmed, ['gyr_x', 'gyr_y', 'gyr_z'], 'cluster', ['label'])\n",
    "DataViz.plot_silhouette(dataset_kmed, 'cluster', 'silhouette')\n",
    "util.print_latex_statistics_clusters(dataset_kmed, 'cluster', \n",
    "                                     ['gyr_x', 'gyr_y', 'gyr_z'], 'label')"
   ]
  },
  {
   "cell_type": "markdown",
   "metadata": {},
   "source": [
    "## hierarchical"
   ]
  },
  {
   "cell_type": "code",
   "execution_count": 13,
   "metadata": {},
   "outputs": [
    {
     "name": "stdout",
     "output_type": "stream",
     "text": [
      "k = 2\n",
      "silhouette = 0.01208998056714388\n",
      "k = 3\n",
      "silhouette = -0.11719844925402927\n",
      "k = 4\n",
      "silhouette = -0.17533564933500276\n",
      "k = 5\n",
      "silhouette = -0.3677203308067084\n",
      "k = 6\n",
      "silhouette = -0.3686145923737548\n",
      "k = 7\n",
      "silhouette = -0.3376685759814074\n",
      "k = 8\n",
      "silhouette = -0.27165443178411675\n",
      "k = 9\n",
      "silhouette = -0.2713257458667252\n"
     ]
    }
   ],
   "source": [
    "#Run this 6\n",
    "k_values = range(2, 10)\n",
    "silhouette_values = []\n",
    "\n",
    "for k in k_values:\n",
    "    print(f'k = {k}')\n",
    "    dataset_cluster, l = clusteringH.agglomerative_over_instances(dataset, \n",
    "                                                          ['gyr_x', 'gyr_y', 'gyr_z'], \n",
    "                                                          k, 'euclidean', use_prev_linkage=True, \n",
    "                                                          link_function='ward')\n",
    "    silhouette_score = dataset_cluster['silhouette'].mean()\n",
    "    print(f'silhouette = {silhouette_score}')\n",
    "    silhouette_values.append(silhouette_score)"
   ]
  },
  {
   "cell_type": "code",
   "execution_count": 14,
   "metadata": {},
   "outputs": [
    {
     "name": "stdout",
     "output_type": "stream",
     "text": [
      "Figure saved to figures\\figure_7.png\n"
     ]
    },
    {
     "data": {
      "image/png": "iVBORw0KGgoAAAANSUhEUgAAAYIAAAEKCAYAAAAfGVI8AAAAOXRFWHRTb2Z0d2FyZQBNYXRwbG90bGliIHZlcnNpb24zLjMuNCwgaHR0cHM6Ly9tYXRwbG90bGliLm9yZy8QVMy6AAAACXBIWXMAAAsTAAALEwEAmpwYAAAThklEQVR4nO3dfbRldX3f8ffHGagwAUlkdJkZnuwiIFFRckUjLTWx6oxaibVaMI+Y1QldYEnoSkUT29r8lZX6uMJDJogPbZQkQgJxTSV2NZKmVGUGGWBAkumgzDBQBh94dEkGvv3j7HGd3rn3zhbuPufe+b1fa501sx/OOR9mMfO5+7f3/u1UFZKkdj1r2gEkSdNlEUhS4ywCSWqcRSBJjbMIJKlxFoEkNW6wIkhyZZIHktw+z/Yk+ViS7UluTXLaUFkkSfMb8ojgk8C6BbavB07sXhuAywbMIkmax2BFUFV/DXx7gV3OAj5dI18GjkrygqHySJLmtnKK370G2Dm2vKtbd9/sHZNsYHTUwKpVq37q5JNPnkhASTpYbNmy5cGqWj3XtmkWQeZYN+d8F1W1EdgIMDMzU5s3bx4ylyQddJJ8c75t07xqaBdwzNjyWmD3lLJIUrOmWQTXAb/UXT30KuChqtpvWEiSNKzBhoaSfBZ4DXB0kl3AfwAOAaiqy4FNwBuB7cDjwLlDZZEkzW+wIqiqcw6wvYDzh/p+SVI/3lksSY2zCCSpcRaBJDXOIpCkxlkEktQ4i0CSGmcRSFLjLAJJapxFIEmNswgkqXEWgSQ1ziKQpMZZBJLUOItAkhpnEUhS4ywCSWqcRSBJjbMIJKlxFoEkNc4ikKTGWQSS1DiLQJIaZxFIUuMsAklqnEUgSY2zCCSpcRaBJDXOIpCkxlkEktQ4i0CSGmcRSFLjLAJJapxFIEmNswgkqXEWgSQ1btAiSLIuyV1Jtie5eI7tz0nyF0m2JtmW5Nwh80iS9jdYESRZAVwCrAdOAc5Jcsqs3c4H7qiqU4HXAB9McuhQmSRJ+xvyiOB0YHtV7aiqJ4CrgLNm7VPAEUkC/AjwbWDvgJkkSbMMWQRrgJ1jy7u6deN+H3gRsBu4Dbiwqp6a/UFJNiTZnGTznj17hsorSU0asggyx7qatfwG4Bbgx4GXAb+f5Mj93lS1sapmqmpm9erVi51Tkpo2ZBHsAo4ZW17L6Cf/cecC19TIduBu4OQBM0mSZhmyCG4CTkxyQncC+Gzguln73AO8FiDJ84GTgB0DZpIkzbJyqA+uqr1JLgCuB1YAV1bVtiTnddsvB34H+GSS2xgNJb2nqh4cKpMkaX+DFQFAVW0CNs1ad/nY73cDrx8ygyRpYd5ZLEmNswgkqXEWgSQ1ziKQpMZZBJLUOItAkhpnEUhS4ywCSWqcRSBJjbMIJKlxFoEkNc4ikKTGWQSS1DiLQJIaZxFIUuMsAklqnEUgSY2zCCSpcRaBJDXOIpCkxlkEktS43kWQZNWQQSRJ03HAIkjy6iR3AHd2y6cmuXTwZJKkiehzRPBh4A3AtwCqaitw5pChJEmT02toqKp2zlr15ABZJElTsLLHPjuTvBqoJIcC/4ZumEiStPz1OSI4DzgfWAPsAl7WLUuSDgILHhEkWQF8pKp+fkJ5JEkTtuARQVU9CazuhoQkSQehPucIvgH8ryTXAY/tW1lVHxoqlCRpcvoUwe7u9SzgiGHjSJIm7YBFUFUfAEhyxGixHh08lSRpYvrcWfziJF8Dbge2JdmS5CeHjyZJmoQ+l49uBC6qquOq6jjg3wJ/OGwsSdKk9CmCVVX1V/sWqupLQK8J6JKsS3JXku1JLp5nn9ckuSXJtiQ39EotSVo0fU4W70jyfuC/dMu/ANx9oDd19yBcAryO0Y1oNyW5rqruGNvnKOBSYF1V3ZPkeT9kfknSM9TniOBdwGrgmu51NHBuj/edDmyvqh1V9QRwFXDWrH3eCVxTVfcAVNUDfYNLkhZHn6uGvsNofqEf1hpgfLK6XcArZ+3zE8AhSb7E6NLUj1bVp2d/UJINwAaAY4899mlEkSTNp89VQ1/shnD2Lf9okut7fHbmWFezllcCPwW8idFU1+9P8hP7valqY1XNVNXM6tWre3y1JKmvPucIjq6q7+5bqKrv9BzL3wUcM7a8ltGNabP3ebCqHgMeS/LXwKnA3/b4fEnSIuhzjuCpJD8Yj0lyHPv/ZD+Xm4ATk5zQzVV0NnDdrH2uBf5xkpVJDmc0dOQU15I0QX2OCH4L+JuxSzvPpBuvX0hV7U1yAXA9sAK4sqq2JTmv2355Vd2Z5AvArcBTwBVVdfvT+Q+RJD09qTrwD/dJjgZexWjc/39X1YNDB5vPzMxMbd68eVpfL0nLUpItVTUz17Y+J4vPAL5XVZ8HngO8rxsekiQdBPqcI7gMeDzJqcBvAt8E9rvEU5K0PPUpgr01Gj86C/hYVX0Up6OWpINGn5PFjyR5L6OpJc7spo44ZNhYkqRJ6XNE8C+B7wO/WlX3M7pj+PcGTSVJmpg+U0zcD3xobPkePEcgSQeNPkcEkqSDmEUgSY3rVQRJDkty0tBhJEmT1+eGsn8G3AJ8oVt+WZLZcwZJkpapPkcE/5HRQ2a+C1BVtwDHDxVIkjRZfW8oe2jwJJKkqehzQ9ntSd4JrEhyIqOnld04bCxJ0qT0OSJ4N/CTjG4q+wzwEHDhkKEkSZPT54jgTVX1W4yeSwBAkrcDfzpYKknSxPQ5Inhvz3WSpGVo3iOCJOuBNwJrknxsbNORwN6hg0mSJmOhoaHdwGbgLcCWsfWPAL8xZChJ0uTMWwRVtRXYmuT5VfWp8W1JLgQ+OnQ4SdLw+pwjOHuOdb+yyDkkSVOy0DmCc4B3AifMmlLiCOBbQweTJE3GQucIbgTuA44GPji2/hHg1iFDSZImZ6FzBN9k9KD6n05yHHBiVf33JIcBhzEqBEnSMtdn9tF/BXwO+INu1VrgzwfMJEmaoD4ni88HzgAeBqiqvwOeN2QoSdLk9CmC71fVE/sWkqwEarhIkqRJ6lMENyR5H3BYktcxmmPoL4aNJUmalD5FcDGwB7gN+DVgE/DbQ4aSJE3OAWcfraqngD/sXpKkg8wBiyDJ3cxxTqCqXjhIIknSRPV5HsHM2O+fDbwd+LFh4kiSJu2A5wiq6ltjr3ur6iPAzw4fTZI0CX2Ghk4bW3wWoyOEIwZLJEmaqD5DQ+PzDO0FvgG8Y5A0kqSJ63PV0M9MIogkaTr6zDX0nCQfSrK5e30wyXP6fHiSdUnuSrI9ycUL7PeKJE8m+Rc/THhJ0jPX54ayKxnNNPqO7vUw8IkDvSnJCuASYD1wCnBOklPm2e93gev7x5YkLZY+5wj+YVW9bWz5A0lu6fG+04HtVbUDIMlVwFnAHbP2ezdwNfCKHp8pSVpkfY4IvpfkH+1bSHIG8L0e71sD7Bxb3tWt+4Eka4C3Apcv9EFJNuwbmtqzZ0+Pr5Yk9dXniOA84NPdeYEA36bfM4szx7rZdyh/BHhPVT2ZzLV796aqjcBGgJmZGWc+laRF1Oeqoa3AqUmO7JYf7vnZu4BjxpbXArtn7TMDXNWVwNHAG5Psrao/7/kdkqRnqM8NZf8AeBtwPLBy30/uVfWfDvDWm4ATk5wA3AucDbxzfIeqOmHsez4JfN4SkKTJ6jM0dC3wELAF+H7fD66qvUkuYHQ10ArgyqraluS8bvuC5wUkSZPRpwjWVtW6p/PhVbWJ0fMLxtfNWQBV9StP5zskSc9Mn6uGbkzyksGTSJKmYt4jgiS3MbrKZyVwbpIdjIaGAlRVvXQyESVJQ1poaOjNE0shSZqahYrgkYmlkCRNzUJFsIXR0NB8N4b5qEpJOgjMWwTj1/hLkg5eC50sPrmqvj7rCWU/UFU3DxdLkjQpCw0NXQRs4P9/Qtk+hc8tlqSDwkJDQxu6X31CmSQdxPo8oeztSY7ofv/bSa5J8vLho0mSJqHPncXvr6pHumcSvAH4FAd4foAkafnoUwRPdr++Cbisqq4FDh0ukiRpkvoUwb1J/oDR84o3ddNS93mfJGkZ6PMP+jsYTSW9rqq+C/wY8JtDhpIkTU6fJ5Q9DlwztnwfcN+QoSRJk+MQjyQ1ziKQpMZZBJLUOItAkhpnEUhS4ywCSWqcRSBJjbMIJKlxFoEkNc4ikKTGWQSS1DiLQJIaZxFIUuMsAklqnEUgSY2zCCSpcRaBJDXOIpCkxlkEktS4QYsgybokdyXZnuTiObb/fJJbu9eNSU4dMo8kaX+DFUGSFcAlwHrgFOCcJKfM2u1u4J9U1UuB3wE2DpVHkjS3IY8ITge2V9WOqnoCuAo4a3yHqrqxqr7TLX4ZWDtgHknSHIYsgjXAzrHlXd26+fwq8N/m2pBkQ5LNSTbv2bNnESNKkoYsgsyxrubcMfkZRkXwnrm2V9XGqpqpqpnVq1cvYkRJ0soBP3sXcMzY8lpg9+ydkrwUuAJYX1XfGjCPJGkOQx4R3AScmOSEJIcCZwPXje+Q5FjgGuAXq+pvB8wiSZrHYEcEVbU3yQXA9cAK4Mqq2pbkvG775cC/B54LXJoEYG9VzQyVSZK0v1TNOWy/ZM3MzNTmzZunHUOSlpUkW+b7Qds7iyWpcRaBJDXOIpCkxlkEktQ4i0CSGmcRSFLjLAJJapxFIEmNswgkqXEWgSQ1ziKQpMZZBJLUOItAkhpnEUhS4ywCSWqcRSBJjbMIJKlxFoEkNc4ikKTGWQSS1DiLQJIaZxFIUuMsAklqnEUgSY2zCCSpcRaBJDXOIpCkxlkEktQ4i0CSGmcRSFLjLAJJapxFIEmNswgkqXEWgSQ1rpkiuPde+OVfhvvvn3YSSVpaBi2CJOuS3JVke5KL59ieJB/rtt+a5LShsnz1q/DHfwwvehF84hNQNdQ3SdLyMlgRJFkBXAKsB04Bzklyyqzd1gMndq8NwGVD5XnrW2HrVnjxi+Fd74LXvx527Bjq2yRp+RjyiOB0YHtV7aiqJ4CrgLNm7XMW8Oka+TJwVJIXDBXopJPghhvg0kvhK1+Bl7wEPvxhePLJob5Rkpa+lQN+9hpg59jyLuCVPfZZA9w3vlOSDYyOGAAeTXLX08x0NPDg+IqLLhq9lqj98i5hyykrLK+8yykrLK+8yykrPLO8x823YcgiyBzrZo/M99mHqtoIbHzGgZLNVTXzTD9nUpZT3uWUFZZX3uWUFZZX3uWUFYbLO+TQ0C7gmLHltcDup7GPJGlAQxbBTcCJSU5IcihwNnDdrH2uA36pu3roVcBDVXXf7A+SJA1nsKGhqtqb5ALgemAFcGVVbUtyXrf9cmAT8EZgO/A4cO5QeTrPeHhpwpZT3uWUFZZX3uWUFZZX3uWUFQbKm/KCeklqWjN3FkuS5mYRSFLjmiiCJMck+askdybZluTCaWeaT5JnJ/lqkq1d1g9MO1MfSVYk+VqSz087y0KSfCPJbUluSbJ52nkOJMlRST6X5Ovd/78/Pe1Mc0lyUvdnuu/1cJJfn3auhST5je7v2O1JPpvk2dPONJ8kF3Y5tw3x59rEOYLubuUXVNXNSY4AtgA/V1V3TDnafpIEWFVVjyY5BPgb4MLuzuslK8lFwAxwZFW9edp55pPkG8BMVS2Lm4iSfAr4n1V1RXf13eFV9d0px1pQN73MvcArq+qb084zlyRrGP3dOqWqvpfkT4BNVfXJ6SbbX5IXM5qZ4XTgCeALwL+uqr9brO9o4oigqu6rqpu73z8C3MnoDuYlp5tu49Fu8ZDutaTbOsla4E3AFdPOcjBJciRwJvBxgKp6YqmXQOe1wP9ZqiUwZiVwWJKVwOEs3XuYXgR8uaoer6q9wA3AWxfzC5oognFJjgdeDnxlylHm1Q2z3AI8AHyxqpZs1s5HgH8HPDXlHH0U8JdJtnRTlyxlLwT2AJ/oht2uSLJq2qF6OBv47LRDLKSq7gX+M3APoyltHqqqv5xuqnndDpyZ5LlJDmd0yf0xB3jPD6WpIkjyI8DVwK9X1cPTzjOfqnqyql7G6E7r07tDwyUpyZuBB6pqy7Sz9HRGVZ3GaObb85OcOe1AC1gJnAZcVlUvBx4D9pvOfSnphq/eAvzptLMsJMmPMpr08gTgx4FVSX5huqnmVlV3Ar8LfJHRsNBWYO9ifkczRdCNt18N/FFVXTPtPH10wwBfAtZNN8mCzgDe0o29XwX8bJL/Ot1I86uq3d2vDwB/xmjcdanaBewaOyL8HKNiWMrWAzdX1f+ddpAD+KfA3VW1p6r+HrgGePWUM82rqj5eVadV1ZnAt4FFOz8AjRRBdwL248CdVfWhaedZSJLVSY7qfn8Yo/9hvz7VUAuoqvdW1dqqOp7RkMD/qKol+ZNVklXdxQJ0QyyvZ3TYvSRV1f3AziQndateCyy5CxxmOYclPizUuQd4VZLDu38fXsvo3OGSlOR53a/HAv+cRf4zHnL20aXkDOAXgdu6sXeA91XVpulFmtcLgE91V148C/iTqlrSl2QuI88H/mz0956VwGeq6gvTjXRA7wb+qBty2cHw07A8bd349euAX5t2lgOpqq8k+RxwM6Nhlq+xtKebuDrJc4G/B86vqu8s5oc3cfmoJGl+TQwNSZLmZxFIUuMsAklqnEUgSY2zCCSpcRaBtAiSHJ9kyd6TIC3EIpCkxlkE0iJL8sJukrhXTDuL1IdFIC2ibjqIq4Fzq+qmaeeR+mhliglpElYD1wJvq6pt0w4j9eURgbR4HgJ2MprbSlo2PCKQFs8TwM8B1yd5tKo+M+U8Ui8WgbSIquqx7mE9X0zyWFVdO+1M0oE4+6gkNc5zBJLUOItAkhpnEUhS4ywCSWqcRSBJjbMIJKlxFoEkNe7/Ad63EhluuC67AAAAAElFTkSuQmCC\n",
      "text/plain": [
       "<Figure size 432x288 with 1 Axes>"
      ]
     },
     "metadata": {
      "needs_background": "light"
     },
     "output_type": "display_data"
    }
   ],
   "source": [
    "#Run this 7\n",
    "if k == k_values[0]:\n",
    "        DataViz.plot_dendrogram(dataset_cluster, l)\n",
    "DataViz.plot_xy(x=[k_values], y=[silhouette_values], xlabel='k', ylabel='silhouette score',\n",
    "                ylim=[0, 1], line_styles=['b-'])"
   ]
  },
  {
   "cell_type": "code",
   "execution_count": null,
   "metadata": {},
   "outputs": [],
   "source": []
  }
 ],
 "metadata": {
  "kernelspec": {
   "display_name": "Python 3",
   "language": "python",
   "name": "python3"
  },
  "language_info": {
   "codemirror_mode": {
    "name": "ipython",
    "version": 3
   },
   "file_extension": ".py",
   "mimetype": "text/x-python",
   "name": "python",
   "nbconvert_exporter": "python",
   "pygments_lexer": "ipython3",
<<<<<<< HEAD
   "version": "3.9.5"
=======
   "version": "3.7.9"
>>>>>>> c4e29ec40d640e0d69106fd17e1b0e99dfb1b419
  }
 },
 "nbformat": 4,
 "nbformat_minor": 4
}
